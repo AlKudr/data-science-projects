{
 "cells": [
  {
   "cell_type": "markdown",
   "metadata": {},
   "source": [
    "# Описание проекта"
   ]
  },
  {
   "cell_type": "markdown",
   "metadata": {},
   "source": [
    "Допустим, вы работаете в добывающей компании «ГлавРосГосНефть». Нужно решить, где бурить новую скважину.\n",
    "\n",
    "Вам предоставлены пробы нефти в трёх регионах: в каждом 10 000 месторождений, где измерили качество нефти и объём её запасов. Постройте модель машинного обучения, которая поможет определить регион, где добыча принесёт наибольшую прибыль. Проанализируйте возможную прибыль и риски техникой *Bootstrap.*"
   ]
  },
  {
   "cell_type": "markdown",
   "metadata": {},
   "source": [
    "### План работ\n",
    " 1. Загрузите и подготовьте данные. Поясните порядок действий.\n",
    " 2. Обучите и проверьте модель для каждого региона:\n",
    " 3. Подготовьтесь к расчёту прибыли:\n",
    " 4. Напишите функцию для расчёта прибыли по выбранным скважинам и предсказаниям модели:\n",
    " 5. Посчитайте риски и прибыль для каждого региона:"
   ]
  },
  {
   "cell_type": "markdown",
   "metadata": {},
   "source": [
    "# 1. Загрузка и подготовка данных"
   ]
  },
  {
   "cell_type": "code",
   "execution_count": 318,
   "metadata": {},
   "outputs": [],
   "source": [
    "import pandas as pd\n",
    "import numpy as np\n",
    "from tqdm import notebook"
   ]
  },
  {
   "cell_type": "code",
   "execution_count": 2,
   "metadata": {},
   "outputs": [],
   "source": [
    "geo_data0 = pd.read_csv('datasets/geo_data/geo_data_0.csv')\n",
    "geo_data1 = pd.read_csv('datasets/geo_data/geo_data_1.csv')\n",
    "geo_data2 = pd.read_csv('datasets/geo_data/geo_data_2.csv')"
   ]
  },
  {
   "cell_type": "code",
   "execution_count": 3,
   "metadata": {},
   "outputs": [
    {
     "data": {
      "text/html": [
       "<div>\n",
       "<style scoped>\n",
       "    .dataframe tbody tr th:only-of-type {\n",
       "        vertical-align: middle;\n",
       "    }\n",
       "\n",
       "    .dataframe tbody tr th {\n",
       "        vertical-align: top;\n",
       "    }\n",
       "\n",
       "    .dataframe thead th {\n",
       "        text-align: right;\n",
       "    }\n",
       "</style>\n",
       "<table border=\"1\" class=\"dataframe\">\n",
       "  <thead>\n",
       "    <tr style=\"text-align: right;\">\n",
       "      <th></th>\n",
       "      <th>id</th>\n",
       "      <th>f0</th>\n",
       "      <th>f1</th>\n",
       "      <th>f2</th>\n",
       "      <th>product</th>\n",
       "    </tr>\n",
       "  </thead>\n",
       "  <tbody>\n",
       "    <tr>\n",
       "      <td>0</td>\n",
       "      <td>txEyH</td>\n",
       "      <td>0.705745</td>\n",
       "      <td>-0.497823</td>\n",
       "      <td>1.221170</td>\n",
       "      <td>105.280062</td>\n",
       "    </tr>\n",
       "    <tr>\n",
       "      <td>1</td>\n",
       "      <td>2acmU</td>\n",
       "      <td>1.334711</td>\n",
       "      <td>-0.340164</td>\n",
       "      <td>4.365080</td>\n",
       "      <td>73.037750</td>\n",
       "    </tr>\n",
       "    <tr>\n",
       "      <td>2</td>\n",
       "      <td>409Wp</td>\n",
       "      <td>1.022732</td>\n",
       "      <td>0.151990</td>\n",
       "      <td>1.419926</td>\n",
       "      <td>85.265647</td>\n",
       "    </tr>\n",
       "    <tr>\n",
       "      <td>3</td>\n",
       "      <td>iJLyR</td>\n",
       "      <td>-0.032172</td>\n",
       "      <td>0.139033</td>\n",
       "      <td>2.978566</td>\n",
       "      <td>168.620776</td>\n",
       "    </tr>\n",
       "    <tr>\n",
       "      <td>4</td>\n",
       "      <td>Xdl7t</td>\n",
       "      <td>1.988431</td>\n",
       "      <td>0.155413</td>\n",
       "      <td>4.751769</td>\n",
       "      <td>154.036647</td>\n",
       "    </tr>\n",
       "    <tr>\n",
       "      <td>...</td>\n",
       "      <td>...</td>\n",
       "      <td>...</td>\n",
       "      <td>...</td>\n",
       "      <td>...</td>\n",
       "      <td>...</td>\n",
       "    </tr>\n",
       "    <tr>\n",
       "      <td>99995</td>\n",
       "      <td>DLsed</td>\n",
       "      <td>0.971957</td>\n",
       "      <td>0.370953</td>\n",
       "      <td>6.075346</td>\n",
       "      <td>110.744026</td>\n",
       "    </tr>\n",
       "    <tr>\n",
       "      <td>99996</td>\n",
       "      <td>QKivN</td>\n",
       "      <td>1.392429</td>\n",
       "      <td>-0.382606</td>\n",
       "      <td>1.273912</td>\n",
       "      <td>122.346843</td>\n",
       "    </tr>\n",
       "    <tr>\n",
       "      <td>99997</td>\n",
       "      <td>3rnvd</td>\n",
       "      <td>1.029585</td>\n",
       "      <td>0.018787</td>\n",
       "      <td>-1.348308</td>\n",
       "      <td>64.375443</td>\n",
       "    </tr>\n",
       "    <tr>\n",
       "      <td>99998</td>\n",
       "      <td>7kl59</td>\n",
       "      <td>0.998163</td>\n",
       "      <td>-0.528582</td>\n",
       "      <td>1.583869</td>\n",
       "      <td>74.040764</td>\n",
       "    </tr>\n",
       "    <tr>\n",
       "      <td>99999</td>\n",
       "      <td>1CWhH</td>\n",
       "      <td>1.764754</td>\n",
       "      <td>-0.266417</td>\n",
       "      <td>5.722849</td>\n",
       "      <td>149.633246</td>\n",
       "    </tr>\n",
       "  </tbody>\n",
       "</table>\n",
       "<p>100000 rows × 5 columns</p>\n",
       "</div>"
      ],
      "text/plain": [
       "          id        f0        f1        f2     product\n",
       "0      txEyH  0.705745 -0.497823  1.221170  105.280062\n",
       "1      2acmU  1.334711 -0.340164  4.365080   73.037750\n",
       "2      409Wp  1.022732  0.151990  1.419926   85.265647\n",
       "3      iJLyR -0.032172  0.139033  2.978566  168.620776\n",
       "4      Xdl7t  1.988431  0.155413  4.751769  154.036647\n",
       "...      ...       ...       ...       ...         ...\n",
       "99995  DLsed  0.971957  0.370953  6.075346  110.744026\n",
       "99996  QKivN  1.392429 -0.382606  1.273912  122.346843\n",
       "99997  3rnvd  1.029585  0.018787 -1.348308   64.375443\n",
       "99998  7kl59  0.998163 -0.528582  1.583869   74.040764\n",
       "99999  1CWhH  1.764754 -0.266417  5.722849  149.633246\n",
       "\n",
       "[100000 rows x 5 columns]"
      ]
     },
     "execution_count": 3,
     "metadata": {},
     "output_type": "execute_result"
    }
   ],
   "source": [
    "geo_data0"
   ]
  },
  {
   "cell_type": "code",
   "execution_count": 4,
   "metadata": {},
   "outputs": [
    {
     "name": "stdout",
     "output_type": "stream",
     "text": [
      "<class 'pandas.core.frame.DataFrame'>\n",
      "RangeIndex: 100000 entries, 0 to 99999\n",
      "Data columns (total 5 columns):\n",
      "id         100000 non-null object\n",
      "f0         100000 non-null float64\n",
      "f1         100000 non-null float64\n",
      "f2         100000 non-null float64\n",
      "product    100000 non-null float64\n",
      "dtypes: float64(4), object(1)\n",
      "memory usage: 3.8+ MB\n"
     ]
    }
   ],
   "source": [
    "geo_data0.info()"
   ]
  },
  {
   "cell_type": "code",
   "execution_count": 5,
   "metadata": {},
   "outputs": [
    {
     "data": {
      "text/html": [
       "<div>\n",
       "<style scoped>\n",
       "    .dataframe tbody tr th:only-of-type {\n",
       "        vertical-align: middle;\n",
       "    }\n",
       "\n",
       "    .dataframe tbody tr th {\n",
       "        vertical-align: top;\n",
       "    }\n",
       "\n",
       "    .dataframe thead th {\n",
       "        text-align: right;\n",
       "    }\n",
       "</style>\n",
       "<table border=\"1\" class=\"dataframe\">\n",
       "  <thead>\n",
       "    <tr style=\"text-align: right;\">\n",
       "      <th></th>\n",
       "      <th>id</th>\n",
       "      <th>f0</th>\n",
       "      <th>f1</th>\n",
       "      <th>f2</th>\n",
       "      <th>product</th>\n",
       "    </tr>\n",
       "  </thead>\n",
       "  <tbody>\n",
       "    <tr>\n",
       "      <td>0</td>\n",
       "      <td>kBEdx</td>\n",
       "      <td>-15.001348</td>\n",
       "      <td>-8.276000</td>\n",
       "      <td>-0.005876</td>\n",
       "      <td>3.179103</td>\n",
       "    </tr>\n",
       "    <tr>\n",
       "      <td>1</td>\n",
       "      <td>62mP7</td>\n",
       "      <td>14.272088</td>\n",
       "      <td>-3.475083</td>\n",
       "      <td>0.999183</td>\n",
       "      <td>26.953261</td>\n",
       "    </tr>\n",
       "    <tr>\n",
       "      <td>2</td>\n",
       "      <td>vyE1P</td>\n",
       "      <td>6.263187</td>\n",
       "      <td>-5.948386</td>\n",
       "      <td>5.001160</td>\n",
       "      <td>134.766305</td>\n",
       "    </tr>\n",
       "    <tr>\n",
       "      <td>3</td>\n",
       "      <td>KcrkZ</td>\n",
       "      <td>-13.081196</td>\n",
       "      <td>-11.506057</td>\n",
       "      <td>4.999415</td>\n",
       "      <td>137.945408</td>\n",
       "    </tr>\n",
       "    <tr>\n",
       "      <td>4</td>\n",
       "      <td>AHL4O</td>\n",
       "      <td>12.702195</td>\n",
       "      <td>-8.147433</td>\n",
       "      <td>5.004363</td>\n",
       "      <td>134.766305</td>\n",
       "    </tr>\n",
       "    <tr>\n",
       "      <td>...</td>\n",
       "      <td>...</td>\n",
       "      <td>...</td>\n",
       "      <td>...</td>\n",
       "      <td>...</td>\n",
       "      <td>...</td>\n",
       "    </tr>\n",
       "    <tr>\n",
       "      <td>99995</td>\n",
       "      <td>QywKC</td>\n",
       "      <td>9.535637</td>\n",
       "      <td>-6.878139</td>\n",
       "      <td>1.998296</td>\n",
       "      <td>53.906522</td>\n",
       "    </tr>\n",
       "    <tr>\n",
       "      <td>99996</td>\n",
       "      <td>ptvty</td>\n",
       "      <td>-10.160631</td>\n",
       "      <td>-12.558096</td>\n",
       "      <td>5.005581</td>\n",
       "      <td>137.945408</td>\n",
       "    </tr>\n",
       "    <tr>\n",
       "      <td>99997</td>\n",
       "      <td>09gWa</td>\n",
       "      <td>-7.378891</td>\n",
       "      <td>-3.084104</td>\n",
       "      <td>4.998651</td>\n",
       "      <td>137.945408</td>\n",
       "    </tr>\n",
       "    <tr>\n",
       "      <td>99998</td>\n",
       "      <td>rqwUm</td>\n",
       "      <td>0.665714</td>\n",
       "      <td>-6.152593</td>\n",
       "      <td>1.000146</td>\n",
       "      <td>30.132364</td>\n",
       "    </tr>\n",
       "    <tr>\n",
       "      <td>99999</td>\n",
       "      <td>relB0</td>\n",
       "      <td>-3.426139</td>\n",
       "      <td>-7.794274</td>\n",
       "      <td>-0.003299</td>\n",
       "      <td>3.179103</td>\n",
       "    </tr>\n",
       "  </tbody>\n",
       "</table>\n",
       "<p>100000 rows × 5 columns</p>\n",
       "</div>"
      ],
      "text/plain": [
       "          id         f0         f1        f2     product\n",
       "0      kBEdx -15.001348  -8.276000 -0.005876    3.179103\n",
       "1      62mP7  14.272088  -3.475083  0.999183   26.953261\n",
       "2      vyE1P   6.263187  -5.948386  5.001160  134.766305\n",
       "3      KcrkZ -13.081196 -11.506057  4.999415  137.945408\n",
       "4      AHL4O  12.702195  -8.147433  5.004363  134.766305\n",
       "...      ...        ...        ...       ...         ...\n",
       "99995  QywKC   9.535637  -6.878139  1.998296   53.906522\n",
       "99996  ptvty -10.160631 -12.558096  5.005581  137.945408\n",
       "99997  09gWa  -7.378891  -3.084104  4.998651  137.945408\n",
       "99998  rqwUm   0.665714  -6.152593  1.000146   30.132364\n",
       "99999  relB0  -3.426139  -7.794274 -0.003299    3.179103\n",
       "\n",
       "[100000 rows x 5 columns]"
      ]
     },
     "execution_count": 5,
     "metadata": {},
     "output_type": "execute_result"
    }
   ],
   "source": [
    "geo_data1"
   ]
  },
  {
   "cell_type": "code",
   "execution_count": 6,
   "metadata": {},
   "outputs": [
    {
     "name": "stdout",
     "output_type": "stream",
     "text": [
      "<class 'pandas.core.frame.DataFrame'>\n",
      "RangeIndex: 100000 entries, 0 to 99999\n",
      "Data columns (total 5 columns):\n",
      "id         100000 non-null object\n",
      "f0         100000 non-null float64\n",
      "f1         100000 non-null float64\n",
      "f2         100000 non-null float64\n",
      "product    100000 non-null float64\n",
      "dtypes: float64(4), object(1)\n",
      "memory usage: 3.8+ MB\n"
     ]
    }
   ],
   "source": [
    "geo_data1.info()"
   ]
  },
  {
   "cell_type": "code",
   "execution_count": 7,
   "metadata": {},
   "outputs": [
    {
     "data": {
      "text/html": [
       "<div>\n",
       "<style scoped>\n",
       "    .dataframe tbody tr th:only-of-type {\n",
       "        vertical-align: middle;\n",
       "    }\n",
       "\n",
       "    .dataframe tbody tr th {\n",
       "        vertical-align: top;\n",
       "    }\n",
       "\n",
       "    .dataframe thead th {\n",
       "        text-align: right;\n",
       "    }\n",
       "</style>\n",
       "<table border=\"1\" class=\"dataframe\">\n",
       "  <thead>\n",
       "    <tr style=\"text-align: right;\">\n",
       "      <th></th>\n",
       "      <th>id</th>\n",
       "      <th>f0</th>\n",
       "      <th>f1</th>\n",
       "      <th>f2</th>\n",
       "      <th>product</th>\n",
       "    </tr>\n",
       "  </thead>\n",
       "  <tbody>\n",
       "    <tr>\n",
       "      <td>0</td>\n",
       "      <td>fwXo0</td>\n",
       "      <td>-1.146987</td>\n",
       "      <td>0.963328</td>\n",
       "      <td>-0.828965</td>\n",
       "      <td>27.758673</td>\n",
       "    </tr>\n",
       "    <tr>\n",
       "      <td>1</td>\n",
       "      <td>WJtFt</td>\n",
       "      <td>0.262778</td>\n",
       "      <td>0.269839</td>\n",
       "      <td>-2.530187</td>\n",
       "      <td>56.069697</td>\n",
       "    </tr>\n",
       "    <tr>\n",
       "      <td>2</td>\n",
       "      <td>ovLUW</td>\n",
       "      <td>0.194587</td>\n",
       "      <td>0.289035</td>\n",
       "      <td>-5.586433</td>\n",
       "      <td>62.871910</td>\n",
       "    </tr>\n",
       "    <tr>\n",
       "      <td>3</td>\n",
       "      <td>q6cA6</td>\n",
       "      <td>2.236060</td>\n",
       "      <td>-0.553760</td>\n",
       "      <td>0.930038</td>\n",
       "      <td>114.572842</td>\n",
       "    </tr>\n",
       "    <tr>\n",
       "      <td>4</td>\n",
       "      <td>WPMUX</td>\n",
       "      <td>-0.515993</td>\n",
       "      <td>1.716266</td>\n",
       "      <td>5.899011</td>\n",
       "      <td>149.600746</td>\n",
       "    </tr>\n",
       "    <tr>\n",
       "      <td>...</td>\n",
       "      <td>...</td>\n",
       "      <td>...</td>\n",
       "      <td>...</td>\n",
       "      <td>...</td>\n",
       "      <td>...</td>\n",
       "    </tr>\n",
       "    <tr>\n",
       "      <td>99995</td>\n",
       "      <td>4GxBu</td>\n",
       "      <td>-1.777037</td>\n",
       "      <td>1.125220</td>\n",
       "      <td>6.263374</td>\n",
       "      <td>172.327046</td>\n",
       "    </tr>\n",
       "    <tr>\n",
       "      <td>99996</td>\n",
       "      <td>YKFjq</td>\n",
       "      <td>-1.261523</td>\n",
       "      <td>-0.894828</td>\n",
       "      <td>2.524545</td>\n",
       "      <td>138.748846</td>\n",
       "    </tr>\n",
       "    <tr>\n",
       "      <td>99997</td>\n",
       "      <td>tKPY3</td>\n",
       "      <td>-1.199934</td>\n",
       "      <td>-2.957637</td>\n",
       "      <td>5.219411</td>\n",
       "      <td>157.080080</td>\n",
       "    </tr>\n",
       "    <tr>\n",
       "      <td>99998</td>\n",
       "      <td>nmxp2</td>\n",
       "      <td>-2.419896</td>\n",
       "      <td>2.417221</td>\n",
       "      <td>-5.548444</td>\n",
       "      <td>51.795253</td>\n",
       "    </tr>\n",
       "    <tr>\n",
       "      <td>99999</td>\n",
       "      <td>V9kWn</td>\n",
       "      <td>-2.551421</td>\n",
       "      <td>-2.025625</td>\n",
       "      <td>6.090891</td>\n",
       "      <td>102.775767</td>\n",
       "    </tr>\n",
       "  </tbody>\n",
       "</table>\n",
       "<p>100000 rows × 5 columns</p>\n",
       "</div>"
      ],
      "text/plain": [
       "          id        f0        f1        f2     product\n",
       "0      fwXo0 -1.146987  0.963328 -0.828965   27.758673\n",
       "1      WJtFt  0.262778  0.269839 -2.530187   56.069697\n",
       "2      ovLUW  0.194587  0.289035 -5.586433   62.871910\n",
       "3      q6cA6  2.236060 -0.553760  0.930038  114.572842\n",
       "4      WPMUX -0.515993  1.716266  5.899011  149.600746\n",
       "...      ...       ...       ...       ...         ...\n",
       "99995  4GxBu -1.777037  1.125220  6.263374  172.327046\n",
       "99996  YKFjq -1.261523 -0.894828  2.524545  138.748846\n",
       "99997  tKPY3 -1.199934 -2.957637  5.219411  157.080080\n",
       "99998  nmxp2 -2.419896  2.417221 -5.548444   51.795253\n",
       "99999  V9kWn -2.551421 -2.025625  6.090891  102.775767\n",
       "\n",
       "[100000 rows x 5 columns]"
      ]
     },
     "execution_count": 7,
     "metadata": {},
     "output_type": "execute_result"
    }
   ],
   "source": [
    "geo_data2"
   ]
  },
  {
   "cell_type": "code",
   "execution_count": 8,
   "metadata": {},
   "outputs": [
    {
     "name": "stdout",
     "output_type": "stream",
     "text": [
      "<class 'pandas.core.frame.DataFrame'>\n",
      "RangeIndex: 100000 entries, 0 to 99999\n",
      "Data columns (total 5 columns):\n",
      "id         100000 non-null object\n",
      "f0         100000 non-null float64\n",
      "f1         100000 non-null float64\n",
      "f2         100000 non-null float64\n",
      "product    100000 non-null float64\n",
      "dtypes: float64(4), object(1)\n",
      "memory usage: 3.8+ MB\n"
     ]
    }
   ],
   "source": [
    "geo_data2.info()"
   ]
  },
  {
   "cell_type": "markdown",
   "metadata": {},
   "source": [
    "Удаляю id из всех таблиц."
   ]
  },
  {
   "cell_type": "code",
   "execution_count": 9,
   "metadata": {},
   "outputs": [],
   "source": [
    "geo_data0 = geo_data0.drop('id', axis=1)\n",
    "geo_data1 = geo_data1.drop('id', axis=1)\n",
    "geo_data2 = geo_data2.drop('id', axis=1)"
   ]
  },
  {
   "cell_type": "markdown",
   "metadata": {},
   "source": [
    "Данные предобработаны, нормализация не требуется (данные уже нормализованны)."
   ]
  },
  {
   "cell_type": "markdown",
   "metadata": {},
   "source": [
    "# 2. Обучение и проверка модели"
   ]
  },
  {
   "cell_type": "markdown",
   "metadata": {},
   "source": [
    "Делим модель на выборки."
   ]
  },
  {
   "cell_type": "code",
   "execution_count": 10,
   "metadata": {},
   "outputs": [],
   "source": [
    "from sklearn.model_selection import train_test_split\n",
    "from sklearn.linear_model import LinearRegression"
   ]
  },
  {
   "cell_type": "code",
   "execution_count": 11,
   "metadata": {},
   "outputs": [],
   "source": [
    "def data_split(geo_data, \n",
    "               random_state=None):\n",
    "    \n",
    "    features = geo_data.drop('product', axis=1)\n",
    "    target = geo_data['product']\n",
    "    return train_test_split(features, target, test_size=.25, random_state=random_state)"
   ]
  },
  {
   "cell_type": "code",
   "execution_count": 12,
   "metadata": {},
   "outputs": [],
   "source": [
    "train_features_0, valid_features_0, train_target_0, valid_target_0 = data_split(geo_data0, 11)\n",
    "train_features_1, valid_features_1, train_target_1, valid_target_1 = data_split(geo_data1, 22)\n",
    "train_features_2, valid_features_2, train_target_2, valid_target_2 = data_split(geo_data2, 33)"
   ]
  },
  {
   "cell_type": "code",
   "execution_count": 13,
   "metadata": {},
   "outputs": [
    {
     "name": "stdout",
     "output_type": "stream",
     "text": [
      "0: Train Legth: 75000 Valid Legth: 25000\n",
      "========================================\n",
      "1: Train Legth: 75000 Valid Legth: 25000\n",
      "========================================\n",
      "2: Train Legth: 75000 Valid Legth: 25000\n"
     ]
    }
   ],
   "source": [
    "print('0: Train Legth:', len(train_features_0),'Valid Legth:', len(valid_features_0))\n",
    "print('========================================')\n",
    "print('1: Train Legth:', len(train_features_1),'Valid Legth:', len(valid_features_1))\n",
    "print('========================================')\n",
    "print('2: Train Legth:', len(train_features_2),'Valid Legth:', len(valid_features_2))"
   ]
  },
  {
   "cell_type": "markdown",
   "metadata": {},
   "source": [
    "Обучаем модель методом линейной регрессии и расчитывем RMSE."
   ]
  },
  {
   "cell_type": "code",
   "execution_count": 14,
   "metadata": {},
   "outputs": [],
   "source": [
    "model_0 = LinearRegression()\n",
    "model_1 = LinearRegression()\n",
    "model_2 = LinearRegression()"
   ]
  },
  {
   "cell_type": "code",
   "execution_count": 15,
   "metadata": {},
   "outputs": [
    {
     "data": {
      "text/plain": [
       "LinearRegression(copy_X=True, fit_intercept=True, n_jobs=None, normalize=False)"
      ]
     },
     "execution_count": 15,
     "metadata": {},
     "output_type": "execute_result"
    }
   ],
   "source": [
    "model_0.fit(train_features_0, train_target_0)\n",
    "model_1.fit(train_features_1, train_target_1)\n",
    "model_2.fit(train_features_2, train_target_2)"
   ]
  },
  {
   "cell_type": "code",
   "execution_count": 16,
   "metadata": {},
   "outputs": [],
   "source": [
    "from sklearn.metrics import mean_squared_error"
   ]
  },
  {
   "cell_type": "code",
   "execution_count": 17,
   "metadata": {},
   "outputs": [],
   "source": [
    "def prediction_mean_rmse(model, \n",
    "                         valid_features, \n",
    "                         valid_target, \n",
    "                         model_name=''):\n",
    "    \n",
    "    predicted_product = pd.Series(model.predict(valid_features), index=valid_features.index)\n",
    "    predicted_product.loc[predicted_product<0] = 0\n",
    "    print(model_name)\n",
    "    print('Средний запас предсказанного сырья:', predicted_product.mean())\n",
    "    print('RMSE:', np.sqrt(mean_squared_error(valid_target, predicted_product)))\n",
    "    print()\n",
    "    return predicted_product"
   ]
  },
  {
   "cell_type": "code",
   "execution_count": 18,
   "metadata": {},
   "outputs": [],
   "source": [
    "def concat_valid_and_prediction(valid_target, \n",
    "                                prediction):\n",
    "    \n",
    "    valid_and_prediction = pd.concat([valid_target, prediction], axis=1)\n",
    "    valid_and_prediction.columns = ['true_products', 'predictions']\n",
    "    return valid_and_prediction"
   ]
  },
  {
   "cell_type": "code",
   "execution_count": 19,
   "metadata": {
    "scrolled": true
   },
   "outputs": [
    {
     "name": "stdout",
     "output_type": "stream",
     "text": [
      "model_0:\n",
      "Средний запас предсказанного сырья: 92.40113833523482\n",
      "RMSE: 37.81933491270986\n",
      "\n",
      "model_1:\n",
      "Средний запас предсказанного сырья: 68.7345335128858\n",
      "RMSE: 0.8870632228200693\n",
      "\n",
      "model_2:\n",
      "Средний запас предсказанного сырья: 95.10924400961133\n",
      "RMSE: 40.18677165124385\n",
      "\n"
     ]
    }
   ],
   "source": [
    "prediction_0 = prediction_mean_rmse(model_0, valid_features_0, valid_target_0, model_name='model_0:')\n",
    "prediction_1 = prediction_mean_rmse(model_1, valid_features_1, valid_target_1, model_name='model_1:')\n",
    "prediction_2 = prediction_mean_rmse(model_2, valid_features_2, valid_target_2, model_name='model_2:')"
   ]
  },
  {
   "cell_type": "code",
   "execution_count": 20,
   "metadata": {},
   "outputs": [],
   "source": [
    "valid_and_prediction_0 = concat_valid_and_prediction(valid_target_0, prediction_0)\n",
    "valid_and_prediction_1 = concat_valid_and_prediction(valid_target_1, prediction_1)\n",
    "valid_and_prediction_2 = concat_valid_and_prediction(valid_target_2, prediction_2)"
   ]
  },
  {
   "cell_type": "code",
   "execution_count": 21,
   "metadata": {},
   "outputs": [
    {
     "data": {
      "text/html": [
       "<div>\n",
       "<style scoped>\n",
       "    .dataframe tbody tr th:only-of-type {\n",
       "        vertical-align: middle;\n",
       "    }\n",
       "\n",
       "    .dataframe tbody tr th {\n",
       "        vertical-align: top;\n",
       "    }\n",
       "\n",
       "    .dataframe thead th {\n",
       "        text-align: right;\n",
       "    }\n",
       "</style>\n",
       "<table border=\"1\" class=\"dataframe\">\n",
       "  <thead>\n",
       "    <tr style=\"text-align: right;\">\n",
       "      <th></th>\n",
       "      <th>true_products</th>\n",
       "      <th>predictions</th>\n",
       "    </tr>\n",
       "  </thead>\n",
       "  <tbody>\n",
       "    <tr>\n",
       "      <td>51464</td>\n",
       "      <td>173.971897</td>\n",
       "      <td>185.797390</td>\n",
       "    </tr>\n",
       "    <tr>\n",
       "      <td>6496</td>\n",
       "      <td>178.879516</td>\n",
       "      <td>173.769640</td>\n",
       "    </tr>\n",
       "    <tr>\n",
       "      <td>93716</td>\n",
       "      <td>130.985681</td>\n",
       "      <td>173.178303</td>\n",
       "    </tr>\n",
       "    <tr>\n",
       "      <td>42379</td>\n",
       "      <td>159.784912</td>\n",
       "      <td>171.652718</td>\n",
       "    </tr>\n",
       "    <tr>\n",
       "      <td>29826</td>\n",
       "      <td>173.515396</td>\n",
       "      <td>170.271205</td>\n",
       "    </tr>\n",
       "    <tr>\n",
       "      <td>...</td>\n",
       "      <td>...</td>\n",
       "      <td>...</td>\n",
       "    </tr>\n",
       "    <tr>\n",
       "      <td>24910</td>\n",
       "      <td>32.664495</td>\n",
       "      <td>14.825076</td>\n",
       "    </tr>\n",
       "    <tr>\n",
       "      <td>42500</td>\n",
       "      <td>16.859387</td>\n",
       "      <td>11.664106</td>\n",
       "    </tr>\n",
       "    <tr>\n",
       "      <td>22669</td>\n",
       "      <td>5.152390</td>\n",
       "      <td>9.692687</td>\n",
       "    </tr>\n",
       "    <tr>\n",
       "      <td>89454</td>\n",
       "      <td>11.018692</td>\n",
       "      <td>4.117085</td>\n",
       "    </tr>\n",
       "    <tr>\n",
       "      <td>1054</td>\n",
       "      <td>25.069622</td>\n",
       "      <td>0.000000</td>\n",
       "    </tr>\n",
       "  </tbody>\n",
       "</table>\n",
       "<p>25000 rows × 2 columns</p>\n",
       "</div>"
      ],
      "text/plain": [
       "       true_products  predictions\n",
       "51464     173.971897   185.797390\n",
       "6496      178.879516   173.769640\n",
       "93716     130.985681   173.178303\n",
       "42379     159.784912   171.652718\n",
       "29826     173.515396   170.271205\n",
       "...              ...          ...\n",
       "24910      32.664495    14.825076\n",
       "42500      16.859387    11.664106\n",
       "22669       5.152390     9.692687\n",
       "89454      11.018692     4.117085\n",
       "1054       25.069622     0.000000\n",
       "\n",
       "[25000 rows x 2 columns]"
      ]
     },
     "execution_count": 21,
     "metadata": {},
     "output_type": "execute_result"
    }
   ],
   "source": [
    "valid_and_prediction_0.sort_values(by='predictions', ascending=False)"
   ]
  },
  {
   "cell_type": "code",
   "execution_count": 22,
   "metadata": {},
   "outputs": [
    {
     "data": {
      "text/html": [
       "<div>\n",
       "<style scoped>\n",
       "    .dataframe tbody tr th:only-of-type {\n",
       "        vertical-align: middle;\n",
       "    }\n",
       "\n",
       "    .dataframe tbody tr th {\n",
       "        vertical-align: top;\n",
       "    }\n",
       "\n",
       "    .dataframe thead th {\n",
       "        text-align: right;\n",
       "    }\n",
       "</style>\n",
       "<table border=\"1\" class=\"dataframe\">\n",
       "  <thead>\n",
       "    <tr style=\"text-align: right;\">\n",
       "      <th></th>\n",
       "      <th>true_products</th>\n",
       "      <th>predictions</th>\n",
       "    </tr>\n",
       "  </thead>\n",
       "  <tbody>\n",
       "    <tr>\n",
       "      <td>55165</td>\n",
       "      <td>137.945408</td>\n",
       "      <td>139.899142</td>\n",
       "    </tr>\n",
       "    <tr>\n",
       "      <td>20191</td>\n",
       "      <td>137.945408</td>\n",
       "      <td>139.771683</td>\n",
       "    </tr>\n",
       "    <tr>\n",
       "      <td>69183</td>\n",
       "      <td>137.945408</td>\n",
       "      <td>139.465307</td>\n",
       "    </tr>\n",
       "    <tr>\n",
       "      <td>29591</td>\n",
       "      <td>137.945408</td>\n",
       "      <td>139.371770</td>\n",
       "    </tr>\n",
       "    <tr>\n",
       "      <td>19126</td>\n",
       "      <td>137.945408</td>\n",
       "      <td>139.334643</td>\n",
       "    </tr>\n",
       "    <tr>\n",
       "      <td>...</td>\n",
       "      <td>...</td>\n",
       "      <td>...</td>\n",
       "    </tr>\n",
       "    <tr>\n",
       "      <td>52957</td>\n",
       "      <td>0.000000</td>\n",
       "      <td>0.000000</td>\n",
       "    </tr>\n",
       "    <tr>\n",
       "      <td>25362</td>\n",
       "      <td>0.000000</td>\n",
       "      <td>0.000000</td>\n",
       "    </tr>\n",
       "    <tr>\n",
       "      <td>50638</td>\n",
       "      <td>0.000000</td>\n",
       "      <td>0.000000</td>\n",
       "    </tr>\n",
       "    <tr>\n",
       "      <td>24428</td>\n",
       "      <td>0.000000</td>\n",
       "      <td>0.000000</td>\n",
       "    </tr>\n",
       "    <tr>\n",
       "      <td>20233</td>\n",
       "      <td>0.000000</td>\n",
       "      <td>0.000000</td>\n",
       "    </tr>\n",
       "  </tbody>\n",
       "</table>\n",
       "<p>25000 rows × 2 columns</p>\n",
       "</div>"
      ],
      "text/plain": [
       "       true_products  predictions\n",
       "55165     137.945408   139.899142\n",
       "20191     137.945408   139.771683\n",
       "69183     137.945408   139.465307\n",
       "29591     137.945408   139.371770\n",
       "19126     137.945408   139.334643\n",
       "...              ...          ...\n",
       "52957       0.000000     0.000000\n",
       "25362       0.000000     0.000000\n",
       "50638       0.000000     0.000000\n",
       "24428       0.000000     0.000000\n",
       "20233       0.000000     0.000000\n",
       "\n",
       "[25000 rows x 2 columns]"
      ]
     },
     "execution_count": 22,
     "metadata": {},
     "output_type": "execute_result"
    }
   ],
   "source": [
    "valid_and_prediction_1.sort_values(by='predictions', ascending=False)"
   ]
  },
  {
   "cell_type": "code",
   "execution_count": 23,
   "metadata": {},
   "outputs": [
    {
     "data": {
      "text/html": [
       "<div>\n",
       "<style scoped>\n",
       "    .dataframe tbody tr th:only-of-type {\n",
       "        vertical-align: middle;\n",
       "    }\n",
       "\n",
       "    .dataframe tbody tr th {\n",
       "        vertical-align: top;\n",
       "    }\n",
       "\n",
       "    .dataframe thead th {\n",
       "        text-align: right;\n",
       "    }\n",
       "</style>\n",
       "<table border=\"1\" class=\"dataframe\">\n",
       "  <thead>\n",
       "    <tr style=\"text-align: right;\">\n",
       "      <th></th>\n",
       "      <th>true_products</th>\n",
       "      <th>predictions</th>\n",
       "    </tr>\n",
       "  </thead>\n",
       "  <tbody>\n",
       "    <tr>\n",
       "      <td>6647</td>\n",
       "      <td>152.294162</td>\n",
       "      <td>174.418277</td>\n",
       "    </tr>\n",
       "    <tr>\n",
       "      <td>46649</td>\n",
       "      <td>131.627481</td>\n",
       "      <td>166.341592</td>\n",
       "    </tr>\n",
       "    <tr>\n",
       "      <td>91268</td>\n",
       "      <td>101.014932</td>\n",
       "      <td>166.324240</td>\n",
       "    </tr>\n",
       "    <tr>\n",
       "      <td>84970</td>\n",
       "      <td>125.130392</td>\n",
       "      <td>165.811527</td>\n",
       "    </tr>\n",
       "    <tr>\n",
       "      <td>64380</td>\n",
       "      <td>122.460897</td>\n",
       "      <td>164.190575</td>\n",
       "    </tr>\n",
       "    <tr>\n",
       "      <td>...</td>\n",
       "      <td>...</td>\n",
       "      <td>...</td>\n",
       "    </tr>\n",
       "    <tr>\n",
       "      <td>2646</td>\n",
       "      <td>56.783148</td>\n",
       "      <td>28.003065</td>\n",
       "    </tr>\n",
       "    <tr>\n",
       "      <td>1546</td>\n",
       "      <td>42.004996</td>\n",
       "      <td>27.751991</td>\n",
       "    </tr>\n",
       "    <tr>\n",
       "      <td>94733</td>\n",
       "      <td>46.713000</td>\n",
       "      <td>27.472785</td>\n",
       "    </tr>\n",
       "    <tr>\n",
       "      <td>6207</td>\n",
       "      <td>76.431750</td>\n",
       "      <td>23.705970</td>\n",
       "    </tr>\n",
       "    <tr>\n",
       "      <td>58684</td>\n",
       "      <td>26.869800</td>\n",
       "      <td>20.071123</td>\n",
       "    </tr>\n",
       "  </tbody>\n",
       "</table>\n",
       "<p>25000 rows × 2 columns</p>\n",
       "</div>"
      ],
      "text/plain": [
       "       true_products  predictions\n",
       "6647      152.294162   174.418277\n",
       "46649     131.627481   166.341592\n",
       "91268     101.014932   166.324240\n",
       "84970     125.130392   165.811527\n",
       "64380     122.460897   164.190575\n",
       "...              ...          ...\n",
       "2646       56.783148    28.003065\n",
       "1546       42.004996    27.751991\n",
       "94733      46.713000    27.472785\n",
       "6207       76.431750    23.705970\n",
       "58684      26.869800    20.071123\n",
       "\n",
       "[25000 rows x 2 columns]"
      ]
     },
     "execution_count": 23,
     "metadata": {},
     "output_type": "execute_result"
    }
   ],
   "source": [
    "valid_and_prediction_2.sort_values(by='predictions', ascending=False)"
   ]
  },
  {
   "cell_type": "markdown",
   "metadata": {},
   "source": [
    "Модель обучена и предсказания записаны в таблицу к целевым признакам."
   ]
  },
  {
   "cell_type": "markdown",
   "metadata": {},
   "source": [
    "# 3. Подготовка к расчёту прибыли"
   ]
  },
  {
   "cell_type": "code",
   "execution_count": 292,
   "metadata": {},
   "outputs": [],
   "source": [
    "import math"
   ]
  },
  {
   "cell_type": "code",
   "execution_count": 293,
   "metadata": {},
   "outputs": [],
   "source": [
    "oil_well_development_budget = 10e9\n",
    "one_barrel_cost = 450\n",
    "thousant_barrel_cost = one_barrel_cost * 1e3\n",
    "points=500\n",
    "best_points=200\n",
    "\n",
    "barrel_need_for_profit = math.ceil(oil_well_development_budget / thousant_barrel_cost)"
   ]
  },
  {
   "cell_type": "code",
   "execution_count": 294,
   "metadata": {},
   "outputs": [
    {
     "name": "stdout",
     "output_type": "stream",
     "text": [
      "Минимально количество нефти в регионе для получения прибыли больше 22223 тыс. баррелей.\n"
     ]
    }
   ],
   "source": [
    "print('Минимально количество нефти в регионе для получения прибыли больше', barrel_need_for_profit, 'тыс. баррелей.')"
   ]
  },
  {
   "cell_type": "markdown",
   "metadata": {},
   "source": [
    "# 4. Расчёт прибыли и рисков "
   ]
  },
  {
   "cell_type": "markdown",
   "metadata": {},
   "source": [
    "Применяем технику Bootstrap с 1000 выборок, чтобы найти распределение прибыли."
   ]
  },
  {
   "cell_type": "code",
   "execution_count": 295,
   "metadata": {},
   "outputs": [],
   "source": [
    "def bootstrap(valid_and_prediction):\n",
    "    \n",
    "    random = np.random.RandomState(12345)\n",
    "    gross_profit_values = []\n",
    "    \n",
    "    for i in notebook.tqdm(range(1000)):\n",
    "        subsample = valid_and_prediction.sample(n=points, replace=False, random_state=random)\n",
    "        turnover = ((subsample\n",
    "                  .sort_values(by='predictions', \n",
    "                               ascending=False)\n",
    "                  .head(best_points)\n",
    "                  .sum())['true_products'])\n",
    "    \n",
    "        gross_profit_values.append(turnover * thousant_barrel_cost - oil_well_development_budget)\n",
    "    \n",
    "    values = pd.Series(gross_profit_values)\n",
    "    return values"
   ]
  },
  {
   "cell_type": "code",
   "execution_count": 296,
   "metadata": {},
   "outputs": [
    {
     "data": {
      "application/vnd.jupyter.widget-view+json": {
       "model_id": "65e6e15b913f41008bac84e68cc5257e",
       "version_major": 2,
       "version_minor": 0
      },
      "text/plain": [
       "HBox(children=(FloatProgress(value=0.0, max=1000.0), HTML(value='')))"
      ]
     },
     "metadata": {},
     "output_type": "display_data"
    },
    {
     "name": "stdout",
     "output_type": "stream",
     "text": [
      "\n"
     ]
    },
    {
     "data": {
      "application/vnd.jupyter.widget-view+json": {
       "model_id": "ba204f47d42d484f94737d63fec7a8ca",
       "version_major": 2,
       "version_minor": 0
      },
      "text/plain": [
       "HBox(children=(FloatProgress(value=0.0, max=1000.0), HTML(value='')))"
      ]
     },
     "metadata": {},
     "output_type": "display_data"
    },
    {
     "name": "stdout",
     "output_type": "stream",
     "text": [
      "\n"
     ]
    },
    {
     "data": {
      "application/vnd.jupyter.widget-view+json": {
       "model_id": "88a519073fa44448b0d3c7c9bf17cb19",
       "version_major": 2,
       "version_minor": 0
      },
      "text/plain": [
       "HBox(children=(FloatProgress(value=0.0, max=1000.0), HTML(value='')))"
      ]
     },
     "metadata": {},
     "output_type": "display_data"
    },
    {
     "name": "stdout",
     "output_type": "stream",
     "text": [
      "\n"
     ]
    }
   ],
   "source": [
    "profit_0 = bootstrap(valid_and_prediction_0)\n",
    "profit_1 = bootstrap(valid_and_prediction_1)\n",
    "profit_2 = bootstrap(valid_and_prediction_2)"
   ]
  },
  {
   "cell_type": "code",
   "execution_count": 313,
   "metadata": {},
   "outputs": [
    {
     "name": "stdout",
     "output_type": "stream",
     "text": [
      "Первый регион\n",
      "Нижняя граница ловерительного интервала: -124312869.01022033\n",
      "Верхняя граница ловерительного интервала: 893995527.0867051\n"
     ]
    }
   ],
   "source": [
    "lower_0 = profit_0.quantile(0.025)\n",
    "upper_0 = profit_0.quantile(0.975)\n",
    "\n",
    "print('Первый регион')\n",
    "print('Нижняя граница ловерительного интервала:',lower_0)\n",
    "print('Верхняя граница ловерительного интервала:',upper_0)"
   ]
  },
  {
   "cell_type": "code",
   "execution_count": 314,
   "metadata": {},
   "outputs": [
    {
     "name": "stdout",
     "output_type": "stream",
     "text": [
      "Второй регион\n",
      "Нижняя граница ловерительного интервала: 57392691.16690694\n",
      "Верхняя граница ловерительного интервала: 842567619.9447613\n"
     ]
    }
   ],
   "source": [
    "lower_1 = profit_1.quantile(0.025)\n",
    "upper_1 = profit_1.quantile(0.975)\n",
    "\n",
    "print('Второй регион')\n",
    "print('Нижняя граница ловерительного интервала:',lower_1)\n",
    "print('Верхняя граница ловерительного интервала:',upper_1)"
   ]
  },
  {
   "cell_type": "code",
   "execution_count": 315,
   "metadata": {},
   "outputs": [
    {
     "name": "stdout",
     "output_type": "stream",
     "text": [
      "Третий регион\n",
      "Нижняя граница ловерительного интервала: -158275518.14033264\n",
      "Верхняя граница ловерительного интервала: 851805098.695297\n"
     ]
    }
   ],
   "source": [
    "lower_2 = profit_2.quantile(0.025)\n",
    "upper_2 = profit_2.quantile(0.975)\n",
    "\n",
    "print('Третий регион')\n",
    "print('Нижняя граница ловерительного интервала:',lower_2)\n",
    "print('Верхняя граница ловерительного интервала:',upper_2)"
   ]
  },
  {
   "cell_type": "code",
   "execution_count": 316,
   "metadata": {
    "scrolled": true
   },
   "outputs": [
    {
     "name": "stdout",
     "output_type": "stream",
     "text": [
      "Средняя ожидаемая прибыль в первом регионе: 388 млн. р.\n",
      "Средняя ожидаемая прибыль во втором регионе: 434 млн. р.\n",
      "Средняя ожидаемая прибыль в третьем регионе: 355 млн. р.\n"
     ]
    }
   ],
   "source": [
    "print('Средняя ожидаемая прибыль в первом регионе: {:.0f} млн. р.'.format(round(profit_0.mean()/1e6)))\n",
    "print('Средняя ожидаемая прибыль во втором регионе: {:.0f} млн. р.'.format(round(profit_1.mean()/1e6)))\n",
    "print('Средняя ожидаемая прибыль в третьем регионе: {:.0f} млн. р.'.format(round(profit_2.mean()/1e6)))"
   ]
  },
  {
   "cell_type": "code",
   "execution_count": 317,
   "metadata": {},
   "outputs": [],
   "source": [
    "import matplotlib.pyplot as plt\n",
    "import seaborn as sns"
   ]
  },
  {
   "cell_type": "code",
   "execution_count": 312,
   "metadata": {},
   "outputs": [],
   "source": [
    "sns.set_style('whitegrid', {'grid.linestyle':'-.'})"
   ]
  },
  {
   "cell_type": "code",
   "execution_count": 303,
   "metadata": {},
   "outputs": [
    {
     "data": {
      "text/plain": [
       "<matplotlib.legend.Legend at 0x7fd92e6aab50>"
      ]
     },
     "execution_count": 303,
     "metadata": {},
     "output_type": "execute_result"
    },
    {
     "data": {
      "image/png": "[encoded data removed]",
      "text/plain": [
       "<Figure size 864x432 with 1 Axes>"
      ]
     },
     "metadata": {},
     "output_type": "display_data"
    }
   ],
   "source": [
    "profit_data = pd.DataFrame([profit_0.mean(),profit_1.mean(),profit_2.mean()])\n",
    "ax = profit_data.swapaxes(\"index\", \"columns\").plot(kind='bar', figsize=(12,6))\n",
    "plt.ylabel('прибыль')\n",
    "ax.set_title('Средняя ожидаемая прибыль')\n",
    "plt.legend(['первый регион','второй регион','третий регион'])"
   ]
  },
  {
   "cell_type": "code",
   "execution_count": 304,
   "metadata": {},
   "outputs": [
    {
     "name": "stdout",
     "output_type": "stream",
     "text": [
      "Шанс убытка в первом регионе: 7.6%\n",
      "Шанс убытка во втором регионе: 1.1%\n",
      "Шанс убытка в третьем регионе: 8.2%\n"
     ]
    }
   ],
   "source": [
    "print('Шанс убытка в первом регионе: {:.1%}'.format(profit_0[profit_0<0].count()/1000))\n",
    "print('Шанс убытка во втором регионе: {:.1%}'.format(profit_1[profit_1<0].count()/1000))\n",
    "print('Шанс убытка в третьем регионе: {:.1%}'.format(profit_2[profit_2<0].count()/1000))"
   ]
  },
  {
   "cell_type": "code",
   "execution_count": 305,
   "metadata": {},
   "outputs": [
    {
     "data": {
      "text/plain": [
       "<matplotlib.legend.Legend at 0x7fd92e52d950>"
      ]
     },
     "execution_count": 305,
     "metadata": {},
     "output_type": "execute_result"
    },
    {
     "data": {
      "image/png": "[encoded data removed]",
      "text/plain": [
       "<Figure size 864x432 with 1 Axes>"
      ]
     },
     "metadata": {},
     "output_type": "display_data"
    }
   ],
   "source": [
    "loss_data = pd.DataFrame([profit_0[profit_0<0].count()/10, profit_1[profit_1<0].count()/10, profit_2[profit_2<0].count()/10])\n",
    "ax = loss_data.swapaxes(\"index\", \"columns\").plot(kind='bar', figsize=(12,6))\n",
    "ax.set_title('Шанс убытка')\n",
    "plt.ylabel('%')\n",
    "plt.legend(['первый регион','второй регион','третий регион'])\n"
   ]
  },
  {
   "cell_type": "code",
   "execution_count": 306,
   "metadata": {},
   "outputs": [
    {
     "data": {
      "text/plain": [
       "Text(0.5, 0, 'возможная прибыль')"
      ]
     },
     "execution_count": 306,
     "metadata": {},
     "output_type": "execute_result"
    },
    {
     "data": {
      "image/png": "[encoded data removed]",
      "text/plain": [
       "<Figure size 864x648 with 3 Axes>"
      ]
     },
     "metadata": {},
     "output_type": "display_data"
    }
   ],
   "source": [
    "fig, axes = plt.subplots(nrows=3,ncols=1, sharex=True, figsize=(12,9))\n",
    "\n",
    "sns.distplot(profit_0, hist=False, rug=True, ax=axes[0], color='green')\n",
    "axes[0].axvline(x=lower_0, color='red')\n",
    "axes[0].axvline(x=upper_0, color='red')\n",
    "axes[0].set_title('Первый регион')\n",
    "\n",
    "sns.distplot(profit_1, hist=False, rug=True, ax=axes[1], color='green')\n",
    "axes[1].axvline(x=lower_1, color='red')\n",
    "axes[1].axvline(x=upper_1, color='red')\n",
    "axes[1].set_title('Второй регион')\n",
    "\n",
    "sns.distplot(profit_2, hist=False, rug=True, ax=axes[2], color='green')\n",
    "axes[2].axvline(x=lower_2, color='red')\n",
    "axes[2].axvline(x=upper_2, color='red')\n",
    "axes[2].set_title('Третий регион')\n",
    "plt.xlabel('возможная прибыль')"
   ]
  },
  {
   "cell_type": "markdown",
   "metadata": {},
   "source": [
    "# Общий вывод"
   ]
  },
  {
   "cell_type": "markdown",
   "metadata": {},
   "source": [
    "По условию задачи, веротность убытков ниже 2.5% только у второго региона, поэтому это единственный регион, в котором я бы рекомендовал проводить.\n",
    "\n",
    "Даже если не смотреть на это условие и изучить данные и графики, то, не зависимо от веротности убытков, второй регион имеет наибольшую среднюю прибыль, а также самый надежный доверительный 95%-ный интервал, в который не входят отрицательные значения. "
   ]
  }
 ],
 "metadata": {
  "kernelspec": {
   "display_name": "Python 3",
   "language": "python",
   "name": "python3"
  },
  "language_info": {
   "codemirror_mode": {
    "name": "ipython",
    "version": 3
   },
   "file_extension": ".py",
   "mimetype": "text/x-python",
   "name": "python",
   "nbconvert_exporter": "python",
   "pygments_lexer": "ipython3",
   "version": "3.8.5"
  }
 },
 "nbformat": 4,
 "nbformat_minor": 4
}
