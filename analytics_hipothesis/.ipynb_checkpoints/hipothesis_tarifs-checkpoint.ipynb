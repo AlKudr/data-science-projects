{
 "cells": [
  {
   "cell_type": "markdown",
   "metadata": {},
   "source": [
    "# Определение перспективного тарифа для телеком компании"
   ]
  },
  {
   "cell_type": "markdown",
   "metadata": {},
   "source": [
    "Чтобы скорректировать рекламный бюджет компании «Мегалайн», коммерческий департамент хочет понять, какой тариф приносит больше денег: <b>«Смарт»</b> или <b>«Ультра»</b>.\n",
    "Нужно сделать предварительный анализ тарифов на небольшой выборке клиентов. В нашем распоряжении данные 500 пользователей «Мегалайна»: кто они, откуда, каким тарифом пользуются, сколько звонков и сообщений каждый отправил за 2018 год. Нужно проанализировать поведение клиентов и сделать вывод — какой тариф лучше."
   ]
  },
  {
   "cell_type": "markdown",
   "metadata": {},
   "source": [
    "### Описание тарифов\n",
    "\n",
    "#### Тариф «Смарт»\n",
    "\n",
    "<div style=\"border:solid black 1px; padding: 20px\">\n",
    "    \n",
    "   1. Ежемесячная плата: 550 рублей\n",
    "   2. Включено 500 минут разговора, 50 сообщений и 15 Гб интернет-трафика\n",
    "   3. Стоимость услуг сверх тарифного пакета:\n",
    "\n",
    "    - минута разговора: 3 рубля\n",
    "    - сообщение: 3 рубля\n",
    "    - 1 Гб интернет-трафика: 200 рублей\n",
    "\n",
    "</div>\n",
    "\n",
    "#### Тариф «Ультра»\n",
    "\n",
    "<div style=\"border:solid black 1px; padding: 20px\">\n",
    "    \n",
    "   1. Ежемесячная плата: 1950 рублей\n",
    "   2. Включено 3000 минут разговора, 1000 сообщений и 30 Гб интернет-трафика\n",
    "   3. Стоимость услуг сверх тарифного пакета:\n",
    "\n",
    "    - минута разговора: 1 рубль\n",
    "    - сообщение: 1 рубль\n",
    "    - 1 Гб интернет-трафика: 150 рублей\n",
    "    \n",
    "</div>\n",
    "\n",
    "«Мегалайн» всегда округляет вверх значения минут и мегабайтов. Если пользователь проговорил всего 1 секунду, в тарифе засчитывается целая минута."
   ]
  },
  {
   "cell_type": "markdown",
   "metadata": {},
   "source": [
    "## План работы"
   ]
  },
  {
   "cell_type": "markdown",
   "metadata": {},
   "source": [
    "\n",
    "\n",
    "<h3 style=\"color:black; margin-bottom:20px\">Шаг 1. Откройте файл с данными и изучите общую информацию</h3> \n",
    "\n",
    "<h3 style=\"color:black; margin-bottom:20px\">Шаг 2. Подготовьте данные</h3> \n",
    "\n",
    "<h3 style=\"color:black; margin-bottom:20px\">Шаг 3. Проанализируйте данные</h3>   \n",
    "\n",
    "<h3 style=\"color:black; margin-bottom:20px\">Шаг 4. Проверьте гипотезы</h3>\n",
    "    \n",
    "<h3 style=\"color:black; margin-bottom:20px\">Шаг 5. Напишите общий вывод</h3>\n"
   ]
  },
  {
   "cell_type": "markdown",
   "metadata": {},
   "source": [
    "## Описание данных"
   ]
  },
  {
   "cell_type": "markdown",
   "metadata": {},
   "source": [
    "Таблица <code>users</code> (информация о пользователях)\n",
    "\n",
    "Таблица <code>calls</code> (информация о звонках)\n",
    "\n",
    "Таблица <code>messages</code> (информация о сообщениях)\n",
    "\n",
    "Таблица <code>internet</code> (информация об интернет-сессиях)\n",
    "\n",
    "Таблица <code>tariffs</code> (информация о тарифах)\n",
    "___"
   ]
  },
  {
   "cell_type": "markdown",
   "metadata": {},
   "source": [
    "# Шаг 1. Откройте файл с данными и изучите общую информацию"
   ]
  },
  {
   "cell_type": "code",
   "execution_count": 2,
   "metadata": {},
   "outputs": [],
   "source": [
    "import pandas as pd\n",
    "import numpy as np"
   ]
  },
  {
   "cell_type": "code",
   "execution_count": 3,
   "metadata": {},
   "outputs": [],
   "source": [
    "users = pd.read_csv('/datasets/users.csv')\n",
    "calls = pd.read_csv('/datasets/calls.csv')\n",
    "messages = pd.read_csv('/datasets/messages.csv')\n",
    "internet = pd.read_csv('/datasets/internet.csv')\n",
    "tariffs = pd.read_csv('/datasets/tariffs.csv')"
   ]
  },
  {
   "cell_type": "code",
   "execution_count": 6,
   "metadata": {},
   "outputs": [
    {
     "data": {
      "text/plain": [
       "Int64Index([ 7,  8,  6,  9, 12, 11, 10,  8,  9,  8,\n",
       "            ...\n",
       "            10, 12, 12, 10, 12, 12, 10, 11, 10, 12],\n",
       "           dtype='int64', name='call_date', length=202607)"
      ]
     },
     "execution_count": 6,
     "metadata": {},
     "output_type": "execute_result"
    }
   ],
   "source": [
    "pd.DatetimeIndex(calls['call_date']).month"
   ]
  },
  {
   "cell_type": "markdown",
   "metadata": {},
   "source": [
    "#### В таблице users представлена общая информация о пользователях тарифа."
   ]
  },
  {
   "cell_type": "code",
   "execution_count": 3,
   "metadata": {},
   "outputs": [
    {
     "data": {
      "text/html": [
       "<div>\n",
       "<style scoped>\n",
       "    .dataframe tbody tr th:only-of-type {\n",
       "        vertical-align: middle;\n",
       "    }\n",
       "\n",
       "    .dataframe tbody tr th {\n",
       "        vertical-align: top;\n",
       "    }\n",
       "\n",
       "    .dataframe thead th {\n",
       "        text-align: right;\n",
       "    }\n",
       "</style>\n",
       "<table border=\"1\" class=\"dataframe\">\n",
       "  <thead>\n",
       "    <tr style=\"text-align: right;\">\n",
       "      <th></th>\n",
       "      <th>user_id</th>\n",
       "      <th>age</th>\n",
       "      <th>churn_date</th>\n",
       "      <th>city</th>\n",
       "      <th>first_name</th>\n",
       "      <th>last_name</th>\n",
       "      <th>reg_date</th>\n",
       "      <th>tariff</th>\n",
       "    </tr>\n",
       "  </thead>\n",
       "  <tbody>\n",
       "    <tr>\n",
       "      <td>0</td>\n",
       "      <td>1000</td>\n",
       "      <td>52</td>\n",
       "      <td>NaN</td>\n",
       "      <td>Краснодар</td>\n",
       "      <td>Рафаил</td>\n",
       "      <td>Верещагин</td>\n",
       "      <td>2018-05-25</td>\n",
       "      <td>ultra</td>\n",
       "    </tr>\n",
       "    <tr>\n",
       "      <td>1</td>\n",
       "      <td>1001</td>\n",
       "      <td>41</td>\n",
       "      <td>NaN</td>\n",
       "      <td>Москва</td>\n",
       "      <td>Иван</td>\n",
       "      <td>Ежов</td>\n",
       "      <td>2018-11-01</td>\n",
       "      <td>smart</td>\n",
       "    </tr>\n",
       "    <tr>\n",
       "      <td>2</td>\n",
       "      <td>1002</td>\n",
       "      <td>59</td>\n",
       "      <td>NaN</td>\n",
       "      <td>Стерлитамак</td>\n",
       "      <td>Евгений</td>\n",
       "      <td>Абрамович</td>\n",
       "      <td>2018-06-17</td>\n",
       "      <td>smart</td>\n",
       "    </tr>\n",
       "    <tr>\n",
       "      <td>3</td>\n",
       "      <td>1003</td>\n",
       "      <td>23</td>\n",
       "      <td>NaN</td>\n",
       "      <td>Москва</td>\n",
       "      <td>Белла</td>\n",
       "      <td>Белякова</td>\n",
       "      <td>2018-08-17</td>\n",
       "      <td>ultra</td>\n",
       "    </tr>\n",
       "    <tr>\n",
       "      <td>4</td>\n",
       "      <td>1004</td>\n",
       "      <td>68</td>\n",
       "      <td>NaN</td>\n",
       "      <td>Новокузнецк</td>\n",
       "      <td>Татьяна</td>\n",
       "      <td>Авдеенко</td>\n",
       "      <td>2018-05-14</td>\n",
       "      <td>ultra</td>\n",
       "    </tr>\n",
       "  </tbody>\n",
       "</table>\n",
       "</div>"
      ],
      "text/plain": [
       "   user_id  age churn_date         city first_name  last_name    reg_date  \\\n",
       "0     1000   52        NaN    Краснодар     Рафаил  Верещагин  2018-05-25   \n",
       "1     1001   41        NaN       Москва       Иван       Ежов  2018-11-01   \n",
       "2     1002   59        NaN  Стерлитамак    Евгений  Абрамович  2018-06-17   \n",
       "3     1003   23        NaN       Москва      Белла   Белякова  2018-08-17   \n",
       "4     1004   68        NaN  Новокузнецк    Татьяна   Авдеенко  2018-05-14   \n",
       "\n",
       "  tariff  \n",
       "0  ultra  \n",
       "1  smart  \n",
       "2  smart  \n",
       "3  ultra  \n",
       "4  ultra  "
      ]
     },
     "execution_count": 3,
     "metadata": {},
     "output_type": "execute_result"
    }
   ],
   "source": [
    "users.head()"
   ]
  },
  {
   "cell_type": "code",
   "execution_count": 4,
   "metadata": {},
   "outputs": [
    {
     "name": "stdout",
     "output_type": "stream",
     "text": [
      "<class 'pandas.core.frame.DataFrame'>\n",
      "RangeIndex: 500 entries, 0 to 499\n",
      "Data columns (total 8 columns):\n",
      "user_id       500 non-null int64\n",
      "age           500 non-null int64\n",
      "churn_date    38 non-null object\n",
      "city          500 non-null object\n",
      "first_name    500 non-null object\n",
      "last_name     500 non-null object\n",
      "reg_date      500 non-null object\n",
      "tariff        500 non-null object\n",
      "dtypes: int64(2), object(6)\n",
      "memory usage: 31.4+ KB\n"
     ]
    }
   ],
   "source": [
    "users.info()"
   ]
  },
  {
   "cell_type": "code",
   "execution_count": 5,
   "metadata": {},
   "outputs": [
    {
     "data": {
      "text/plain": [
       "smart    351\n",
       "ultra    149\n",
       "Name: tariff, dtype: int64"
      ]
     },
     "execution_count": 5,
     "metadata": {},
     "output_type": "execute_result"
    }
   ],
   "source": [
    "users['tariff'].value_counts()"
   ]
  },
  {
   "cell_type": "code",
   "execution_count": 6,
   "metadata": {},
   "outputs": [
    {
     "data": {
      "text/plain": [
       "NaN           462\n",
       "2018-10-03      2\n",
       "2018-12-03      2\n",
       "2018-12-21      2\n",
       "2018-12-09      2\n",
       "Name: churn_date, dtype: int64"
      ]
     },
     "execution_count": 6,
     "metadata": {},
     "output_type": "execute_result"
    }
   ],
   "source": [
    "users['churn_date'].value_counts(dropna=False).head()"
   ]
  },
  {
   "cell_type": "markdown",
   "metadata": {},
   "source": [
    "Много пропусков в churn_date.\n",
    "\n",
    "#### В таблице calls представлена информация о звонках."
   ]
  },
  {
   "cell_type": "code",
   "execution_count": 7,
   "metadata": {},
   "outputs": [
    {
     "data": {
      "text/html": [
       "<div>\n",
       "<style scoped>\n",
       "    .dataframe tbody tr th:only-of-type {\n",
       "        vertical-align: middle;\n",
       "    }\n",
       "\n",
       "    .dataframe tbody tr th {\n",
       "        vertical-align: top;\n",
       "    }\n",
       "\n",
       "    .dataframe thead th {\n",
       "        text-align: right;\n",
       "    }\n",
       "</style>\n",
       "<table border=\"1\" class=\"dataframe\">\n",
       "  <thead>\n",
       "    <tr style=\"text-align: right;\">\n",
       "      <th></th>\n",
       "      <th>id</th>\n",
       "      <th>call_date</th>\n",
       "      <th>duration</th>\n",
       "      <th>user_id</th>\n",
       "    </tr>\n",
       "  </thead>\n",
       "  <tbody>\n",
       "    <tr>\n",
       "      <td>0</td>\n",
       "      <td>1000_0</td>\n",
       "      <td>2018-07-25</td>\n",
       "      <td>0.00</td>\n",
       "      <td>1000</td>\n",
       "    </tr>\n",
       "    <tr>\n",
       "      <td>1</td>\n",
       "      <td>1000_1</td>\n",
       "      <td>2018-08-17</td>\n",
       "      <td>0.00</td>\n",
       "      <td>1000</td>\n",
       "    </tr>\n",
       "    <tr>\n",
       "      <td>2</td>\n",
       "      <td>1000_2</td>\n",
       "      <td>2018-06-11</td>\n",
       "      <td>2.85</td>\n",
       "      <td>1000</td>\n",
       "    </tr>\n",
       "    <tr>\n",
       "      <td>3</td>\n",
       "      <td>1000_3</td>\n",
       "      <td>2018-09-21</td>\n",
       "      <td>13.80</td>\n",
       "      <td>1000</td>\n",
       "    </tr>\n",
       "    <tr>\n",
       "      <td>4</td>\n",
       "      <td>1000_4</td>\n",
       "      <td>2018-12-15</td>\n",
       "      <td>5.18</td>\n",
       "      <td>1000</td>\n",
       "    </tr>\n",
       "  </tbody>\n",
       "</table>\n",
       "</div>"
      ],
      "text/plain": [
       "       id   call_date  duration  user_id\n",
       "0  1000_0  2018-07-25      0.00     1000\n",
       "1  1000_1  2018-08-17      0.00     1000\n",
       "2  1000_2  2018-06-11      2.85     1000\n",
       "3  1000_3  2018-09-21     13.80     1000\n",
       "4  1000_4  2018-12-15      5.18     1000"
      ]
     },
     "execution_count": 7,
     "metadata": {},
     "output_type": "execute_result"
    }
   ],
   "source": [
    "calls.head()"
   ]
  },
  {
   "cell_type": "code",
   "execution_count": 8,
   "metadata": {},
   "outputs": [
    {
     "name": "stdout",
     "output_type": "stream",
     "text": [
      "<class 'pandas.core.frame.DataFrame'>\n",
      "RangeIndex: 202607 entries, 0 to 202606\n",
      "Data columns (total 4 columns):\n",
      "id           202607 non-null object\n",
      "call_date    202607 non-null object\n",
      "duration     202607 non-null float64\n",
      "user_id      202607 non-null int64\n",
      "dtypes: float64(1), int64(1), object(2)\n",
      "memory usage: 6.2+ MB\n"
     ]
    }
   ],
   "source": [
    "calls.info()"
   ]
  },
  {
   "cell_type": "code",
   "execution_count": 9,
   "metadata": {},
   "outputs": [
    {
     "data": {
      "text/plain": [
       "0.00    39613\n",
       "4.49      142\n",
       "5.50      142\n",
       "6.15      141\n",
       "6.38      141\n",
       "Name: duration, dtype: int64"
      ]
     },
     "execution_count": 9,
     "metadata": {},
     "output_type": "execute_result"
    }
   ],
   "source": [
    "calls['duration'].value_counts().head()"
   ]
  },
  {
   "cell_type": "markdown",
   "metadata": {},
   "source": [
    "Очень много звонков длительностью в 0 секунд.\n",
    "\n",
    "#### В таблице messages представлена информация о сообщениях."
   ]
  },
  {
   "cell_type": "code",
   "execution_count": 10,
   "metadata": {},
   "outputs": [
    {
     "data": {
      "text/html": [
       "<div>\n",
       "<style scoped>\n",
       "    .dataframe tbody tr th:only-of-type {\n",
       "        vertical-align: middle;\n",
       "    }\n",
       "\n",
       "    .dataframe tbody tr th {\n",
       "        vertical-align: top;\n",
       "    }\n",
       "\n",
       "    .dataframe thead th {\n",
       "        text-align: right;\n",
       "    }\n",
       "</style>\n",
       "<table border=\"1\" class=\"dataframe\">\n",
       "  <thead>\n",
       "    <tr style=\"text-align: right;\">\n",
       "      <th></th>\n",
       "      <th>id</th>\n",
       "      <th>message_date</th>\n",
       "      <th>user_id</th>\n",
       "    </tr>\n",
       "  </thead>\n",
       "  <tbody>\n",
       "    <tr>\n",
       "      <td>0</td>\n",
       "      <td>1000_0</td>\n",
       "      <td>2018-06-27</td>\n",
       "      <td>1000</td>\n",
       "    </tr>\n",
       "    <tr>\n",
       "      <td>1</td>\n",
       "      <td>1000_1</td>\n",
       "      <td>2018-10-08</td>\n",
       "      <td>1000</td>\n",
       "    </tr>\n",
       "    <tr>\n",
       "      <td>2</td>\n",
       "      <td>1000_2</td>\n",
       "      <td>2018-08-04</td>\n",
       "      <td>1000</td>\n",
       "    </tr>\n",
       "    <tr>\n",
       "      <td>3</td>\n",
       "      <td>1000_3</td>\n",
       "      <td>2018-06-16</td>\n",
       "      <td>1000</td>\n",
       "    </tr>\n",
       "    <tr>\n",
       "      <td>4</td>\n",
       "      <td>1000_4</td>\n",
       "      <td>2018-12-05</td>\n",
       "      <td>1000</td>\n",
       "    </tr>\n",
       "  </tbody>\n",
       "</table>\n",
       "</div>"
      ],
      "text/plain": [
       "       id message_date  user_id\n",
       "0  1000_0   2018-06-27     1000\n",
       "1  1000_1   2018-10-08     1000\n",
       "2  1000_2   2018-08-04     1000\n",
       "3  1000_3   2018-06-16     1000\n",
       "4  1000_4   2018-12-05     1000"
      ]
     },
     "execution_count": 10,
     "metadata": {},
     "output_type": "execute_result"
    }
   ],
   "source": [
    "messages.head()"
   ]
  },
  {
   "cell_type": "code",
   "execution_count": 11,
   "metadata": {},
   "outputs": [
    {
     "name": "stdout",
     "output_type": "stream",
     "text": [
      "<class 'pandas.core.frame.DataFrame'>\n",
      "RangeIndex: 123036 entries, 0 to 123035\n",
      "Data columns (total 3 columns):\n",
      "id              123036 non-null object\n",
      "message_date    123036 non-null object\n",
      "user_id         123036 non-null int64\n",
      "dtypes: int64(1), object(2)\n",
      "memory usage: 2.8+ MB\n"
     ]
    }
   ],
   "source": [
    "messages.info()"
   ]
  },
  {
   "cell_type": "markdown",
   "metadata": {},
   "source": [
    "#### В таблице internet представлена информация о интернет-сессиях."
   ]
  },
  {
   "cell_type": "code",
   "execution_count": 12,
   "metadata": {},
   "outputs": [
    {
     "data": {
      "text/html": [
       "<div>\n",
       "<style scoped>\n",
       "    .dataframe tbody tr th:only-of-type {\n",
       "        vertical-align: middle;\n",
       "    }\n",
       "\n",
       "    .dataframe tbody tr th {\n",
       "        vertical-align: top;\n",
       "    }\n",
       "\n",
       "    .dataframe thead th {\n",
       "        text-align: right;\n",
       "    }\n",
       "</style>\n",
       "<table border=\"1\" class=\"dataframe\">\n",
       "  <thead>\n",
       "    <tr style=\"text-align: right;\">\n",
       "      <th></th>\n",
       "      <th>Unnamed: 0</th>\n",
       "      <th>id</th>\n",
       "      <th>mb_used</th>\n",
       "      <th>session_date</th>\n",
       "      <th>user_id</th>\n",
       "    </tr>\n",
       "  </thead>\n",
       "  <tbody>\n",
       "    <tr>\n",
       "      <td>0</td>\n",
       "      <td>0</td>\n",
       "      <td>1000_0</td>\n",
       "      <td>112.95</td>\n",
       "      <td>2018-11-25</td>\n",
       "      <td>1000</td>\n",
       "    </tr>\n",
       "    <tr>\n",
       "      <td>1</td>\n",
       "      <td>1</td>\n",
       "      <td>1000_1</td>\n",
       "      <td>1052.81</td>\n",
       "      <td>2018-09-07</td>\n",
       "      <td>1000</td>\n",
       "    </tr>\n",
       "    <tr>\n",
       "      <td>2</td>\n",
       "      <td>2</td>\n",
       "      <td>1000_2</td>\n",
       "      <td>1197.26</td>\n",
       "      <td>2018-06-25</td>\n",
       "      <td>1000</td>\n",
       "    </tr>\n",
       "    <tr>\n",
       "      <td>3</td>\n",
       "      <td>3</td>\n",
       "      <td>1000_3</td>\n",
       "      <td>550.27</td>\n",
       "      <td>2018-08-22</td>\n",
       "      <td>1000</td>\n",
       "    </tr>\n",
       "    <tr>\n",
       "      <td>4</td>\n",
       "      <td>4</td>\n",
       "      <td>1000_4</td>\n",
       "      <td>302.56</td>\n",
       "      <td>2018-09-24</td>\n",
       "      <td>1000</td>\n",
       "    </tr>\n",
       "  </tbody>\n",
       "</table>\n",
       "</div>"
      ],
      "text/plain": [
       "   Unnamed: 0      id  mb_used session_date  user_id\n",
       "0           0  1000_0   112.95   2018-11-25     1000\n",
       "1           1  1000_1  1052.81   2018-09-07     1000\n",
       "2           2  1000_2  1197.26   2018-06-25     1000\n",
       "3           3  1000_3   550.27   2018-08-22     1000\n",
       "4           4  1000_4   302.56   2018-09-24     1000"
      ]
     },
     "execution_count": 12,
     "metadata": {},
     "output_type": "execute_result"
    }
   ],
   "source": [
    "internet.head()"
   ]
  },
  {
   "cell_type": "code",
   "execution_count": 13,
   "metadata": {},
   "outputs": [
    {
     "name": "stdout",
     "output_type": "stream",
     "text": [
      "<class 'pandas.core.frame.DataFrame'>\n",
      "RangeIndex: 149396 entries, 0 to 149395\n",
      "Data columns (total 5 columns):\n",
      "Unnamed: 0      149396 non-null int64\n",
      "id              149396 non-null object\n",
      "mb_used         149396 non-null float64\n",
      "session_date    149396 non-null object\n",
      "user_id         149396 non-null int64\n",
      "dtypes: float64(1), int64(2), object(2)\n",
      "memory usage: 5.7+ MB\n"
     ]
    }
   ],
   "source": [
    "internet.info()"
   ]
  },
  {
   "cell_type": "code",
   "execution_count": 14,
   "metadata": {},
   "outputs": [
    {
     "data": {
      "text/plain": [
       "0.00      19598\n",
       "197.56        9\n",
       "447.30        9\n",
       "335.91        9\n",
       "108.95        8\n",
       "Name: mb_used, dtype: int64"
      ]
     },
     "execution_count": 14,
     "metadata": {},
     "output_type": "execute_result"
    }
   ],
   "source": [
    "internet['mb_used'].value_counts().head()"
   ]
  },
  {
   "cell_type": "markdown",
   "metadata": {},
   "source": [
    "#### В таблице tariffs представлена информация о тарифах."
   ]
  },
  {
   "cell_type": "code",
   "execution_count": 15,
   "metadata": {},
   "outputs": [
    {
     "data": {
      "text/html": [
       "<div>\n",
       "<style scoped>\n",
       "    .dataframe tbody tr th:only-of-type {\n",
       "        vertical-align: middle;\n",
       "    }\n",
       "\n",
       "    .dataframe tbody tr th {\n",
       "        vertical-align: top;\n",
       "    }\n",
       "\n",
       "    .dataframe thead th {\n",
       "        text-align: right;\n",
       "    }\n",
       "</style>\n",
       "<table border=\"1\" class=\"dataframe\">\n",
       "  <thead>\n",
       "    <tr style=\"text-align: right;\">\n",
       "      <th></th>\n",
       "      <th>messages_included</th>\n",
       "      <th>mb_per_month_included</th>\n",
       "      <th>minutes_included</th>\n",
       "      <th>rub_monthly_fee</th>\n",
       "      <th>rub_per_gb</th>\n",
       "      <th>rub_per_message</th>\n",
       "      <th>rub_per_minute</th>\n",
       "      <th>tariff_name</th>\n",
       "    </tr>\n",
       "  </thead>\n",
       "  <tbody>\n",
       "    <tr>\n",
       "      <td>0</td>\n",
       "      <td>50</td>\n",
       "      <td>15360</td>\n",
       "      <td>500</td>\n",
       "      <td>550</td>\n",
       "      <td>200</td>\n",
       "      <td>3</td>\n",
       "      <td>3</td>\n",
       "      <td>smart</td>\n",
       "    </tr>\n",
       "    <tr>\n",
       "      <td>1</td>\n",
       "      <td>1000</td>\n",
       "      <td>30720</td>\n",
       "      <td>3000</td>\n",
       "      <td>1950</td>\n",
       "      <td>150</td>\n",
       "      <td>1</td>\n",
       "      <td>1</td>\n",
       "      <td>ultra</td>\n",
       "    </tr>\n",
       "  </tbody>\n",
       "</table>\n",
       "</div>"
      ],
      "text/plain": [
       "   messages_included  mb_per_month_included  minutes_included  \\\n",
       "0                 50                  15360               500   \n",
       "1               1000                  30720              3000   \n",
       "\n",
       "   rub_monthly_fee  rub_per_gb  rub_per_message  rub_per_minute tariff_name  \n",
       "0              550         200                3               3       smart  \n",
       "1             1950         150                1               1       ultra  "
      ]
     },
     "execution_count": 15,
     "metadata": {},
     "output_type": "execute_result"
    }
   ],
   "source": [
    "tariffs.head()"
   ]
  },
  {
   "cell_type": "code",
   "execution_count": 16,
   "metadata": {},
   "outputs": [
    {
     "name": "stdout",
     "output_type": "stream",
     "text": [
      "<class 'pandas.core.frame.DataFrame'>\n",
      "RangeIndex: 2 entries, 0 to 1\n",
      "Data columns (total 8 columns):\n",
      "messages_included        2 non-null int64\n",
      "mb_per_month_included    2 non-null int64\n",
      "minutes_included         2 non-null int64\n",
      "rub_monthly_fee          2 non-null int64\n",
      "rub_per_gb               2 non-null int64\n",
      "rub_per_message          2 non-null int64\n",
      "rub_per_minute           2 non-null int64\n",
      "tariff_name              2 non-null object\n",
      "dtypes: int64(7), object(1)\n",
      "memory usage: 256.0+ bytes\n"
     ]
    }
   ],
   "source": [
    "tariffs.info()"
   ]
  },
  {
   "cell_type": "markdown",
   "metadata": {},
   "source": [
    "### Вывод:"
   ]
  },
  {
   "cell_type": "markdown",
   "metadata": {},
   "source": [
    "В данных есть ошибки:\n",
    " - столбцы с датой в каждой таблице имеют неверный формат;\n",
    " - много звонков с нулевой длительностью;\n",
    " - столбец 'Unnamed: 0' в таблице internet совершенно лишний;\n",
    " - есть смысл округлить в большую сторону значения длительности звонков и трафика. "
   ]
  },
  {
   "cell_type": "markdown",
   "metadata": {},
   "source": [
    "# Шаг 2. Подготовьте данные"
   ]
  },
  {
   "cell_type": "markdown",
   "metadata": {},
   "source": [
    "Приведем данные к нужным типам. Начнем с даты."
   ]
  },
  {
   "cell_type": "code",
   "execution_count": 17,
   "metadata": {},
   "outputs": [],
   "source": [
    "def correct_date(date):\n",
    "    return (pd.to_datetime(date, format='%Y-%m-%d', errors='coerce'))"
   ]
  },
  {
   "cell_type": "code",
   "execution_count": 18,
   "metadata": {},
   "outputs": [],
   "source": [
    "# этот код медленно отрабатывает, видимо, из-за большого количества данных \n",
    "users['churn_date'] = users['churn_date'].apply(correct_date)\n",
    "users['reg_date'] = users['reg_date'].apply(correct_date)\n",
    "calls['call_date'] = calls['call_date'].apply(correct_date)\n",
    "messages['message_date'] = messages['message_date'].apply(correct_date)\n",
    "internet['session_date'] = internet['session_date'].apply(correct_date)"
   ]
  },
  {
   "cell_type": "markdown",
   "metadata": {},
   "source": [
    "Проверим, что получилось."
   ]
  },
  {
   "cell_type": "code",
   "execution_count": 19,
   "metadata": {},
   "outputs": [
    {
     "name": "stdout",
     "output_type": "stream",
     "text": [
      "<class 'pandas.core.frame.DataFrame'>\n",
      "RangeIndex: 500 entries, 0 to 499\n",
      "Data columns (total 8 columns):\n",
      "user_id       500 non-null int64\n",
      "age           500 non-null int64\n",
      "churn_date    38 non-null datetime64[ns]\n",
      "city          500 non-null object\n",
      "first_name    500 non-null object\n",
      "last_name     500 non-null object\n",
      "reg_date      500 non-null datetime64[ns]\n",
      "tariff        500 non-null object\n",
      "dtypes: datetime64[ns](2), int64(2), object(4)\n",
      "memory usage: 31.4+ KB\n",
      "\n",
      "<class 'pandas.core.frame.DataFrame'>\n",
      "RangeIndex: 202607 entries, 0 to 202606\n",
      "Data columns (total 4 columns):\n",
      "id           202607 non-null object\n",
      "call_date    202607 non-null datetime64[ns]\n",
      "duration     202607 non-null float64\n",
      "user_id      202607 non-null int64\n",
      "dtypes: datetime64[ns](1), float64(1), int64(1), object(1)\n",
      "memory usage: 6.2+ MB\n",
      "\n",
      "<class 'pandas.core.frame.DataFrame'>\n",
      "RangeIndex: 123036 entries, 0 to 123035\n",
      "Data columns (total 3 columns):\n",
      "id              123036 non-null object\n",
      "message_date    123036 non-null datetime64[ns]\n",
      "user_id         123036 non-null int64\n",
      "dtypes: datetime64[ns](1), int64(1), object(1)\n",
      "memory usage: 2.8+ MB\n",
      "\n",
      "<class 'pandas.core.frame.DataFrame'>\n",
      "RangeIndex: 149396 entries, 0 to 149395\n",
      "Data columns (total 5 columns):\n",
      "Unnamed: 0      149396 non-null int64\n",
      "id              149396 non-null object\n",
      "mb_used         149396 non-null float64\n",
      "session_date    149396 non-null datetime64[ns]\n",
      "user_id         149396 non-null int64\n",
      "dtypes: datetime64[ns](1), float64(1), int64(2), object(1)\n",
      "memory usage: 5.7+ MB\n",
      "\n"
     ]
    }
   ],
   "source": [
    "dates = [users, calls, messages, internet]\n",
    "for date in dates:\n",
    "    date.info()\n",
    "    print('')"
   ]
  },
  {
   "cell_type": "markdown",
   "metadata": {},
   "source": [
    "Даты переведены в нужный формат и теперь с ними можно работать.\n",
    "\n",
    "Проверим, все ли данные за 2018 год."
   ]
  },
  {
   "cell_type": "code",
   "execution_count": 20,
   "metadata": {},
   "outputs": [
    {
     "name": "stdout",
     "output_type": "stream",
     "text": [
      "users[\"churn_date\"]\n",
      " min   2018-08-17\n",
      "max   2018-12-30\n",
      "Name: churn_date, dtype: datetime64[ns] \n",
      " \n",
      "users[\"reg_date\"]\n",
      " min   2018-01-01\n",
      "max   2018-12-31\n",
      "Name: reg_date, dtype: datetime64[ns] \n",
      " \n",
      "calls[\"call_date\"]\n",
      " min   2018-01-01\n",
      "max   2018-12-31\n",
      "Name: call_date, dtype: datetime64[ns] \n",
      " \n",
      "messages[\"message_date\"]\n",
      " min   2018-01-02\n",
      "max   2018-12-31\n",
      "Name: message_date, dtype: datetime64[ns] \n",
      " \n",
      "internet[\"session_date\"]\n",
      " min   2018-01-01\n",
      "max   2018-12-31\n",
      "Name: session_date, dtype: datetime64[ns]\n"
     ]
    }
   ],
   "source": [
    "print('users[\"churn_date\"]\\n',users['churn_date'].agg(['min','max']),'\\n',\n",
    "'\\nusers[\"reg_date\"]\\n',users['reg_date'].agg(['min','max']),'\\n',\n",
    "'\\ncalls[\"call_date\"]\\n',calls['call_date'].agg(['min','max']),'\\n',\n",
    "'\\nmessages[\"message_date\"]\\n',messages['message_date'].agg(['min','max']),'\\n',\n",
    "'\\ninternet[\"session_date\"]\\n',internet['session_date'].agg(['min','max']))"
   ]
  },
  {
   "cell_type": "markdown",
   "metadata": {},
   "source": [
    "\n",
    "\n",
    "Все данные за 2018 год, ошибок нет.\n",
    "\n",
    "Найдем и исправим ошибки в данных.\n",
    "\n",
    "Начнем с самого простого - удалим лишний столбец  в таблице internet. "
   ]
  },
  {
   "cell_type": "code",
   "execution_count": 21,
   "metadata": {},
   "outputs": [],
   "source": [
    "internet = internet.drop('Unnamed: 0', axis=1)"
   ]
  },
  {
   "cell_type": "code",
   "execution_count": 22,
   "metadata": {},
   "outputs": [
    {
     "data": {
      "text/html": [
       "<div>\n",
       "<style scoped>\n",
       "    .dataframe tbody tr th:only-of-type {\n",
       "        vertical-align: middle;\n",
       "    }\n",
       "\n",
       "    .dataframe tbody tr th {\n",
       "        vertical-align: top;\n",
       "    }\n",
       "\n",
       "    .dataframe thead th {\n",
       "        text-align: right;\n",
       "    }\n",
       "</style>\n",
       "<table border=\"1\" class=\"dataframe\">\n",
       "  <thead>\n",
       "    <tr style=\"text-align: right;\">\n",
       "      <th></th>\n",
       "      <th>id</th>\n",
       "      <th>mb_used</th>\n",
       "      <th>session_date</th>\n",
       "      <th>user_id</th>\n",
       "    </tr>\n",
       "  </thead>\n",
       "  <tbody>\n",
       "    <tr>\n",
       "      <td>0</td>\n",
       "      <td>1000_0</td>\n",
       "      <td>112.95</td>\n",
       "      <td>2018-11-25</td>\n",
       "      <td>1000</td>\n",
       "    </tr>\n",
       "    <tr>\n",
       "      <td>1</td>\n",
       "      <td>1000_1</td>\n",
       "      <td>1052.81</td>\n",
       "      <td>2018-09-07</td>\n",
       "      <td>1000</td>\n",
       "    </tr>\n",
       "    <tr>\n",
       "      <td>2</td>\n",
       "      <td>1000_2</td>\n",
       "      <td>1197.26</td>\n",
       "      <td>2018-06-25</td>\n",
       "      <td>1000</td>\n",
       "    </tr>\n",
       "    <tr>\n",
       "      <td>3</td>\n",
       "      <td>1000_3</td>\n",
       "      <td>550.27</td>\n",
       "      <td>2018-08-22</td>\n",
       "      <td>1000</td>\n",
       "    </tr>\n",
       "    <tr>\n",
       "      <td>4</td>\n",
       "      <td>1000_4</td>\n",
       "      <td>302.56</td>\n",
       "      <td>2018-09-24</td>\n",
       "      <td>1000</td>\n",
       "    </tr>\n",
       "  </tbody>\n",
       "</table>\n",
       "</div>"
      ],
      "text/plain": [
       "       id  mb_used session_date  user_id\n",
       "0  1000_0   112.95   2018-11-25     1000\n",
       "1  1000_1  1052.81   2018-09-07     1000\n",
       "2  1000_2  1197.26   2018-06-25     1000\n",
       "3  1000_3   550.27   2018-08-22     1000\n",
       "4  1000_4   302.56   2018-09-24     1000"
      ]
     },
     "execution_count": 22,
     "metadata": {},
     "output_type": "execute_result"
    }
   ],
   "source": [
    "internet.head()"
   ]
  },
  {
   "cell_type": "markdown",
   "metadata": {},
   "source": [
    "В данных присутвуют звонки длительностью 0.0 минут. Я считаю, что это случаи, когда соединение было установленно, но вызываемый аббонент был занят, выключен или вне зоны действия сети,  \"сбросил трубку\" или просто не взял ее. Таким образом, аппаратура, собирающая статистику, зафиксировала факт звонка, но соединение не состоялось. Условие задачи не является полным, так как неизвестно - берется ли аббонентская плата в данном случае или нет. Если верить форуму (http://netobzor.org/forum/index.php?topic=16138.0) то Украинские операторы берут плату даже в таком случае. Так как в задаче не указанно, на территории какого государства работает наш оператор,но мы знаем, что он <b>федеральный</b> оператор сотовой связи, а данные собраны на русском языке, то представим что «Мегалайн» работает на территории РФ. Согласно 36 пункту постановления правительства РФ от 9 декабря 2014 г. № 1342 \"О порядке оказания услуг телефонной связи\" (http://pravo.gov.ru/proxy/ips/?docbody=&nd=102363603):\n",
    "\n",
    "\"Продолжительность телефонного соединения для целей определения размера платы отсчитывается с 1-й секунды после ответа вызываемого оборудования до момента отбоя вызывающего или вызываемого оборудования или оборудования, заменяющего пользователя в его отсутствие (перечень такого оборудования приведен в пункте 37 Правил). Телефонное соединение продолжительностью менее 3 секунд в объеме оказанных услуг телефонной связи учёту не подлежит.\"\n",
    "\n",
    "Но по условию, «Мегалайн» всегда округляет вверх значения минут и мегабайтов.\n",
    "\n",
    "#### Я пришел к такому решению:\n",
    " - Звонки длительностью 0 секунд будут учитываться, и округлены до минуты.\n",
    " - По той же логике я округлю и пустые значение в данных о трафике. Видимо тафик засчитывается только на загрузку и при отправке запроса на вызываемую страницу, ответа небыло. После этого была закрыта интернет сессия. (Очень странно, но других идей у меня нет.)\n",
    " - «Мегалайн» не выполняет постановления правительства РФ, а значит, если время разговора и траффик абонента больше 0, то происходит списывание. Отвечать за это, как аналитикам, все равно не нам."
   ]
  },
  {
   "cell_type": "code",
   "execution_count": 23,
   "metadata": {},
   "outputs": [],
   "source": [
    "calls['duration'] = calls['duration'].replace(0,1)\n",
    "calls['duration'] = np.ceil(calls['duration']).astype('int32')\n",
    "internet['mb_used'] = internet['mb_used'].replace(0,1)\n",
    "internet['mb_used'] = np.ceil(internet['mb_used']).astype('int32')"
   ]
  },
  {
   "cell_type": "code",
   "execution_count": 24,
   "metadata": {
    "scrolled": true
   },
   "outputs": [
    {
     "data": {
      "text/plain": [
       "1    48015\n",
       "7    11510\n",
       "6    11457\n",
       "5    11411\n",
       "8    11272\n",
       "Name: duration, dtype: int64"
      ]
     },
     "execution_count": 24,
     "metadata": {},
     "output_type": "execute_result"
    }
   ],
   "source": [
    "calls['duration'].value_counts().head()"
   ]
  },
  {
   "cell_type": "code",
   "execution_count": 25,
   "metadata": {},
   "outputs": [
    {
     "data": {
      "text/plain": [
       "1      19700\n",
       "333      231\n",
       "382      228\n",
       "377      224\n",
       "253      222\n",
       "Name: mb_used, dtype: int64"
      ]
     },
     "execution_count": 25,
     "metadata": {},
     "output_type": "execute_result"
    }
   ],
   "source": [
    "internet['mb_used'].value_counts().head()"
   ]
  },
  {
   "cell_type": "markdown",
   "metadata": {},
   "source": [
    "Нули удалены и можно двигаться дальше.\n",
    "\n",
    "Посчитайте для каждого пользователя:\n",
    "\n",
    "количество сделанных звонков и израсходованных минут разговора по месяцам;"
   ]
  },
  {
   "cell_type": "code",
   "execution_count": 26,
   "metadata": {},
   "outputs": [
    {
     "data": {
      "text/html": [
       "<div>\n",
       "<style scoped>\n",
       "    .dataframe tbody tr th:only-of-type {\n",
       "        vertical-align: middle;\n",
       "    }\n",
       "\n",
       "    .dataframe tbody tr th {\n",
       "        vertical-align: top;\n",
       "    }\n",
       "\n",
       "    .dataframe thead th {\n",
       "        text-align: right;\n",
       "    }\n",
       "</style>\n",
       "<table border=\"1\" class=\"dataframe\">\n",
       "  <thead>\n",
       "    <tr style=\"text-align: right;\">\n",
       "      <th></th>\n",
       "      <th>id</th>\n",
       "      <th>call_date</th>\n",
       "      <th>duration</th>\n",
       "      <th>user_id</th>\n",
       "    </tr>\n",
       "  </thead>\n",
       "  <tbody>\n",
       "    <tr>\n",
       "      <td>0</td>\n",
       "      <td>1000_0</td>\n",
       "      <td>2018-07-25</td>\n",
       "      <td>1</td>\n",
       "      <td>1000</td>\n",
       "    </tr>\n",
       "    <tr>\n",
       "      <td>1</td>\n",
       "      <td>1000_1</td>\n",
       "      <td>2018-08-17</td>\n",
       "      <td>1</td>\n",
       "      <td>1000</td>\n",
       "    </tr>\n",
       "    <tr>\n",
       "      <td>2</td>\n",
       "      <td>1000_2</td>\n",
       "      <td>2018-06-11</td>\n",
       "      <td>3</td>\n",
       "      <td>1000</td>\n",
       "    </tr>\n",
       "    <tr>\n",
       "      <td>3</td>\n",
       "      <td>1000_3</td>\n",
       "      <td>2018-09-21</td>\n",
       "      <td>14</td>\n",
       "      <td>1000</td>\n",
       "    </tr>\n",
       "    <tr>\n",
       "      <td>4</td>\n",
       "      <td>1000_4</td>\n",
       "      <td>2018-12-15</td>\n",
       "      <td>6</td>\n",
       "      <td>1000</td>\n",
       "    </tr>\n",
       "    <tr>\n",
       "      <td>...</td>\n",
       "      <td>...</td>\n",
       "      <td>...</td>\n",
       "      <td>...</td>\n",
       "      <td>...</td>\n",
       "    </tr>\n",
       "    <tr>\n",
       "      <td>202602</td>\n",
       "      <td>1499_215</td>\n",
       "      <td>2018-12-26</td>\n",
       "      <td>1</td>\n",
       "      <td>1499</td>\n",
       "    </tr>\n",
       "    <tr>\n",
       "      <td>202603</td>\n",
       "      <td>1499_216</td>\n",
       "      <td>2018-10-18</td>\n",
       "      <td>19</td>\n",
       "      <td>1499</td>\n",
       "    </tr>\n",
       "    <tr>\n",
       "      <td>202604</td>\n",
       "      <td>1499_217</td>\n",
       "      <td>2018-11-10</td>\n",
       "      <td>11</td>\n",
       "      <td>1499</td>\n",
       "    </tr>\n",
       "    <tr>\n",
       "      <td>202605</td>\n",
       "      <td>1499_218</td>\n",
       "      <td>2018-10-06</td>\n",
       "      <td>5</td>\n",
       "      <td>1499</td>\n",
       "    </tr>\n",
       "    <tr>\n",
       "      <td>202606</td>\n",
       "      <td>1499_219</td>\n",
       "      <td>2018-12-14</td>\n",
       "      <td>20</td>\n",
       "      <td>1499</td>\n",
       "    </tr>\n",
       "  </tbody>\n",
       "</table>\n",
       "<p>202607 rows × 4 columns</p>\n",
       "</div>"
      ],
      "text/plain": [
       "              id  call_date  duration  user_id\n",
       "0         1000_0 2018-07-25         1     1000\n",
       "1         1000_1 2018-08-17         1     1000\n",
       "2         1000_2 2018-06-11         3     1000\n",
       "3         1000_3 2018-09-21        14     1000\n",
       "4         1000_4 2018-12-15         6     1000\n",
       "...          ...        ...       ...      ...\n",
       "202602  1499_215 2018-12-26         1     1499\n",
       "202603  1499_216 2018-10-18        19     1499\n",
       "202604  1499_217 2018-11-10        11     1499\n",
       "202605  1499_218 2018-10-06         5     1499\n",
       "202606  1499_219 2018-12-14        20     1499\n",
       "\n",
       "[202607 rows x 4 columns]"
      ]
     },
     "execution_count": 26,
     "metadata": {},
     "output_type": "execute_result"
    }
   ],
   "source": [
    "#users = (users\n",
    "        #.join(calls.groupby('user_id')['duration'].agg(['count','sum']), on = 'user_id')\n",
    "        #.rename(columns = {'count' :'calls_count', 'sum':'calls_sum'}))\n",
    "users\n",
    "calls"
   ]
  },
  {
   "cell_type": "code",
   "execution_count": 27,
   "metadata": {},
   "outputs": [],
   "source": [
    "call_per_month = (calls\n",
    "                  .groupby([pd.DatetimeIndex(calls['call_date']).month, 'user_id'])['duration']\n",
    "                  .agg(['sum','count'])\n",
    "                  .rename(columns = {'count' :'calls_count', 'sum':'calls_sum'}))\n",
    "call_per_month.index.names = ('date','user_id')"
   ]
  },
  {
   "cell_type": "code",
   "execution_count": 28,
   "metadata": {},
   "outputs": [
    {
     "data": {
      "text/html": [
       "<div>\n",
       "<style scoped>\n",
       "    .dataframe tbody tr th:only-of-type {\n",
       "        vertical-align: middle;\n",
       "    }\n",
       "\n",
       "    .dataframe tbody tr th {\n",
       "        vertical-align: top;\n",
       "    }\n",
       "\n",
       "    .dataframe thead th {\n",
       "        text-align: right;\n",
       "    }\n",
       "</style>\n",
       "<table border=\"1\" class=\"dataframe\">\n",
       "  <thead>\n",
       "    <tr style=\"text-align: right;\">\n",
       "      <th></th>\n",
       "      <th></th>\n",
       "      <th>calls_sum</th>\n",
       "      <th>calls_count</th>\n",
       "    </tr>\n",
       "    <tr>\n",
       "      <th>date</th>\n",
       "      <th>user_id</th>\n",
       "      <th></th>\n",
       "      <th></th>\n",
       "    </tr>\n",
       "  </thead>\n",
       "  <tbody>\n",
       "    <tr>\n",
       "      <td rowspan=\"5\" valign=\"top\">1</td>\n",
       "      <td>1433</td>\n",
       "      <td>468</td>\n",
       "      <td>60</td>\n",
       "    </tr>\n",
       "    <tr>\n",
       "      <td>1453</td>\n",
       "      <td>891</td>\n",
       "      <td>128</td>\n",
       "    </tr>\n",
       "    <tr>\n",
       "      <td>1472</td>\n",
       "      <td>297</td>\n",
       "      <td>32</td>\n",
       "    </tr>\n",
       "    <tr>\n",
       "      <td>1475</td>\n",
       "      <td>177</td>\n",
       "      <td>22</td>\n",
       "    </tr>\n",
       "    <tr>\n",
       "      <td>1496</td>\n",
       "      <td>49</td>\n",
       "      <td>7</td>\n",
       "    </tr>\n",
       "    <tr>\n",
       "      <td rowspan=\"5\" valign=\"top\">2</td>\n",
       "      <td>1005</td>\n",
       "      <td>470</td>\n",
       "      <td>69</td>\n",
       "    </tr>\n",
       "    <tr>\n",
       "      <td>1006</td>\n",
       "      <td>42</td>\n",
       "      <td>3</td>\n",
       "    </tr>\n",
       "    <tr>\n",
       "      <td>1032</td>\n",
       "      <td>382</td>\n",
       "      <td>58</td>\n",
       "    </tr>\n",
       "    <tr>\n",
       "      <td>1045</td>\n",
       "      <td>195</td>\n",
       "      <td>27</td>\n",
       "    </tr>\n",
       "    <tr>\n",
       "      <td>1055</td>\n",
       "      <td>450</td>\n",
       "      <td>66</td>\n",
       "    </tr>\n",
       "  </tbody>\n",
       "</table>\n",
       "</div>"
      ],
      "text/plain": [
       "              calls_sum  calls_count\n",
       "date user_id                        \n",
       "1    1433           468           60\n",
       "     1453           891          128\n",
       "     1472           297           32\n",
       "     1475           177           22\n",
       "     1496            49            7\n",
       "2    1005           470           69\n",
       "     1006            42            3\n",
       "     1032           382           58\n",
       "     1045           195           27\n",
       "     1055           450           66"
      ]
     },
     "execution_count": 28,
     "metadata": {},
     "output_type": "execute_result"
    }
   ],
   "source": [
    "call_per_month[38:48]"
   ]
  },
  {
   "cell_type": "markdown",
   "metadata": {},
   "source": [
    "количество отправленных сообщений по месяцам;"
   ]
  },
  {
   "cell_type": "code",
   "execution_count": 29,
   "metadata": {},
   "outputs": [],
   "source": [
    "messages_count = (messages\n",
    "                  .groupby([pd.DatetimeIndex(messages['message_date']).month,'user_id'])['id']\n",
    "                  .count()\n",
    "                  .rename('messages_count'))\n",
    "messages_count.index.names = ('date','user_id')\n",
    "users_details = call_per_month.join(messages_count)\n"
   ]
  },
  {
   "cell_type": "code",
   "execution_count": 30,
   "metadata": {},
   "outputs": [
    {
     "data": {
      "text/html": [
       "<div>\n",
       "<style scoped>\n",
       "    .dataframe tbody tr th:only-of-type {\n",
       "        vertical-align: middle;\n",
       "    }\n",
       "\n",
       "    .dataframe tbody tr th {\n",
       "        vertical-align: top;\n",
       "    }\n",
       "\n",
       "    .dataframe thead th {\n",
       "        text-align: right;\n",
       "    }\n",
       "</style>\n",
       "<table border=\"1\" class=\"dataframe\">\n",
       "  <thead>\n",
       "    <tr style=\"text-align: right;\">\n",
       "      <th></th>\n",
       "      <th></th>\n",
       "      <th>calls_sum</th>\n",
       "      <th>calls_count</th>\n",
       "      <th>messages_count</th>\n",
       "    </tr>\n",
       "    <tr>\n",
       "      <th>date</th>\n",
       "      <th>user_id</th>\n",
       "      <th></th>\n",
       "      <th></th>\n",
       "      <th></th>\n",
       "    </tr>\n",
       "  </thead>\n",
       "  <tbody>\n",
       "    <tr>\n",
       "      <td rowspan=\"5\" valign=\"top\">1</td>\n",
       "      <td>1433</td>\n",
       "      <td>468</td>\n",
       "      <td>60</td>\n",
       "      <td>74.0</td>\n",
       "    </tr>\n",
       "    <tr>\n",
       "      <td>1453</td>\n",
       "      <td>891</td>\n",
       "      <td>128</td>\n",
       "      <td>50.0</td>\n",
       "    </tr>\n",
       "    <tr>\n",
       "      <td>1472</td>\n",
       "      <td>297</td>\n",
       "      <td>32</td>\n",
       "      <td>30.0</td>\n",
       "    </tr>\n",
       "    <tr>\n",
       "      <td>1475</td>\n",
       "      <td>177</td>\n",
       "      <td>22</td>\n",
       "      <td>16.0</td>\n",
       "    </tr>\n",
       "    <tr>\n",
       "      <td>1496</td>\n",
       "      <td>49</td>\n",
       "      <td>7</td>\n",
       "      <td>9.0</td>\n",
       "    </tr>\n",
       "    <tr>\n",
       "      <td rowspan=\"5\" valign=\"top\">2</td>\n",
       "      <td>1005</td>\n",
       "      <td>470</td>\n",
       "      <td>69</td>\n",
       "      <td>38.0</td>\n",
       "    </tr>\n",
       "    <tr>\n",
       "      <td>1006</td>\n",
       "      <td>42</td>\n",
       "      <td>3</td>\n",
       "      <td>NaN</td>\n",
       "    </tr>\n",
       "    <tr>\n",
       "      <td>1032</td>\n",
       "      <td>382</td>\n",
       "      <td>58</td>\n",
       "      <td>36.0</td>\n",
       "    </tr>\n",
       "    <tr>\n",
       "      <td>1045</td>\n",
       "      <td>195</td>\n",
       "      <td>27</td>\n",
       "      <td>49.0</td>\n",
       "    </tr>\n",
       "    <tr>\n",
       "      <td>1055</td>\n",
       "      <td>450</td>\n",
       "      <td>66</td>\n",
       "      <td>25.0</td>\n",
       "    </tr>\n",
       "  </tbody>\n",
       "</table>\n",
       "</div>"
      ],
      "text/plain": [
       "              calls_sum  calls_count  messages_count\n",
       "date user_id                                        \n",
       "1    1433           468           60            74.0\n",
       "     1453           891          128            50.0\n",
       "     1472           297           32            30.0\n",
       "     1475           177           22            16.0\n",
       "     1496            49            7             9.0\n",
       "2    1005           470           69            38.0\n",
       "     1006            42            3             NaN\n",
       "     1032           382           58            36.0\n",
       "     1045           195           27            49.0\n",
       "     1055           450           66            25.0"
      ]
     },
     "execution_count": 30,
     "metadata": {},
     "output_type": "execute_result"
    }
   ],
   "source": [
    "users_details[38:48]"
   ]
  },
  {
   "cell_type": "markdown",
   "metadata": {},
   "source": [
    "объем израсходованного интернет-трафика по месяцам;"
   ]
  },
  {
   "cell_type": "code",
   "execution_count": 31,
   "metadata": {},
   "outputs": [],
   "source": [
    "internet_sum = (internet\n",
    "                .groupby([pd.DatetimeIndex(internet['session_date']).month, 'user_id'])['mb_used']\n",
    "                .sum()\n",
    "                .rename('internet_mb_sum'))\n",
    "internet_sum.index.names = ('date','user_id')\n",
    "users_details = users_details.join(internet_sum).reset_index()"
   ]
  },
  {
   "cell_type": "code",
   "execution_count": 32,
   "metadata": {},
   "outputs": [
    {
     "data": {
      "text/html": [
       "<div>\n",
       "<style scoped>\n",
       "    .dataframe tbody tr th:only-of-type {\n",
       "        vertical-align: middle;\n",
       "    }\n",
       "\n",
       "    .dataframe tbody tr th {\n",
       "        vertical-align: top;\n",
       "    }\n",
       "\n",
       "    .dataframe thead th {\n",
       "        text-align: right;\n",
       "    }\n",
       "</style>\n",
       "<table border=\"1\" class=\"dataframe\">\n",
       "  <thead>\n",
       "    <tr style=\"text-align: right;\">\n",
       "      <th></th>\n",
       "      <th>date</th>\n",
       "      <th>user_id</th>\n",
       "      <th>calls_sum</th>\n",
       "      <th>calls_count</th>\n",
       "      <th>messages_count</th>\n",
       "      <th>internet_mb_sum</th>\n",
       "    </tr>\n",
       "  </thead>\n",
       "  <tbody>\n",
       "    <tr>\n",
       "      <td>38</td>\n",
       "      <td>1</td>\n",
       "      <td>1433</td>\n",
       "      <td>468</td>\n",
       "      <td>60</td>\n",
       "      <td>74.0</td>\n",
       "      <td>9467.0</td>\n",
       "    </tr>\n",
       "    <tr>\n",
       "      <td>39</td>\n",
       "      <td>1</td>\n",
       "      <td>1453</td>\n",
       "      <td>891</td>\n",
       "      <td>128</td>\n",
       "      <td>50.0</td>\n",
       "      <td>19470.0</td>\n",
       "    </tr>\n",
       "    <tr>\n",
       "      <td>40</td>\n",
       "      <td>1</td>\n",
       "      <td>1472</td>\n",
       "      <td>297</td>\n",
       "      <td>32</td>\n",
       "      <td>30.0</td>\n",
       "      <td>11579.0</td>\n",
       "    </tr>\n",
       "    <tr>\n",
       "      <td>41</td>\n",
       "      <td>1</td>\n",
       "      <td>1475</td>\n",
       "      <td>177</td>\n",
       "      <td>22</td>\n",
       "      <td>16.0</td>\n",
       "      <td>8809.0</td>\n",
       "    </tr>\n",
       "    <tr>\n",
       "      <td>42</td>\n",
       "      <td>1</td>\n",
       "      <td>1496</td>\n",
       "      <td>49</td>\n",
       "      <td>7</td>\n",
       "      <td>9.0</td>\n",
       "      <td>3768.0</td>\n",
       "    </tr>\n",
       "    <tr>\n",
       "      <td>43</td>\n",
       "      <td>2</td>\n",
       "      <td>1005</td>\n",
       "      <td>470</td>\n",
       "      <td>69</td>\n",
       "      <td>38.0</td>\n",
       "      <td>7396.0</td>\n",
       "    </tr>\n",
       "    <tr>\n",
       "      <td>44</td>\n",
       "      <td>2</td>\n",
       "      <td>1006</td>\n",
       "      <td>42</td>\n",
       "      <td>3</td>\n",
       "      <td>NaN</td>\n",
       "      <td>1399.0</td>\n",
       "    </tr>\n",
       "    <tr>\n",
       "      <td>45</td>\n",
       "      <td>2</td>\n",
       "      <td>1032</td>\n",
       "      <td>382</td>\n",
       "      <td>58</td>\n",
       "      <td>36.0</td>\n",
       "      <td>12516.0</td>\n",
       "    </tr>\n",
       "    <tr>\n",
       "      <td>46</td>\n",
       "      <td>2</td>\n",
       "      <td>1045</td>\n",
       "      <td>195</td>\n",
       "      <td>27</td>\n",
       "      <td>49.0</td>\n",
       "      <td>14828.0</td>\n",
       "    </tr>\n",
       "    <tr>\n",
       "      <td>47</td>\n",
       "      <td>2</td>\n",
       "      <td>1055</td>\n",
       "      <td>450</td>\n",
       "      <td>66</td>\n",
       "      <td>25.0</td>\n",
       "      <td>14767.0</td>\n",
       "    </tr>\n",
       "  </tbody>\n",
       "</table>\n",
       "</div>"
      ],
      "text/plain": [
       "    date  user_id  calls_sum  calls_count  messages_count  internet_mb_sum\n",
       "38     1     1433        468           60            74.0           9467.0\n",
       "39     1     1453        891          128            50.0          19470.0\n",
       "40     1     1472        297           32            30.0          11579.0\n",
       "41     1     1475        177           22            16.0           8809.0\n",
       "42     1     1496         49            7             9.0           3768.0\n",
       "43     2     1005        470           69            38.0           7396.0\n",
       "44     2     1006         42            3             NaN           1399.0\n",
       "45     2     1032        382           58            36.0          12516.0\n",
       "46     2     1045        195           27            49.0          14828.0\n",
       "47     2     1055        450           66            25.0          14767.0"
      ]
     },
     "execution_count": 32,
     "metadata": {},
     "output_type": "execute_result"
    }
   ],
   "source": [
    "users_details[38:48]"
   ]
  },
  {
   "cell_type": "code",
   "execution_count": 33,
   "metadata": {},
   "outputs": [
    {
     "data": {
      "text/plain": [
       "date               0\n",
       "user_id            0\n",
       "calls_sum          0\n",
       "calls_count        0\n",
       "messages_count     0\n",
       "internet_mb_sum    0\n",
       "dtype: int64"
      ]
     },
     "execution_count": 33,
     "metadata": {},
     "output_type": "execute_result"
    }
   ],
   "source": [
    "users_details = users_details.fillna(0)\n",
    "users_details.isna().sum()"
   ]
  },
  {
   "cell_type": "markdown",
   "metadata": {},
   "source": [
    "Помесячную выручку с каждого пользователя\n",
    "\n",
    "Для начала добавим столбец с тарифами."
   ]
  },
  {
   "cell_type": "code",
   "execution_count": 34,
   "metadata": {},
   "outputs": [],
   "source": [
    "def tariff(user_id):\n",
    "    for user, tariff in zip(users['user_id'], users['tariff']):\n",
    "        if user_id == user:\n",
    "            return tariff\n",
    "        else:\n",
    "            continue\n",
    "\n",
    "users_details['tariff'] = users_details['user_id'].apply(tariff)"
   ]
  },
  {
   "cell_type": "code",
   "execution_count": 35,
   "metadata": {},
   "outputs": [
    {
     "data": {
      "text/html": [
       "<div>\n",
       "<style scoped>\n",
       "    .dataframe tbody tr th:only-of-type {\n",
       "        vertical-align: middle;\n",
       "    }\n",
       "\n",
       "    .dataframe tbody tr th {\n",
       "        vertical-align: top;\n",
       "    }\n",
       "\n",
       "    .dataframe thead th {\n",
       "        text-align: right;\n",
       "    }\n",
       "</style>\n",
       "<table border=\"1\" class=\"dataframe\">\n",
       "  <thead>\n",
       "    <tr style=\"text-align: right;\">\n",
       "      <th></th>\n",
       "      <th>date</th>\n",
       "      <th>user_id</th>\n",
       "      <th>calls_sum</th>\n",
       "      <th>calls_count</th>\n",
       "      <th>messages_count</th>\n",
       "      <th>internet_mb_sum</th>\n",
       "      <th>tariff</th>\n",
       "    </tr>\n",
       "  </thead>\n",
       "  <tbody>\n",
       "    <tr>\n",
       "      <td>0</td>\n",
       "      <td>1</td>\n",
       "      <td>1005</td>\n",
       "      <td>99</td>\n",
       "      <td>15</td>\n",
       "      <td>7.0</td>\n",
       "      <td>2730.0</td>\n",
       "      <td>smart</td>\n",
       "    </tr>\n",
       "    <tr>\n",
       "      <td>1</td>\n",
       "      <td>1</td>\n",
       "      <td>1032</td>\n",
       "      <td>397</td>\n",
       "      <td>61</td>\n",
       "      <td>38.0</td>\n",
       "      <td>24158.0</td>\n",
       "      <td>smart</td>\n",
       "    </tr>\n",
       "    <tr>\n",
       "      <td>2</td>\n",
       "      <td>1</td>\n",
       "      <td>1045</td>\n",
       "      <td>9</td>\n",
       "      <td>1</td>\n",
       "      <td>5.0</td>\n",
       "      <td>2348.0</td>\n",
       "      <td>smart</td>\n",
       "    </tr>\n",
       "    <tr>\n",
       "      <td>3</td>\n",
       "      <td>1</td>\n",
       "      <td>1055</td>\n",
       "      <td>568</td>\n",
       "      <td>64</td>\n",
       "      <td>30.0</td>\n",
       "      <td>17115.0</td>\n",
       "      <td>smart</td>\n",
       "    </tr>\n",
       "    <tr>\n",
       "      <td>4</td>\n",
       "      <td>1</td>\n",
       "      <td>1071</td>\n",
       "      <td>200</td>\n",
       "      <td>24</td>\n",
       "      <td>16.0</td>\n",
       "      <td>15625.0</td>\n",
       "      <td>smart</td>\n",
       "    </tr>\n",
       "    <tr>\n",
       "      <td>...</td>\n",
       "      <td>...</td>\n",
       "      <td>...</td>\n",
       "      <td>...</td>\n",
       "      <td>...</td>\n",
       "      <td>...</td>\n",
       "      <td>...</td>\n",
       "      <td>...</td>\n",
       "    </tr>\n",
       "    <tr>\n",
       "      <td>3169</td>\n",
       "      <td>12</td>\n",
       "      <td>1494</td>\n",
       "      <td>426</td>\n",
       "      <td>62</td>\n",
       "      <td>0.0</td>\n",
       "      <td>17650.0</td>\n",
       "      <td>smart</td>\n",
       "    </tr>\n",
       "    <tr>\n",
       "      <td>3170</td>\n",
       "      <td>12</td>\n",
       "      <td>1495</td>\n",
       "      <td>1066</td>\n",
       "      <td>155</td>\n",
       "      <td>84.0</td>\n",
       "      <td>23451.0</td>\n",
       "      <td>ultra</td>\n",
       "    </tr>\n",
       "    <tr>\n",
       "      <td>3171</td>\n",
       "      <td>12</td>\n",
       "      <td>1496</td>\n",
       "      <td>533</td>\n",
       "      <td>80</td>\n",
       "      <td>51.0</td>\n",
       "      <td>20770.0</td>\n",
       "      <td>smart</td>\n",
       "    </tr>\n",
       "    <tr>\n",
       "      <td>3172</td>\n",
       "      <td>12</td>\n",
       "      <td>1497</td>\n",
       "      <td>558</td>\n",
       "      <td>71</td>\n",
       "      <td>17.0</td>\n",
       "      <td>19946.0</td>\n",
       "      <td>smart</td>\n",
       "    </tr>\n",
       "    <tr>\n",
       "      <td>3173</td>\n",
       "      <td>12</td>\n",
       "      <td>1499</td>\n",
       "      <td>505</td>\n",
       "      <td>69</td>\n",
       "      <td>66.0</td>\n",
       "      <td>13082.0</td>\n",
       "      <td>smart</td>\n",
       "    </tr>\n",
       "  </tbody>\n",
       "</table>\n",
       "<p>3174 rows × 7 columns</p>\n",
       "</div>"
      ],
      "text/plain": [
       "      date  user_id  calls_sum  calls_count  messages_count  internet_mb_sum  \\\n",
       "0        1     1005         99           15             7.0           2730.0   \n",
       "1        1     1032        397           61            38.0          24158.0   \n",
       "2        1     1045          9            1             5.0           2348.0   \n",
       "3        1     1055        568           64            30.0          17115.0   \n",
       "4        1     1071        200           24            16.0          15625.0   \n",
       "...    ...      ...        ...          ...             ...              ...   \n",
       "3169    12     1494        426           62             0.0          17650.0   \n",
       "3170    12     1495       1066          155            84.0          23451.0   \n",
       "3171    12     1496        533           80            51.0          20770.0   \n",
       "3172    12     1497        558           71            17.0          19946.0   \n",
       "3173    12     1499        505           69            66.0          13082.0   \n",
       "\n",
       "     tariff  \n",
       "0     smart  \n",
       "1     smart  \n",
       "2     smart  \n",
       "3     smart  \n",
       "4     smart  \n",
       "...     ...  \n",
       "3169  smart  \n",
       "3170  ultra  \n",
       "3171  smart  \n",
       "3172  smart  \n",
       "3173  smart  \n",
       "\n",
       "[3174 rows x 7 columns]"
      ]
     },
     "execution_count": 35,
     "metadata": {},
     "output_type": "execute_result"
    }
   ],
   "source": [
    "users_details"
   ]
  },
  {
   "cell_type": "markdown",
   "metadata": {},
   "source": [
    "Для каждой траты я написал отдельную функцию."
   ]
  },
  {
   "cell_type": "code",
   "execution_count": 36,
   "metadata": {},
   "outputs": [],
   "source": [
    "def revenue_internet(data):\n",
    "    lim_smart = 15360\n",
    "    lim_ultra = 30720\n",
    "    price_smart = 200\n",
    "    price_ultra = 150\n",
    "    gb = data[0]\n",
    "    tariff = data[1]\n",
    "    if tariff == 'smart':\n",
    "        if gb > lim_smart:\n",
    "            return (((gb - lim_smart)/1024) * price_smart)\n",
    "    else:\n",
    "        if gb > lim_ultra:\n",
    "            return (((gb - lim_ultra)/1024) * price_ultra)"
   ]
  },
  {
   "cell_type": "code",
   "execution_count": 37,
   "metadata": {},
   "outputs": [],
   "source": [
    "def revenue_calls(data):\n",
    "    lim_smart = 500\n",
    "    lim_ultra = 3000\n",
    "    price_smart = 3\n",
    "    price_ultra = 1\n",
    "    call = data[0]\n",
    "    tariff = data[1]\n",
    "    if tariff == 'smart':\n",
    "        if call > lim_smart:\n",
    "            return ((call - lim_smart) * price_smart)\n",
    "    else:\n",
    "        if call > lim_ultra:\n",
    "            return ((call - lim_ultra) * price_ultra)"
   ]
  },
  {
   "cell_type": "code",
   "execution_count": 38,
   "metadata": {},
   "outputs": [],
   "source": [
    "def revenue_messages(data):\n",
    "    lim_smart = 50\n",
    "    lim_ultra = 1000\n",
    "    price_smart = 3\n",
    "    price_ultra = 1\n",
    "    mes = data[0]\n",
    "    tariff = data[1]\n",
    "    if tariff == 'smart':\n",
    "        if mes > lim_smart:\n",
    "            return ((mes - lim_smart) * price_smart)\n",
    "    else:\n",
    "        if mes > lim_ultra:\n",
    "            return ((mes - lim_ultra) * price_ultra)"
   ]
  },
  {
   "cell_type": "code",
   "execution_count": 39,
   "metadata": {},
   "outputs": [],
   "source": [
    "def default_revenue(tariff):\n",
    "    if tariff == 'smart':\n",
    "        return 550\n",
    "    else:\n",
    "        return 1950"
   ]
  },
  {
   "cell_type": "code",
   "execution_count": 40,
   "metadata": {},
   "outputs": [],
   "source": [
    "users_details['revenue_internet'] = users_details[['internet_mb_sum','tariff']].apply(revenue_internet, axis=1)\n",
    "users_details['revenue_calls'] = users_details[['calls_sum','tariff']].apply(revenue_calls, axis=1)\n",
    "users_details['revenue_messages'] = users_details[['messages_count','tariff']].apply(revenue_messages, axis=1)\n",
    "users_details['default_revenue'] = users_details['tariff'].apply(default_revenue)\n"
   ]
  },
  {
   "cell_type": "code",
   "execution_count": 41,
   "metadata": {},
   "outputs": [],
   "source": [
    "users_details = users_details.fillna(0).round(2)\n",
    "users_details['additional_revenue'] = users_details['revenue_internet'] + users_details['revenue_calls'] + users_details['revenue_messages'] \n",
    "users_details['revenue'] = users_details['additional_revenue'] + users_details['default_revenue']\n",
    "users_details = users_details.drop(['revenue_internet', 'revenue_calls', 'revenue_messages'],axis=1)"
   ]
  },
  {
   "cell_type": "code",
   "execution_count": 42,
   "metadata": {},
   "outputs": [
    {
     "data": {
      "text/html": [
       "<div>\n",
       "<style scoped>\n",
       "    .dataframe tbody tr th:only-of-type {\n",
       "        vertical-align: middle;\n",
       "    }\n",
       "\n",
       "    .dataframe tbody tr th {\n",
       "        vertical-align: top;\n",
       "    }\n",
       "\n",
       "    .dataframe thead th {\n",
       "        text-align: right;\n",
       "    }\n",
       "</style>\n",
       "<table border=\"1\" class=\"dataframe\">\n",
       "  <thead>\n",
       "    <tr style=\"text-align: right;\">\n",
       "      <th></th>\n",
       "      <th>date</th>\n",
       "      <th>user_id</th>\n",
       "      <th>calls_sum</th>\n",
       "      <th>calls_count</th>\n",
       "      <th>messages_count</th>\n",
       "      <th>internet_mb_sum</th>\n",
       "      <th>tariff</th>\n",
       "      <th>default_revenue</th>\n",
       "      <th>additional_revenue</th>\n",
       "      <th>revenue</th>\n",
       "    </tr>\n",
       "  </thead>\n",
       "  <tbody>\n",
       "    <tr>\n",
       "      <td>0</td>\n",
       "      <td>1</td>\n",
       "      <td>1005</td>\n",
       "      <td>99</td>\n",
       "      <td>15</td>\n",
       "      <td>7.0</td>\n",
       "      <td>2730.0</td>\n",
       "      <td>smart</td>\n",
       "      <td>550</td>\n",
       "      <td>0.00</td>\n",
       "      <td>550.00</td>\n",
       "    </tr>\n",
       "    <tr>\n",
       "      <td>1</td>\n",
       "      <td>1</td>\n",
       "      <td>1032</td>\n",
       "      <td>397</td>\n",
       "      <td>61</td>\n",
       "      <td>38.0</td>\n",
       "      <td>24158.0</td>\n",
       "      <td>smart</td>\n",
       "      <td>550</td>\n",
       "      <td>1718.36</td>\n",
       "      <td>2268.36</td>\n",
       "    </tr>\n",
       "    <tr>\n",
       "      <td>2</td>\n",
       "      <td>1</td>\n",
       "      <td>1045</td>\n",
       "      <td>9</td>\n",
       "      <td>1</td>\n",
       "      <td>5.0</td>\n",
       "      <td>2348.0</td>\n",
       "      <td>smart</td>\n",
       "      <td>550</td>\n",
       "      <td>0.00</td>\n",
       "      <td>550.00</td>\n",
       "    </tr>\n",
       "    <tr>\n",
       "      <td>3</td>\n",
       "      <td>1</td>\n",
       "      <td>1055</td>\n",
       "      <td>568</td>\n",
       "      <td>64</td>\n",
       "      <td>30.0</td>\n",
       "      <td>17115.0</td>\n",
       "      <td>smart</td>\n",
       "      <td>550</td>\n",
       "      <td>546.77</td>\n",
       "      <td>1096.77</td>\n",
       "    </tr>\n",
       "    <tr>\n",
       "      <td>4</td>\n",
       "      <td>1</td>\n",
       "      <td>1071</td>\n",
       "      <td>200</td>\n",
       "      <td>24</td>\n",
       "      <td>16.0</td>\n",
       "      <td>15625.0</td>\n",
       "      <td>smart</td>\n",
       "      <td>550</td>\n",
       "      <td>51.76</td>\n",
       "      <td>601.76</td>\n",
       "    </tr>\n",
       "    <tr>\n",
       "      <td>...</td>\n",
       "      <td>...</td>\n",
       "      <td>...</td>\n",
       "      <td>...</td>\n",
       "      <td>...</td>\n",
       "      <td>...</td>\n",
       "      <td>...</td>\n",
       "      <td>...</td>\n",
       "      <td>...</td>\n",
       "      <td>...</td>\n",
       "      <td>...</td>\n",
       "    </tr>\n",
       "    <tr>\n",
       "      <td>3169</td>\n",
       "      <td>12</td>\n",
       "      <td>1494</td>\n",
       "      <td>426</td>\n",
       "      <td>62</td>\n",
       "      <td>0.0</td>\n",
       "      <td>17650.0</td>\n",
       "      <td>smart</td>\n",
       "      <td>550</td>\n",
       "      <td>447.27</td>\n",
       "      <td>997.27</td>\n",
       "    </tr>\n",
       "    <tr>\n",
       "      <td>3170</td>\n",
       "      <td>12</td>\n",
       "      <td>1495</td>\n",
       "      <td>1066</td>\n",
       "      <td>155</td>\n",
       "      <td>84.0</td>\n",
       "      <td>23451.0</td>\n",
       "      <td>ultra</td>\n",
       "      <td>1950</td>\n",
       "      <td>0.00</td>\n",
       "      <td>1950.00</td>\n",
       "    </tr>\n",
       "    <tr>\n",
       "      <td>3171</td>\n",
       "      <td>12</td>\n",
       "      <td>1496</td>\n",
       "      <td>533</td>\n",
       "      <td>80</td>\n",
       "      <td>51.0</td>\n",
       "      <td>20770.0</td>\n",
       "      <td>smart</td>\n",
       "      <td>550</td>\n",
       "      <td>1158.64</td>\n",
       "      <td>1708.64</td>\n",
       "    </tr>\n",
       "    <tr>\n",
       "      <td>3172</td>\n",
       "      <td>12</td>\n",
       "      <td>1497</td>\n",
       "      <td>558</td>\n",
       "      <td>71</td>\n",
       "      <td>17.0</td>\n",
       "      <td>19946.0</td>\n",
       "      <td>smart</td>\n",
       "      <td>550</td>\n",
       "      <td>1069.70</td>\n",
       "      <td>1619.70</td>\n",
       "    </tr>\n",
       "    <tr>\n",
       "      <td>3173</td>\n",
       "      <td>12</td>\n",
       "      <td>1499</td>\n",
       "      <td>505</td>\n",
       "      <td>69</td>\n",
       "      <td>66.0</td>\n",
       "      <td>13082.0</td>\n",
       "      <td>smart</td>\n",
       "      <td>550</td>\n",
       "      <td>63.00</td>\n",
       "      <td>613.00</td>\n",
       "    </tr>\n",
       "  </tbody>\n",
       "</table>\n",
       "<p>3174 rows × 10 columns</p>\n",
       "</div>"
      ],
      "text/plain": [
       "      date  user_id  calls_sum  calls_count  messages_count  internet_mb_sum  \\\n",
       "0        1     1005         99           15             7.0           2730.0   \n",
       "1        1     1032        397           61            38.0          24158.0   \n",
       "2        1     1045          9            1             5.0           2348.0   \n",
       "3        1     1055        568           64            30.0          17115.0   \n",
       "4        1     1071        200           24            16.0          15625.0   \n",
       "...    ...      ...        ...          ...             ...              ...   \n",
       "3169    12     1494        426           62             0.0          17650.0   \n",
       "3170    12     1495       1066          155            84.0          23451.0   \n",
       "3171    12     1496        533           80            51.0          20770.0   \n",
       "3172    12     1497        558           71            17.0          19946.0   \n",
       "3173    12     1499        505           69            66.0          13082.0   \n",
       "\n",
       "     tariff  default_revenue  additional_revenue  revenue  \n",
       "0     smart              550                0.00   550.00  \n",
       "1     smart              550             1718.36  2268.36  \n",
       "2     smart              550                0.00   550.00  \n",
       "3     smart              550              546.77  1096.77  \n",
       "4     smart              550               51.76   601.76  \n",
       "...     ...              ...                 ...      ...  \n",
       "3169  smart              550              447.27   997.27  \n",
       "3170  ultra             1950                0.00  1950.00  \n",
       "3171  smart              550             1158.64  1708.64  \n",
       "3172  smart              550             1069.70  1619.70  \n",
       "3173  smart              550               63.00   613.00  \n",
       "\n",
       "[3174 rows x 10 columns]"
      ]
     },
     "execution_count": 42,
     "metadata": {},
     "output_type": "execute_result"
    }
   ],
   "source": [
    "users_details"
   ]
  },
  {
   "cell_type": "markdown",
   "metadata": {},
   "source": [
    "### Вывод:"
   ]
  },
  {
   "cell_type": "markdown",
   "metadata": {},
   "source": [
    "Все необходимые данные посчитаны и добавлены в таблицу."
   ]
  },
  {
   "cell_type": "markdown",
   "metadata": {},
   "source": [
    "# Шаг 3. Проанализируйте данные"
   ]
  },
  {
   "cell_type": "markdown",
   "metadata": {},
   "source": [
    "Опишем поведение клиентов оператора. Ответим на вопрос: \"сколько минут разговора, сколько сообщений и какой объём интернет-трафика требуется пользователям каждого тарифа в месяц?\"\n",
    "\n",
    "Но для начала избавимся от выбросов. Для визуализации понадобится matplotlib.pyplot."
   ]
  },
  {
   "cell_type": "code",
   "execution_count": 43,
   "metadata": {},
   "outputs": [],
   "source": [
    "import matplotlib.pyplot as plt"
   ]
  },
  {
   "cell_type": "code",
   "execution_count": 44,
   "metadata": {},
   "outputs": [
    {
     "name": "stdout",
     "output_type": "stream",
     "text": [
      "<class 'pandas.core.frame.DataFrame'>\n",
      "RangeIndex: 3174 entries, 0 to 3173\n",
      "Data columns (total 10 columns):\n",
      "date                  3174 non-null int64\n",
      "user_id               3174 non-null int64\n",
      "calls_sum             3174 non-null int32\n",
      "calls_count           3174 non-null int64\n",
      "messages_count        3174 non-null float64\n",
      "internet_mb_sum       3174 non-null float64\n",
      "tariff                3174 non-null object\n",
      "default_revenue       3174 non-null int64\n",
      "additional_revenue    3174 non-null float64\n",
      "revenue               3174 non-null float64\n",
      "dtypes: float64(4), int32(1), int64(4), object(1)\n",
      "memory usage: 235.7+ KB\n"
     ]
    }
   ],
   "source": [
    "users_details.info()"
   ]
  },
  {
   "cell_type": "code",
   "execution_count": 45,
   "metadata": {
    "scrolled": true
   },
   "outputs": [
    {
     "name": "stdout",
     "output_type": "stream",
     "text": [
      "------------------------- SMART -------------------------\n",
      "           ------------ CALLS_SUM ------------            \n"
     ]
    },
    {
     "data": {
      "image/png": "[encoded data removed]",
      "text/plain": [
       "<Figure size 432x288 with 1 Axes>"
      ]
     },
     "metadata": {
      "needs_background": "light"
     },
     "output_type": "display_data"
    },
    {
     "data": {
      "image/png": "[encoded data removed]",
      "text/plain": [
       "<Figure size 432x288 with 1 Axes>"
      ]
     },
     "metadata": {
      "needs_background": "light"
     },
     "output_type": "display_data"
    },
    {
     "name": "stdout",
     "output_type": "stream",
     "text": [
      "           ------------ MESSAGES_COUNT ------------            \n"
     ]
    },
    {
     "data": {
      "image/png": "[encoded data removed]",
      "text/plain": [
       "<Figure size 432x288 with 1 Axes>"
      ]
     },
     "metadata": {
      "needs_background": "light"
     },
     "output_type": "display_data"
    },
    {
     "data": {
      "image/png": "[encoded data removed]",
      "text/plain": [
       "<Figure size 432x288 with 1 Axes>"
      ]
     },
     "metadata": {
      "needs_background": "light"
     },
     "output_type": "display_data"
    },
    {
     "name": "stdout",
     "output_type": "stream",
     "text": [
      "           ------------ INTERNET_MB_SUM ------------            \n"
     ]
    },
    {
     "data": {
      "image/png": "[encoded data removed]",
      "text/plain": [
       "<Figure size 432x288 with 1 Axes>"
      ]
     },
     "metadata": {
      "needs_background": "light"
     },
     "output_type": "display_data"
    },
    {
     "data": {
      "image/png": "[encoded data removed]",
      "text/plain": [
       "<Figure size 432x288 with 1 Axes>"
      ]
     },
     "metadata": {
      "needs_background": "light"
     },
     "output_type": "display_data"
    },
    {
     "name": "stdout",
     "output_type": "stream",
     "text": [
      "------------------------- ULTRA -------------------------\n",
      "           ------------ CALLS_SUM ------------            \n"
     ]
    },
    {
     "data": {
      "image/png": "[encoded data removed]",
      "text/plain": [
       "<Figure size 432x288 with 1 Axes>"
      ]
     },
     "metadata": {
      "needs_background": "light"
     },
     "output_type": "display_data"
    },
    {
     "data": {
      "image/png": "[encoded data removed]",
      "text/plain": [
       "<Figure size 432x288 with 1 Axes>"
      ]
     },
     "metadata": {
      "needs_background": "light"
     },
     "output_type": "display_data"
    },
    {
     "name": "stdout",
     "output_type": "stream",
     "text": [
      "           ------------ MESSAGES_COUNT ------------            \n"
     ]
    },
    {
     "data": {
      "image/png": "[encoded data removed]",
      "text/plain": [
       "<Figure size 432x288 with 1 Axes>"
      ]
     },
     "metadata": {
      "needs_background": "light"
     },
     "output_type": "display_data"
    },
    {
     "data": {
      "image/png": "[encoded data removed]",
      "text/plain": [
       "<Figure size 432x288 with 1 Axes>"
      ]
     },
     "metadata": {
      "needs_background": "light"
     },
     "output_type": "display_data"
    },
    {
     "name": "stdout",
     "output_type": "stream",
     "text": [
      "           ------------ INTERNET_MB_SUM ------------            \n"
     ]
    },
    {
     "data": {
      "image/png": "[encoded data removed]",
      "text/plain": [
       "<Figure size 432x288 with 1 Axes>"
      ]
     },
     "metadata": {
      "needs_background": "light"
     },
     "output_type": "display_data"
    },
    {
     "data": {
      "image/png": "[encoded data removed]",
      "text/plain": [
       "<Figure size 432x288 with 1 Axes>"
      ]
     },
     "metadata": {
      "needs_background": "light"
     },
     "output_type": "display_data"
    }
   ],
   "source": [
    "for tarif in ['smart', 'ultra']:\n",
    "    print('-------------------------', tarif.upper(), '-------------------------')\n",
    "    for data in ['calls_sum', 'messages_count', 'internet_mb_sum']:\n",
    "        print('           ------------', data.upper(), '------------            ')\n",
    "        users_details[users_details['tariff'] == tarif][data].plot(kind='hist', grid=True)\n",
    "        plt.show()\n",
    "        users_details[users_details['tariff'] == tarif][[data]].boxplot()\n",
    "        plt.show()"
   ]
  },
  {
   "cell_type": "code",
   "execution_count": 46,
   "metadata": {},
   "outputs": [
    {
     "data": {
      "text/html": [
       "<div>\n",
       "<style scoped>\n",
       "    .dataframe tbody tr th:only-of-type {\n",
       "        vertical-align: middle;\n",
       "    }\n",
       "\n",
       "    .dataframe tbody tr th {\n",
       "        vertical-align: top;\n",
       "    }\n",
       "\n",
       "    .dataframe thead th {\n",
       "        text-align: right;\n",
       "    }\n",
       "</style>\n",
       "<table border=\"1\" class=\"dataframe\">\n",
       "  <thead>\n",
       "    <tr style=\"text-align: right;\">\n",
       "      <th></th>\n",
       "      <th>date</th>\n",
       "      <th>user_id</th>\n",
       "      <th>calls_sum</th>\n",
       "      <th>calls_count</th>\n",
       "      <th>messages_count</th>\n",
       "      <th>internet_mb_sum</th>\n",
       "      <th>tariff</th>\n",
       "      <th>default_revenue</th>\n",
       "      <th>additional_revenue</th>\n",
       "      <th>revenue</th>\n",
       "    </tr>\n",
       "  </thead>\n",
       "  <tbody>\n",
       "    <tr>\n",
       "      <td>0</td>\n",
       "      <td>1</td>\n",
       "      <td>1005</td>\n",
       "      <td>99</td>\n",
       "      <td>15</td>\n",
       "      <td>7.0</td>\n",
       "      <td>2730.0</td>\n",
       "      <td>smart</td>\n",
       "      <td>550</td>\n",
       "      <td>0.00</td>\n",
       "      <td>550.00</td>\n",
       "    </tr>\n",
       "    <tr>\n",
       "      <td>1</td>\n",
       "      <td>1</td>\n",
       "      <td>1032</td>\n",
       "      <td>397</td>\n",
       "      <td>61</td>\n",
       "      <td>38.0</td>\n",
       "      <td>24158.0</td>\n",
       "      <td>smart</td>\n",
       "      <td>550</td>\n",
       "      <td>1718.36</td>\n",
       "      <td>2268.36</td>\n",
       "    </tr>\n",
       "    <tr>\n",
       "      <td>2</td>\n",
       "      <td>1</td>\n",
       "      <td>1045</td>\n",
       "      <td>9</td>\n",
       "      <td>1</td>\n",
       "      <td>5.0</td>\n",
       "      <td>2348.0</td>\n",
       "      <td>smart</td>\n",
       "      <td>550</td>\n",
       "      <td>0.00</td>\n",
       "      <td>550.00</td>\n",
       "    </tr>\n",
       "    <tr>\n",
       "      <td>3</td>\n",
       "      <td>1</td>\n",
       "      <td>1055</td>\n",
       "      <td>568</td>\n",
       "      <td>64</td>\n",
       "      <td>30.0</td>\n",
       "      <td>17115.0</td>\n",
       "      <td>smart</td>\n",
       "      <td>550</td>\n",
       "      <td>546.77</td>\n",
       "      <td>1096.77</td>\n",
       "    </tr>\n",
       "    <tr>\n",
       "      <td>4</td>\n",
       "      <td>1</td>\n",
       "      <td>1071</td>\n",
       "      <td>200</td>\n",
       "      <td>24</td>\n",
       "      <td>16.0</td>\n",
       "      <td>15625.0</td>\n",
       "      <td>smart</td>\n",
       "      <td>550</td>\n",
       "      <td>51.76</td>\n",
       "      <td>601.76</td>\n",
       "    </tr>\n",
       "    <tr>\n",
       "      <td>...</td>\n",
       "      <td>...</td>\n",
       "      <td>...</td>\n",
       "      <td>...</td>\n",
       "      <td>...</td>\n",
       "      <td>...</td>\n",
       "      <td>...</td>\n",
       "      <td>...</td>\n",
       "      <td>...</td>\n",
       "      <td>...</td>\n",
       "      <td>...</td>\n",
       "    </tr>\n",
       "    <tr>\n",
       "      <td>3169</td>\n",
       "      <td>12</td>\n",
       "      <td>1494</td>\n",
       "      <td>426</td>\n",
       "      <td>62</td>\n",
       "      <td>0.0</td>\n",
       "      <td>17650.0</td>\n",
       "      <td>smart</td>\n",
       "      <td>550</td>\n",
       "      <td>447.27</td>\n",
       "      <td>997.27</td>\n",
       "    </tr>\n",
       "    <tr>\n",
       "      <td>3170</td>\n",
       "      <td>12</td>\n",
       "      <td>1495</td>\n",
       "      <td>1066</td>\n",
       "      <td>155</td>\n",
       "      <td>84.0</td>\n",
       "      <td>23451.0</td>\n",
       "      <td>ultra</td>\n",
       "      <td>1950</td>\n",
       "      <td>0.00</td>\n",
       "      <td>1950.00</td>\n",
       "    </tr>\n",
       "    <tr>\n",
       "      <td>3171</td>\n",
       "      <td>12</td>\n",
       "      <td>1496</td>\n",
       "      <td>533</td>\n",
       "      <td>80</td>\n",
       "      <td>51.0</td>\n",
       "      <td>20770.0</td>\n",
       "      <td>smart</td>\n",
       "      <td>550</td>\n",
       "      <td>1158.64</td>\n",
       "      <td>1708.64</td>\n",
       "    </tr>\n",
       "    <tr>\n",
       "      <td>3172</td>\n",
       "      <td>12</td>\n",
       "      <td>1497</td>\n",
       "      <td>558</td>\n",
       "      <td>71</td>\n",
       "      <td>17.0</td>\n",
       "      <td>19946.0</td>\n",
       "      <td>smart</td>\n",
       "      <td>550</td>\n",
       "      <td>1069.70</td>\n",
       "      <td>1619.70</td>\n",
       "    </tr>\n",
       "    <tr>\n",
       "      <td>3173</td>\n",
       "      <td>12</td>\n",
       "      <td>1499</td>\n",
       "      <td>505</td>\n",
       "      <td>69</td>\n",
       "      <td>66.0</td>\n",
       "      <td>13082.0</td>\n",
       "      <td>smart</td>\n",
       "      <td>550</td>\n",
       "      <td>63.00</td>\n",
       "      <td>613.00</td>\n",
       "    </tr>\n",
       "  </tbody>\n",
       "</table>\n",
       "<p>3102 rows × 10 columns</p>\n",
       "</div>"
      ],
      "text/plain": [
       "      date  user_id  calls_sum  calls_count  messages_count  internet_mb_sum  \\\n",
       "0        1     1005         99           15             7.0           2730.0   \n",
       "1        1     1032        397           61            38.0          24158.0   \n",
       "2        1     1045          9            1             5.0           2348.0   \n",
       "3        1     1055        568           64            30.0          17115.0   \n",
       "4        1     1071        200           24            16.0          15625.0   \n",
       "...    ...      ...        ...          ...             ...              ...   \n",
       "3169    12     1494        426           62             0.0          17650.0   \n",
       "3170    12     1495       1066          155            84.0          23451.0   \n",
       "3171    12     1496        533           80            51.0          20770.0   \n",
       "3172    12     1497        558           71            17.0          19946.0   \n",
       "3173    12     1499        505           69            66.0          13082.0   \n",
       "\n",
       "     tariff  default_revenue  additional_revenue  revenue  \n",
       "0     smart              550                0.00   550.00  \n",
       "1     smart              550             1718.36  2268.36  \n",
       "2     smart              550                0.00   550.00  \n",
       "3     smart              550              546.77  1096.77  \n",
       "4     smart              550               51.76   601.76  \n",
       "...     ...              ...                 ...      ...  \n",
       "3169  smart              550              447.27   997.27  \n",
       "3170  ultra             1950                0.00  1950.00  \n",
       "3171  smart              550             1158.64  1708.64  \n",
       "3172  smart              550             1069.70  1619.70  \n",
       "3173  smart              550               63.00   613.00  \n",
       "\n",
       "[3102 rows x 10 columns]"
      ]
     },
     "execution_count": 46,
     "metadata": {},
     "output_type": "execute_result"
    }
   ],
   "source": [
    "users_details_clear = (users_details\n",
    "                       .query('(tariff == \"smart\" and calls_sum < 980 and messages_count < 115 and internet_mb_sum < 31000 and internet_mb_sum > 1500) or (tariff == \"ultra\" and calls_sum < 1450 and messages_count < 180 and internet_mb_sum < 49000)'))\n",
    "users_details_clear"
   ]
  },
  {
   "cell_type": "markdown",
   "metadata": {},
   "source": [
    "Теперь ответим на сам вопрос.\n",
    "\n",
    "Воспользуемся для этого groupby() и медианой"
   ]
  },
  {
   "cell_type": "code",
   "execution_count": 47,
   "metadata": {},
   "outputs": [
    {
     "data": {
      "text/html": [
       "<div>\n",
       "<style scoped>\n",
       "    .dataframe tbody tr th:only-of-type {\n",
       "        vertical-align: middle;\n",
       "    }\n",
       "\n",
       "    .dataframe tbody tr th {\n",
       "        vertical-align: top;\n",
       "    }\n",
       "\n",
       "    .dataframe thead th {\n",
       "        text-align: right;\n",
       "    }\n",
       "</style>\n",
       "<table border=\"1\" class=\"dataframe\">\n",
       "  <thead>\n",
       "    <tr style=\"text-align: right;\">\n",
       "      <th></th>\n",
       "      <th></th>\n",
       "      <th>calls_count</th>\n",
       "      <th>calls_sum</th>\n",
       "      <th>messages_count</th>\n",
       "      <th>internet_mb_sum</th>\n",
       "    </tr>\n",
       "    <tr>\n",
       "      <th>date</th>\n",
       "      <th>tariff</th>\n",
       "      <th></th>\n",
       "      <th></th>\n",
       "      <th></th>\n",
       "      <th></th>\n",
       "    </tr>\n",
       "  </thead>\n",
       "  <tbody>\n",
       "    <tr>\n",
       "      <td rowspan=\"2\" valign=\"top\">1</td>\n",
       "      <td>smart</td>\n",
       "      <td>23.0</td>\n",
       "      <td>184.0</td>\n",
       "      <td>16.0</td>\n",
       "      <td>7595.5</td>\n",
       "    </tr>\n",
       "    <tr>\n",
       "      <td>ultra</td>\n",
       "      <td>51.0</td>\n",
       "      <td>399.0</td>\n",
       "      <td>32.0</td>\n",
       "      <td>14810.0</td>\n",
       "    </tr>\n",
       "    <tr>\n",
       "      <td rowspan=\"2\" valign=\"top\">2</td>\n",
       "      <td>smart</td>\n",
       "      <td>43.0</td>\n",
       "      <td>272.0</td>\n",
       "      <td>20.0</td>\n",
       "      <td>12640.0</td>\n",
       "    </tr>\n",
       "    <tr>\n",
       "      <td>ultra</td>\n",
       "      <td>25.0</td>\n",
       "      <td>174.0</td>\n",
       "      <td>5.5</td>\n",
       "      <td>7338.0</td>\n",
       "    </tr>\n",
       "    <tr>\n",
       "      <td rowspan=\"2\" valign=\"top\">3</td>\n",
       "      <td>smart</td>\n",
       "      <td>59.0</td>\n",
       "      <td>420.0</td>\n",
       "      <td>23.0</td>\n",
       "      <td>15697.0</td>\n",
       "    </tr>\n",
       "    <tr>\n",
       "      <td>ultra</td>\n",
       "      <td>56.5</td>\n",
       "      <td>420.5</td>\n",
       "      <td>18.5</td>\n",
       "      <td>18275.5</td>\n",
       "    </tr>\n",
       "    <tr>\n",
       "      <td rowspan=\"2\" valign=\"top\">4</td>\n",
       "      <td>smart</td>\n",
       "      <td>52.0</td>\n",
       "      <td>386.0</td>\n",
       "      <td>29.0</td>\n",
       "      <td>14498.0</td>\n",
       "    </tr>\n",
       "    <tr>\n",
       "      <td>ultra</td>\n",
       "      <td>63.0</td>\n",
       "      <td>495.0</td>\n",
       "      <td>18.0</td>\n",
       "      <td>16935.0</td>\n",
       "    </tr>\n",
       "    <tr>\n",
       "      <td rowspan=\"2\" valign=\"top\">5</td>\n",
       "      <td>smart</td>\n",
       "      <td>59.0</td>\n",
       "      <td>444.0</td>\n",
       "      <td>30.0</td>\n",
       "      <td>16466.5</td>\n",
       "    </tr>\n",
       "    <tr>\n",
       "      <td>ultra</td>\n",
       "      <td>76.5</td>\n",
       "      <td>547.0</td>\n",
       "      <td>23.5</td>\n",
       "      <td>19239.5</td>\n",
       "    </tr>\n",
       "    <tr>\n",
       "      <td rowspan=\"2\" valign=\"top\">6</td>\n",
       "      <td>smart</td>\n",
       "      <td>60.0</td>\n",
       "      <td>415.0</td>\n",
       "      <td>28.0</td>\n",
       "      <td>16314.0</td>\n",
       "    </tr>\n",
       "    <tr>\n",
       "      <td>ultra</td>\n",
       "      <td>69.0</td>\n",
       "      <td>498.0</td>\n",
       "      <td>27.0</td>\n",
       "      <td>19317.0</td>\n",
       "    </tr>\n",
       "    <tr>\n",
       "      <td rowspan=\"2\" valign=\"top\">7</td>\n",
       "      <td>smart</td>\n",
       "      <td>58.0</td>\n",
       "      <td>426.0</td>\n",
       "      <td>29.0</td>\n",
       "      <td>15990.0</td>\n",
       "    </tr>\n",
       "    <tr>\n",
       "      <td>ultra</td>\n",
       "      <td>80.0</td>\n",
       "      <td>595.0</td>\n",
       "      <td>38.0</td>\n",
       "      <td>20004.0</td>\n",
       "    </tr>\n",
       "    <tr>\n",
       "      <td rowspan=\"2\" valign=\"top\">8</td>\n",
       "      <td>smart</td>\n",
       "      <td>62.0</td>\n",
       "      <td>445.0</td>\n",
       "      <td>28.0</td>\n",
       "      <td>16862.0</td>\n",
       "    </tr>\n",
       "    <tr>\n",
       "      <td>ultra</td>\n",
       "      <td>74.0</td>\n",
       "      <td>531.0</td>\n",
       "      <td>40.0</td>\n",
       "      <td>18949.0</td>\n",
       "    </tr>\n",
       "    <tr>\n",
       "      <td rowspan=\"2\" valign=\"top\">9</td>\n",
       "      <td>smart</td>\n",
       "      <td>61.0</td>\n",
       "      <td>448.0</td>\n",
       "      <td>30.0</td>\n",
       "      <td>16054.5</td>\n",
       "    </tr>\n",
       "    <tr>\n",
       "      <td>ultra</td>\n",
       "      <td>77.0</td>\n",
       "      <td>550.0</td>\n",
       "      <td>46.0</td>\n",
       "      <td>19675.0</td>\n",
       "    </tr>\n",
       "    <tr>\n",
       "      <td rowspan=\"2\" valign=\"top\">10</td>\n",
       "      <td>smart</td>\n",
       "      <td>61.0</td>\n",
       "      <td>440.0</td>\n",
       "      <td>30.5</td>\n",
       "      <td>17211.5</td>\n",
       "    </tr>\n",
       "    <tr>\n",
       "      <td>ultra</td>\n",
       "      <td>75.0</td>\n",
       "      <td>548.5</td>\n",
       "      <td>47.0</td>\n",
       "      <td>20337.5</td>\n",
       "    </tr>\n",
       "    <tr>\n",
       "      <td rowspan=\"2\" valign=\"top\">11</td>\n",
       "      <td>smart</td>\n",
       "      <td>60.0</td>\n",
       "      <td>441.0</td>\n",
       "      <td>28.0</td>\n",
       "      <td>17044.0</td>\n",
       "    </tr>\n",
       "    <tr>\n",
       "      <td>ultra</td>\n",
       "      <td>80.0</td>\n",
       "      <td>566.0</td>\n",
       "      <td>43.0</td>\n",
       "      <td>17847.0</td>\n",
       "    </tr>\n",
       "    <tr>\n",
       "      <td rowspan=\"2\" valign=\"top\">12</td>\n",
       "      <td>smart</td>\n",
       "      <td>64.0</td>\n",
       "      <td>479.0</td>\n",
       "      <td>29.0</td>\n",
       "      <td>17399.0</td>\n",
       "    </tr>\n",
       "    <tr>\n",
       "      <td>ultra</td>\n",
       "      <td>84.0</td>\n",
       "      <td>606.0</td>\n",
       "      <td>52.0</td>\n",
       "      <td>21997.0</td>\n",
       "    </tr>\n",
       "  </tbody>\n",
       "</table>\n",
       "</div>"
      ],
      "text/plain": [
       "             calls_count  calls_sum  messages_count  internet_mb_sum\n",
       "date tariff                                                         \n",
       "1    smart          23.0      184.0            16.0           7595.5\n",
       "     ultra          51.0      399.0            32.0          14810.0\n",
       "2    smart          43.0      272.0            20.0          12640.0\n",
       "     ultra          25.0      174.0             5.5           7338.0\n",
       "3    smart          59.0      420.0            23.0          15697.0\n",
       "     ultra          56.5      420.5            18.5          18275.5\n",
       "4    smart          52.0      386.0            29.0          14498.0\n",
       "     ultra          63.0      495.0            18.0          16935.0\n",
       "5    smart          59.0      444.0            30.0          16466.5\n",
       "     ultra          76.5      547.0            23.5          19239.5\n",
       "6    smart          60.0      415.0            28.0          16314.0\n",
       "     ultra          69.0      498.0            27.0          19317.0\n",
       "7    smart          58.0      426.0            29.0          15990.0\n",
       "     ultra          80.0      595.0            38.0          20004.0\n",
       "8    smart          62.0      445.0            28.0          16862.0\n",
       "     ultra          74.0      531.0            40.0          18949.0\n",
       "9    smart          61.0      448.0            30.0          16054.5\n",
       "     ultra          77.0      550.0            46.0          19675.0\n",
       "10   smart          61.0      440.0            30.5          17211.5\n",
       "     ultra          75.0      548.5            47.0          20337.5\n",
       "11   smart          60.0      441.0            28.0          17044.0\n",
       "     ultra          80.0      566.0            43.0          17847.0\n",
       "12   smart          64.0      479.0            29.0          17399.0\n",
       "     ultra          84.0      606.0            52.0          21997.0"
      ]
     },
     "execution_count": 47,
     "metadata": {},
     "output_type": "execute_result"
    }
   ],
   "source": [
    "details_median = users_details_clear.groupby(['date', 'tariff']).median()[['calls_count', 'calls_sum', 'messages_count', 'internet_mb_sum']]\n",
    "details_median"
   ]
  },
  {
   "cell_type": "markdown",
   "metadata": {},
   "source": [
    "В таблице присутствуют дробные значения. Так как компания округляет все в большую сторону, то и мы округлим. Заодно переведем в int32.  "
   ]
  },
  {
   "cell_type": "code",
   "execution_count": 48,
   "metadata": {},
   "outputs": [
    {
     "data": {
      "text/html": [
       "<div>\n",
       "<style scoped>\n",
       "    .dataframe tbody tr th:only-of-type {\n",
       "        vertical-align: middle;\n",
       "    }\n",
       "\n",
       "    .dataframe tbody tr th {\n",
       "        vertical-align: top;\n",
       "    }\n",
       "\n",
       "    .dataframe thead th {\n",
       "        text-align: right;\n",
       "    }\n",
       "</style>\n",
       "<table border=\"1\" class=\"dataframe\">\n",
       "  <thead>\n",
       "    <tr style=\"text-align: right;\">\n",
       "      <th></th>\n",
       "      <th></th>\n",
       "      <th>calls_count</th>\n",
       "      <th>calls_sum</th>\n",
       "      <th>messages_count</th>\n",
       "      <th>internet_mb_sum</th>\n",
       "    </tr>\n",
       "    <tr>\n",
       "      <th>date</th>\n",
       "      <th>tariff</th>\n",
       "      <th></th>\n",
       "      <th></th>\n",
       "      <th></th>\n",
       "      <th></th>\n",
       "    </tr>\n",
       "  </thead>\n",
       "  <tbody>\n",
       "    <tr>\n",
       "      <td rowspan=\"2\" valign=\"top\">1</td>\n",
       "      <td>smart</td>\n",
       "      <td>23</td>\n",
       "      <td>184</td>\n",
       "      <td>16</td>\n",
       "      <td>7596</td>\n",
       "    </tr>\n",
       "    <tr>\n",
       "      <td>ultra</td>\n",
       "      <td>51</td>\n",
       "      <td>399</td>\n",
       "      <td>32</td>\n",
       "      <td>14810</td>\n",
       "    </tr>\n",
       "    <tr>\n",
       "      <td rowspan=\"2\" valign=\"top\">2</td>\n",
       "      <td>smart</td>\n",
       "      <td>43</td>\n",
       "      <td>272</td>\n",
       "      <td>20</td>\n",
       "      <td>12640</td>\n",
       "    </tr>\n",
       "    <tr>\n",
       "      <td>ultra</td>\n",
       "      <td>25</td>\n",
       "      <td>174</td>\n",
       "      <td>6</td>\n",
       "      <td>7338</td>\n",
       "    </tr>\n",
       "    <tr>\n",
       "      <td rowspan=\"2\" valign=\"top\">3</td>\n",
       "      <td>smart</td>\n",
       "      <td>59</td>\n",
       "      <td>420</td>\n",
       "      <td>23</td>\n",
       "      <td>15697</td>\n",
       "    </tr>\n",
       "    <tr>\n",
       "      <td>ultra</td>\n",
       "      <td>57</td>\n",
       "      <td>421</td>\n",
       "      <td>19</td>\n",
       "      <td>18276</td>\n",
       "    </tr>\n",
       "    <tr>\n",
       "      <td rowspan=\"2\" valign=\"top\">4</td>\n",
       "      <td>smart</td>\n",
       "      <td>52</td>\n",
       "      <td>386</td>\n",
       "      <td>29</td>\n",
       "      <td>14498</td>\n",
       "    </tr>\n",
       "    <tr>\n",
       "      <td>ultra</td>\n",
       "      <td>63</td>\n",
       "      <td>495</td>\n",
       "      <td>18</td>\n",
       "      <td>16935</td>\n",
       "    </tr>\n",
       "    <tr>\n",
       "      <td rowspan=\"2\" valign=\"top\">5</td>\n",
       "      <td>smart</td>\n",
       "      <td>59</td>\n",
       "      <td>444</td>\n",
       "      <td>30</td>\n",
       "      <td>16467</td>\n",
       "    </tr>\n",
       "    <tr>\n",
       "      <td>ultra</td>\n",
       "      <td>77</td>\n",
       "      <td>547</td>\n",
       "      <td>24</td>\n",
       "      <td>19240</td>\n",
       "    </tr>\n",
       "    <tr>\n",
       "      <td rowspan=\"2\" valign=\"top\">6</td>\n",
       "      <td>smart</td>\n",
       "      <td>60</td>\n",
       "      <td>415</td>\n",
       "      <td>28</td>\n",
       "      <td>16314</td>\n",
       "    </tr>\n",
       "    <tr>\n",
       "      <td>ultra</td>\n",
       "      <td>69</td>\n",
       "      <td>498</td>\n",
       "      <td>27</td>\n",
       "      <td>19317</td>\n",
       "    </tr>\n",
       "    <tr>\n",
       "      <td rowspan=\"2\" valign=\"top\">7</td>\n",
       "      <td>smart</td>\n",
       "      <td>58</td>\n",
       "      <td>426</td>\n",
       "      <td>29</td>\n",
       "      <td>15990</td>\n",
       "    </tr>\n",
       "    <tr>\n",
       "      <td>ultra</td>\n",
       "      <td>80</td>\n",
       "      <td>595</td>\n",
       "      <td>38</td>\n",
       "      <td>20004</td>\n",
       "    </tr>\n",
       "    <tr>\n",
       "      <td rowspan=\"2\" valign=\"top\">8</td>\n",
       "      <td>smart</td>\n",
       "      <td>62</td>\n",
       "      <td>445</td>\n",
       "      <td>28</td>\n",
       "      <td>16862</td>\n",
       "    </tr>\n",
       "    <tr>\n",
       "      <td>ultra</td>\n",
       "      <td>74</td>\n",
       "      <td>531</td>\n",
       "      <td>40</td>\n",
       "      <td>18949</td>\n",
       "    </tr>\n",
       "    <tr>\n",
       "      <td rowspan=\"2\" valign=\"top\">9</td>\n",
       "      <td>smart</td>\n",
       "      <td>61</td>\n",
       "      <td>448</td>\n",
       "      <td>30</td>\n",
       "      <td>16055</td>\n",
       "    </tr>\n",
       "    <tr>\n",
       "      <td>ultra</td>\n",
       "      <td>77</td>\n",
       "      <td>550</td>\n",
       "      <td>46</td>\n",
       "      <td>19675</td>\n",
       "    </tr>\n",
       "    <tr>\n",
       "      <td rowspan=\"2\" valign=\"top\">10</td>\n",
       "      <td>smart</td>\n",
       "      <td>61</td>\n",
       "      <td>440</td>\n",
       "      <td>31</td>\n",
       "      <td>17212</td>\n",
       "    </tr>\n",
       "    <tr>\n",
       "      <td>ultra</td>\n",
       "      <td>75</td>\n",
       "      <td>549</td>\n",
       "      <td>47</td>\n",
       "      <td>20338</td>\n",
       "    </tr>\n",
       "    <tr>\n",
       "      <td rowspan=\"2\" valign=\"top\">11</td>\n",
       "      <td>smart</td>\n",
       "      <td>60</td>\n",
       "      <td>441</td>\n",
       "      <td>28</td>\n",
       "      <td>17044</td>\n",
       "    </tr>\n",
       "    <tr>\n",
       "      <td>ultra</td>\n",
       "      <td>80</td>\n",
       "      <td>566</td>\n",
       "      <td>43</td>\n",
       "      <td>17847</td>\n",
       "    </tr>\n",
       "    <tr>\n",
       "      <td rowspan=\"2\" valign=\"top\">12</td>\n",
       "      <td>smart</td>\n",
       "      <td>64</td>\n",
       "      <td>479</td>\n",
       "      <td>29</td>\n",
       "      <td>17399</td>\n",
       "    </tr>\n",
       "    <tr>\n",
       "      <td>ultra</td>\n",
       "      <td>84</td>\n",
       "      <td>606</td>\n",
       "      <td>52</td>\n",
       "      <td>21997</td>\n",
       "    </tr>\n",
       "  </tbody>\n",
       "</table>\n",
       "</div>"
      ],
      "text/plain": [
       "             calls_count  calls_sum  messages_count  internet_mb_sum\n",
       "date tariff                                                         \n",
       "1    smart            23        184              16             7596\n",
       "     ultra            51        399              32            14810\n",
       "2    smart            43        272              20            12640\n",
       "     ultra            25        174               6             7338\n",
       "3    smart            59        420              23            15697\n",
       "     ultra            57        421              19            18276\n",
       "4    smart            52        386              29            14498\n",
       "     ultra            63        495              18            16935\n",
       "5    smart            59        444              30            16467\n",
       "     ultra            77        547              24            19240\n",
       "6    smart            60        415              28            16314\n",
       "     ultra            69        498              27            19317\n",
       "7    smart            58        426              29            15990\n",
       "     ultra            80        595              38            20004\n",
       "8    smart            62        445              28            16862\n",
       "     ultra            74        531              40            18949\n",
       "9    smart            61        448              30            16055\n",
       "     ultra            77        550              46            19675\n",
       "10   smart            61        440              31            17212\n",
       "     ultra            75        549              47            20338\n",
       "11   smart            60        441              28            17044\n",
       "     ultra            80        566              43            17847\n",
       "12   smart            64        479              29            17399\n",
       "     ultra            84        606              52            21997"
      ]
     },
     "execution_count": 48,
     "metadata": {},
     "output_type": "execute_result"
    }
   ],
   "source": [
    "details_median = np.ceil(details_median)\n",
    "details_median = details_median.astype('int32')\n",
    "details_median"
   ]
  },
  {
   "cell_type": "code",
   "execution_count": 49,
   "metadata": {},
   "outputs": [
    {
     "data": {
      "text/html": [
       "<div>\n",
       "<style scoped>\n",
       "    .dataframe tbody tr th:only-of-type {\n",
       "        vertical-align: middle;\n",
       "    }\n",
       "\n",
       "    .dataframe tbody tr th {\n",
       "        vertical-align: top;\n",
       "    }\n",
       "\n",
       "    .dataframe thead th {\n",
       "        text-align: right;\n",
       "    }\n",
       "</style>\n",
       "<table border=\"1\" class=\"dataframe\">\n",
       "  <thead>\n",
       "    <tr style=\"text-align: right;\">\n",
       "      <th></th>\n",
       "      <th>calls_count</th>\n",
       "      <th>calls_sum</th>\n",
       "      <th>messages_count</th>\n",
       "      <th>internet_mb_sum</th>\n",
       "    </tr>\n",
       "    <tr>\n",
       "      <th>tariff</th>\n",
       "      <th></th>\n",
       "      <th></th>\n",
       "      <th></th>\n",
       "      <th></th>\n",
       "    </tr>\n",
       "  </thead>\n",
       "  <tbody>\n",
       "    <tr>\n",
       "      <td>smart</td>\n",
       "      <td>55.0</td>\n",
       "      <td>400.0</td>\n",
       "      <td>27.0</td>\n",
       "      <td>15314.0</td>\n",
       "    </tr>\n",
       "    <tr>\n",
       "      <td>ultra</td>\n",
       "      <td>68.0</td>\n",
       "      <td>494.0</td>\n",
       "      <td>33.0</td>\n",
       "      <td>17894.0</td>\n",
       "    </tr>\n",
       "  </tbody>\n",
       "</table>\n",
       "</div>"
      ],
      "text/plain": [
       "        calls_count  calls_sum  messages_count  internet_mb_sum\n",
       "tariff                                                         \n",
       "smart          55.0      400.0            27.0          15314.0\n",
       "ultra          68.0      494.0            33.0          17894.0"
      ]
     },
     "execution_count": 49,
     "metadata": {},
     "output_type": "execute_result"
    }
   ],
   "source": [
    "details_median.groupby('tariff').mean().round()"
   ]
  },
  {
   "cell_type": "markdown",
   "metadata": {},
   "source": [
    "Теперь мы знаем, сколько нужно пользователям каждый месяц. Пользователи разных тарифов, на удивление, за 2018 год в стеднем тратят практически равное количество интернет трафика(в нынешних реалиях два с потовиной гигабайта - это мало, особенно если учесть, что у пользователей ultra 30 Гб). Также сообщения отправляют почти одно и тоже число раз. А вот у звонков разница около 100 мин. Я считаю это достаточно существенно, так как для меня проговорить еще 100 мин - это пытка.\n",
    "\n",
    "Посмотрим, как зависят наши данные от даты на графиках."
   ]
  },
  {
   "cell_type": "code",
   "execution_count": 50,
   "metadata": {},
   "outputs": [
    {
     "data": {
      "text/html": [
       "<div>\n",
       "<style scoped>\n",
       "    .dataframe tbody tr th:only-of-type {\n",
       "        vertical-align: middle;\n",
       "    }\n",
       "\n",
       "    .dataframe tbody tr th {\n",
       "        vertical-align: top;\n",
       "    }\n",
       "\n",
       "    .dataframe thead th {\n",
       "        text-align: right;\n",
       "    }\n",
       "</style>\n",
       "<table border=\"1\" class=\"dataframe\">\n",
       "  <thead>\n",
       "    <tr style=\"text-align: right;\">\n",
       "      <th></th>\n",
       "      <th>date</th>\n",
       "      <th>tariff</th>\n",
       "      <th>calls_count</th>\n",
       "      <th>calls_sum</th>\n",
       "      <th>messages_count</th>\n",
       "      <th>internet_mb_sum</th>\n",
       "    </tr>\n",
       "  </thead>\n",
       "  <tbody>\n",
       "    <tr>\n",
       "      <td>0</td>\n",
       "      <td>1</td>\n",
       "      <td>smart</td>\n",
       "      <td>23</td>\n",
       "      <td>184</td>\n",
       "      <td>16</td>\n",
       "      <td>7596</td>\n",
       "    </tr>\n",
       "    <tr>\n",
       "      <td>1</td>\n",
       "      <td>1</td>\n",
       "      <td>ultra</td>\n",
       "      <td>51</td>\n",
       "      <td>399</td>\n",
       "      <td>32</td>\n",
       "      <td>14810</td>\n",
       "    </tr>\n",
       "    <tr>\n",
       "      <td>2</td>\n",
       "      <td>2</td>\n",
       "      <td>smart</td>\n",
       "      <td>43</td>\n",
       "      <td>272</td>\n",
       "      <td>20</td>\n",
       "      <td>12640</td>\n",
       "    </tr>\n",
       "    <tr>\n",
       "      <td>3</td>\n",
       "      <td>2</td>\n",
       "      <td>ultra</td>\n",
       "      <td>25</td>\n",
       "      <td>174</td>\n",
       "      <td>6</td>\n",
       "      <td>7338</td>\n",
       "    </tr>\n",
       "    <tr>\n",
       "      <td>4</td>\n",
       "      <td>3</td>\n",
       "      <td>smart</td>\n",
       "      <td>59</td>\n",
       "      <td>420</td>\n",
       "      <td>23</td>\n",
       "      <td>15697</td>\n",
       "    </tr>\n",
       "  </tbody>\n",
       "</table>\n",
       "</div>"
      ],
      "text/plain": [
       "   date tariff  calls_count  calls_sum  messages_count  internet_mb_sum\n",
       "0     1  smart           23        184              16             7596\n",
       "1     1  ultra           51        399              32            14810\n",
       "2     2  smart           43        272              20            12640\n",
       "3     2  ultra           25        174               6             7338\n",
       "4     3  smart           59        420              23            15697"
      ]
     },
     "execution_count": 50,
     "metadata": {},
     "output_type": "execute_result"
    }
   ],
   "source": [
    "details_median = details_median.reset_index()\n",
    "details_median.head()"
   ]
  },
  {
   "cell_type": "code",
   "execution_count": 51,
   "metadata": {},
   "outputs": [
    {
     "name": "stdout",
     "output_type": "stream",
     "text": [
      "-------------------------------------------------- CALLS_COUNT --------------------------------------------------\n",
      "корреляция smart 0.7307475471255382\n",
      "корреляция ultra 0.7962819732896487\n"
     ]
    },
    {
     "data": {
      "image/png": "[encoded data removed]",
      "text/plain": [
       "<Figure size 864x432 with 1 Axes>"
      ]
     },
     "metadata": {
      "needs_background": "light"
     },
     "output_type": "display_data"
    },
    {
     "name": "stdout",
     "output_type": "stream",
     "text": [
      "-------------------------------------------------- CALLS_SUM --------------------------------------------------\n",
      "корреляция smart 0.7715800868646973\n",
      "корреляция ultra 0.7459829223642385\n"
     ]
    },
    {
     "data": {
      "image/png": "[encoded data removed]",
      "text/plain": [
       "<Figure size 864x432 with 1 Axes>"
      ]
     },
     "metadata": {
      "needs_background": "light"
     },
     "output_type": "display_data"
    },
    {
     "name": "stdout",
     "output_type": "stream",
     "text": [
      "-------------------------------------------------- MESSAGES_COUNT --------------------------------------------------\n",
      "корреляция smart 0.7403404467762061\n",
      "корреляция ultra 0.8515580758443737\n"
     ]
    },
    {
     "data": {
      "image/png": "[encoded data removed]",
      "text/plain": [
       "<Figure size 864x432 with 1 Axes>"
      ]
     },
     "metadata": {
      "needs_background": "light"
     },
     "output_type": "display_data"
    },
    {
     "name": "stdout",
     "output_type": "stream",
     "text": [
      "-------------------------------------------------- INTERNET_MB_SUM --------------------------------------------------\n",
      "корреляция smart 0.7596642220880272\n",
      "корреляция ultra 0.6718533708047739\n"
     ]
    },
    {
     "data": {
      "image/png": "[encoded data removed]",
      "text/plain": [
       "<Figure size 864x432 with 1 Axes>"
      ]
     },
     "metadata": {
      "needs_background": "light"
     },
     "output_type": "display_data"
    }
   ],
   "source": [
    "for data in ['calls_count', 'calls_sum', 'messages_count', 'internet_mb_sum']:\n",
    "    print('--------------------------------------------------', data.upper(), '--------------------------------------------------')\n",
    "    ax = (details_median[details_median['tariff']=='smart']\n",
    "    .plot(kind='line', x='date', y=data, grid=True, figsize = (14,7), style='-o'))\n",
    "    (details_median[details_median['tariff']=='ultra']\n",
    "    .plot(ax=ax, kind='line', x='date', y=data, grid=True, figsize = (12,6), style='-o')\n",
    "    .legend(['smart','ultra']))\n",
    "    print('корреляция smart', details_median[details_median['tariff']=='smart']['date'].corr(details_median[data]))\n",
    "    print('корреляция ultra', details_median[details_median['tariff']=='ultra']['date'].corr(details_median[data]))\n",
    "    plt.show()"
   ]
  },
  {
   "cell_type": "markdown",
   "metadata": {},
   "source": [
    "Все пользователи из выборки пришло к нам в 2018 году, а ушедших очень мало. Можно сделать вывод, что клиентская база растет. Также в тарифе ultra прослеживаются пики и провалы. Все же, я считаю, это вызвано малым количеством данных. Но можно сказать, что в 3 месяце была какая-то акция по привлечению клиентов в тариф ultra. Также можно сказать, что пользователи smart потребляют меньше, а пользователи ultra практически не используют все возможности тарифа."
   ]
  },
  {
   "cell_type": "code",
   "execution_count": 52,
   "metadata": {},
   "outputs": [
    {
     "data": {
      "text/html": [
       "<div>\n",
       "<style scoped>\n",
       "    .dataframe tbody tr th:only-of-type {\n",
       "        vertical-align: middle;\n",
       "    }\n",
       "\n",
       "    .dataframe tbody tr th {\n",
       "        vertical-align: top;\n",
       "    }\n",
       "\n",
       "    .dataframe thead th {\n",
       "        text-align: right;\n",
       "    }\n",
       "</style>\n",
       "<table border=\"1\" class=\"dataframe\">\n",
       "  <thead>\n",
       "    <tr style=\"text-align: right;\">\n",
       "      <th></th>\n",
       "      <th>calls_count</th>\n",
       "      <th>calls_sum</th>\n",
       "      <th>messages_count</th>\n",
       "      <th>internet_mb_sum</th>\n",
       "      <th>revenue</th>\n",
       "      <th>additional_revenue</th>\n",
       "    </tr>\n",
       "  </thead>\n",
       "  <tbody>\n",
       "    <tr>\n",
       "      <td>0</td>\n",
       "      <td>15</td>\n",
       "      <td>99</td>\n",
       "      <td>7.0</td>\n",
       "      <td>2730.0</td>\n",
       "      <td>550.00</td>\n",
       "      <td>0.00</td>\n",
       "    </tr>\n",
       "    <tr>\n",
       "      <td>1</td>\n",
       "      <td>61</td>\n",
       "      <td>397</td>\n",
       "      <td>38.0</td>\n",
       "      <td>24158.0</td>\n",
       "      <td>2268.36</td>\n",
       "      <td>1718.36</td>\n",
       "    </tr>\n",
       "    <tr>\n",
       "      <td>2</td>\n",
       "      <td>1</td>\n",
       "      <td>9</td>\n",
       "      <td>5.0</td>\n",
       "      <td>2348.0</td>\n",
       "      <td>550.00</td>\n",
       "      <td>0.00</td>\n",
       "    </tr>\n",
       "    <tr>\n",
       "      <td>3</td>\n",
       "      <td>64</td>\n",
       "      <td>568</td>\n",
       "      <td>30.0</td>\n",
       "      <td>17115.0</td>\n",
       "      <td>1096.77</td>\n",
       "      <td>546.77</td>\n",
       "    </tr>\n",
       "    <tr>\n",
       "      <td>4</td>\n",
       "      <td>24</td>\n",
       "      <td>200</td>\n",
       "      <td>16.0</td>\n",
       "      <td>15625.0</td>\n",
       "      <td>601.76</td>\n",
       "      <td>51.76</td>\n",
       "    </tr>\n",
       "    <tr>\n",
       "      <td>...</td>\n",
       "      <td>...</td>\n",
       "      <td>...</td>\n",
       "      <td>...</td>\n",
       "      <td>...</td>\n",
       "      <td>...</td>\n",
       "      <td>...</td>\n",
       "    </tr>\n",
       "    <tr>\n",
       "      <td>3169</td>\n",
       "      <td>62</td>\n",
       "      <td>426</td>\n",
       "      <td>0.0</td>\n",
       "      <td>17650.0</td>\n",
       "      <td>997.27</td>\n",
       "      <td>447.27</td>\n",
       "    </tr>\n",
       "    <tr>\n",
       "      <td>3170</td>\n",
       "      <td>155</td>\n",
       "      <td>1066</td>\n",
       "      <td>84.0</td>\n",
       "      <td>23451.0</td>\n",
       "      <td>1950.00</td>\n",
       "      <td>0.00</td>\n",
       "    </tr>\n",
       "    <tr>\n",
       "      <td>3171</td>\n",
       "      <td>80</td>\n",
       "      <td>533</td>\n",
       "      <td>51.0</td>\n",
       "      <td>20770.0</td>\n",
       "      <td>1708.64</td>\n",
       "      <td>1158.64</td>\n",
       "    </tr>\n",
       "    <tr>\n",
       "      <td>3172</td>\n",
       "      <td>71</td>\n",
       "      <td>558</td>\n",
       "      <td>17.0</td>\n",
       "      <td>19946.0</td>\n",
       "      <td>1619.70</td>\n",
       "      <td>1069.70</td>\n",
       "    </tr>\n",
       "    <tr>\n",
       "      <td>3173</td>\n",
       "      <td>69</td>\n",
       "      <td>505</td>\n",
       "      <td>66.0</td>\n",
       "      <td>13082.0</td>\n",
       "      <td>613.00</td>\n",
       "      <td>63.00</td>\n",
       "    </tr>\n",
       "  </tbody>\n",
       "</table>\n",
       "<p>3102 rows × 6 columns</p>\n",
       "</div>"
      ],
      "text/plain": [
       "      calls_count  calls_sum  messages_count  internet_mb_sum  revenue  \\\n",
       "0              15         99             7.0           2730.0   550.00   \n",
       "1              61        397            38.0          24158.0  2268.36   \n",
       "2               1          9             5.0           2348.0   550.00   \n",
       "3              64        568            30.0          17115.0  1096.77   \n",
       "4              24        200            16.0          15625.0   601.76   \n",
       "...           ...        ...             ...              ...      ...   \n",
       "3169           62        426             0.0          17650.0   997.27   \n",
       "3170          155       1066            84.0          23451.0  1950.00   \n",
       "3171           80        533            51.0          20770.0  1708.64   \n",
       "3172           71        558            17.0          19946.0  1619.70   \n",
       "3173           69        505            66.0          13082.0   613.00   \n",
       "\n",
       "      additional_revenue  \n",
       "0                   0.00  \n",
       "1                1718.36  \n",
       "2                   0.00  \n",
       "3                 546.77  \n",
       "4                  51.76  \n",
       "...                  ...  \n",
       "3169              447.27  \n",
       "3170                0.00  \n",
       "3171             1158.64  \n",
       "3172             1069.70  \n",
       "3173               63.00  \n",
       "\n",
       "[3102 rows x 6 columns]"
      ]
     },
     "execution_count": 52,
     "metadata": {},
     "output_type": "execute_result"
    }
   ],
   "source": [
    "users_details_clear[['calls_count', 'calls_sum', 'messages_count', 'internet_mb_sum', 'revenue', 'additional_revenue']]"
   ]
  },
  {
   "cell_type": "markdown",
   "metadata": {},
   "source": [
    "Посчитайтаем среднее количество,дисперсию и стандартное отклонение.\n",
    "\n",
    "Среднее количество:"
   ]
  },
  {
   "cell_type": "code",
   "execution_count": 53,
   "metadata": {},
   "outputs": [
    {
     "data": {
      "text/html": [
       "<div>\n",
       "<style scoped>\n",
       "    .dataframe tbody tr th:only-of-type {\n",
       "        vertical-align: middle;\n",
       "    }\n",
       "\n",
       "    .dataframe tbody tr th {\n",
       "        vertical-align: top;\n",
       "    }\n",
       "\n",
       "    .dataframe thead th {\n",
       "        text-align: right;\n",
       "    }\n",
       "</style>\n",
       "<table border=\"1\" class=\"dataframe\">\n",
       "  <thead>\n",
       "    <tr style=\"text-align: right;\">\n",
       "      <th></th>\n",
       "      <th>smart_mean</th>\n",
       "      <th>ultra_mean</th>\n",
       "    </tr>\n",
       "  </thead>\n",
       "  <tbody>\n",
       "    <tr>\n",
       "      <td>calls_count</td>\n",
       "      <td>58.538853</td>\n",
       "      <td>75.557447</td>\n",
       "    </tr>\n",
       "    <tr>\n",
       "      <td>calls_sum</td>\n",
       "      <td>429.949584</td>\n",
       "      <td>556.595745</td>\n",
       "    </tr>\n",
       "    <tr>\n",
       "      <td>messages_count</td>\n",
       "      <td>33.096670</td>\n",
       "      <td>47.744681</td>\n",
       "    </tr>\n",
       "    <tr>\n",
       "      <td>internet_mb_sum</td>\n",
       "      <td>16225.165125</td>\n",
       "      <td>19402.592553</td>\n",
       "    </tr>\n",
       "    <tr>\n",
       "      <td>revenue</td>\n",
       "      <td>1219.522017</td>\n",
       "      <td>2055.971330</td>\n",
       "    </tr>\n",
       "    <tr>\n",
       "      <td>additional_revenue</td>\n",
       "      <td>669.522017</td>\n",
       "      <td>105.971330</td>\n",
       "    </tr>\n",
       "  </tbody>\n",
       "</table>\n",
       "</div>"
      ],
      "text/plain": [
       "                      smart_mean    ultra_mean\n",
       "calls_count            58.538853     75.557447\n",
       "calls_sum             429.949584    556.595745\n",
       "messages_count         33.096670     47.744681\n",
       "internet_mb_sum     16225.165125  19402.592553\n",
       "revenue              1219.522017   2055.971330\n",
       "additional_revenue    669.522017    105.971330"
      ]
     },
     "execution_count": 53,
     "metadata": {},
     "output_type": "execute_result"
    }
   ],
   "source": [
    "data_smart_mean = users_details_clear[['calls_count', 'calls_sum', 'messages_count', 'internet_mb_sum', 'revenue', 'additional_revenue']][users_details_clear['tariff']=='smart'].mean()\n",
    "data_ultra_mean = users_details_clear[['calls_count', 'calls_sum', 'messages_count', 'internet_mb_sum', 'revenue', 'additional_revenue']][users_details_clear['tariff']=='ultra'].mean()\n",
    "data_mean = pd.DataFrame({'smart_mean':data_smart_mean, 'ultra_mean':data_ultra_mean})\n",
    "\n",
    "data_mean"
   ]
  },
  {
   "cell_type": "markdown",
   "metadata": {},
   "source": [
    "Дисперсия:"
   ]
  },
  {
   "cell_type": "code",
   "execution_count": 54,
   "metadata": {},
   "outputs": [
    {
     "data": {
      "text/html": [
       "<div>\n",
       "<style scoped>\n",
       "    .dataframe tbody tr th:only-of-type {\n",
       "        vertical-align: middle;\n",
       "    }\n",
       "\n",
       "    .dataframe tbody tr th {\n",
       "        vertical-align: top;\n",
       "    }\n",
       "\n",
       "    .dataframe thead th {\n",
       "        text-align: right;\n",
       "    }\n",
       "</style>\n",
       "<table border=\"1\" class=\"dataframe\">\n",
       "  <thead>\n",
       "    <tr style=\"text-align: right;\">\n",
       "      <th></th>\n",
       "      <th>smart_var</th>\n",
       "      <th>ultra_var</th>\n",
       "    </tr>\n",
       "  </thead>\n",
       "  <tbody>\n",
       "    <tr>\n",
       "      <td>calls_count</td>\n",
       "      <td>611.0</td>\n",
       "      <td>1749.0</td>\n",
       "    </tr>\n",
       "    <tr>\n",
       "      <td>calls_sum</td>\n",
       "      <td>34455.0</td>\n",
       "      <td>96085.0</td>\n",
       "    </tr>\n",
       "    <tr>\n",
       "      <td>messages_count</td>\n",
       "      <td>746.0</td>\n",
       "      <td>2029.0</td>\n",
       "    </tr>\n",
       "    <tr>\n",
       "      <td>internet_mb_sum</td>\n",
       "      <td>30168425.0</td>\n",
       "      <td>101188724.0</td>\n",
       "    </tr>\n",
       "    <tr>\n",
       "      <td>revenue</td>\n",
       "      <td>521012.0</td>\n",
       "      <td>119001.0</td>\n",
       "    </tr>\n",
       "    <tr>\n",
       "      <td>additional_revenue</td>\n",
       "      <td>521012.0</td>\n",
       "      <td>119001.0</td>\n",
       "    </tr>\n",
       "  </tbody>\n",
       "</table>\n",
       "</div>"
      ],
      "text/plain": [
       "                     smart_var    ultra_var\n",
       "calls_count              611.0       1749.0\n",
       "calls_sum              34455.0      96085.0\n",
       "messages_count           746.0       2029.0\n",
       "internet_mb_sum     30168425.0  101188724.0\n",
       "revenue               521012.0     119001.0\n",
       "additional_revenue    521012.0     119001.0"
      ]
     },
     "execution_count": 54,
     "metadata": {},
     "output_type": "execute_result"
    }
   ],
   "source": [
    "data_smart_var = pd.Series()\n",
    "data_ultra_var = pd.Series()\n",
    "for data in ['calls_count', 'calls_sum', 'messages_count', 'internet_mb_sum', 'revenue', 'additional_revenue']:\n",
    "    data_smart_var[data] = np.var(users_details_clear[users_details_clear['tariff']=='smart'][data], ddof=1).round()\n",
    "    data_ultra_var[data] = np.var(users_details_clear[users_details_clear['tariff']=='ultra'][data], ddof=1).round()\n",
    "data_var = pd.DataFrame({'smart_var':data_smart_var, 'ultra_var':data_ultra_var})\n",
    "\n",
    "data_var"
   ]
  },
  {
   "cell_type": "markdown",
   "metadata": {},
   "source": [
    "Стандартное отклонение:"
   ]
  },
  {
   "cell_type": "code",
   "execution_count": 55,
   "metadata": {},
   "outputs": [
    {
     "data": {
      "text/html": [
       "<div>\n",
       "<style scoped>\n",
       "    .dataframe tbody tr th:only-of-type {\n",
       "        vertical-align: middle;\n",
       "    }\n",
       "\n",
       "    .dataframe tbody tr th {\n",
       "        vertical-align: top;\n",
       "    }\n",
       "\n",
       "    .dataframe thead th {\n",
       "        text-align: right;\n",
       "    }\n",
       "</style>\n",
       "<table border=\"1\" class=\"dataframe\">\n",
       "  <thead>\n",
       "    <tr style=\"text-align: right;\">\n",
       "      <th></th>\n",
       "      <th>smart_std</th>\n",
       "      <th>ultra_std</th>\n",
       "    </tr>\n",
       "  </thead>\n",
       "  <tbody>\n",
       "    <tr>\n",
       "      <td>calls_count</td>\n",
       "      <td>25.0</td>\n",
       "      <td>42.0</td>\n",
       "    </tr>\n",
       "    <tr>\n",
       "      <td>calls_sum</td>\n",
       "      <td>186.0</td>\n",
       "      <td>310.0</td>\n",
       "    </tr>\n",
       "    <tr>\n",
       "      <td>messages_count</td>\n",
       "      <td>27.0</td>\n",
       "      <td>45.0</td>\n",
       "    </tr>\n",
       "    <tr>\n",
       "      <td>internet_mb_sum</td>\n",
       "      <td>5493.0</td>\n",
       "      <td>10059.0</td>\n",
       "    </tr>\n",
       "    <tr>\n",
       "      <td>revenue</td>\n",
       "      <td>722.0</td>\n",
       "      <td>345.0</td>\n",
       "    </tr>\n",
       "    <tr>\n",
       "      <td>additional_revenue</td>\n",
       "      <td>722.0</td>\n",
       "      <td>345.0</td>\n",
       "    </tr>\n",
       "  </tbody>\n",
       "</table>\n",
       "</div>"
      ],
      "text/plain": [
       "                    smart_std  ultra_std\n",
       "calls_count              25.0       42.0\n",
       "calls_sum               186.0      310.0\n",
       "messages_count           27.0       45.0\n",
       "internet_mb_sum        5493.0    10059.0\n",
       "revenue                 722.0      345.0\n",
       "additional_revenue      722.0      345.0"
      ]
     },
     "execution_count": 55,
     "metadata": {},
     "output_type": "execute_result"
    }
   ],
   "source": [
    "data_smart_std = pd.Series()\n",
    "data_ultra_std = pd.Series()\n",
    "for data in ['calls_count', 'calls_sum', 'messages_count', 'internet_mb_sum', 'revenue', 'additional_revenue']:\n",
    "    data_smart_std[data] = np.std(users_details_clear[users_details_clear['tariff']=='smart'][data], ddof=1).round()\n",
    "    data_ultra_std[data] = np.std(users_details_clear[users_details_clear['tariff']=='ultra'][data], ddof=1).round()\n",
    "data_std = pd.DataFrame({'smart_std':data_smart_std, 'ultra_std':data_ultra_std})\n",
    "\n",
    "data_std"
   ]
  },
  {
   "cell_type": "markdown",
   "metadata": {},
   "source": [
    "Соберем все в одну таблицу."
   ]
  },
  {
   "cell_type": "code",
   "execution_count": 56,
   "metadata": {
    "scrolled": true
   },
   "outputs": [
    {
     "data": {
      "text/html": [
       "<div>\n",
       "<style scoped>\n",
       "    .dataframe tbody tr th:only-of-type {\n",
       "        vertical-align: middle;\n",
       "    }\n",
       "\n",
       "    .dataframe tbody tr th {\n",
       "        vertical-align: top;\n",
       "    }\n",
       "\n",
       "    .dataframe thead th {\n",
       "        text-align: right;\n",
       "    }\n",
       "</style>\n",
       "<table border=\"1\" class=\"dataframe\">\n",
       "  <thead>\n",
       "    <tr style=\"text-align: right;\">\n",
       "      <th></th>\n",
       "      <th>smart_mean</th>\n",
       "      <th>ultra_mean</th>\n",
       "      <th>smart_var</th>\n",
       "      <th>ultra_var</th>\n",
       "      <th>smart_std</th>\n",
       "      <th>ultra_std</th>\n",
       "    </tr>\n",
       "  </thead>\n",
       "  <tbody>\n",
       "    <tr>\n",
       "      <td>calls_count</td>\n",
       "      <td>58.538853</td>\n",
       "      <td>75.557447</td>\n",
       "      <td>611.0</td>\n",
       "      <td>1749.0</td>\n",
       "      <td>25.0</td>\n",
       "      <td>42.0</td>\n",
       "    </tr>\n",
       "    <tr>\n",
       "      <td>calls_sum</td>\n",
       "      <td>429.949584</td>\n",
       "      <td>556.595745</td>\n",
       "      <td>34455.0</td>\n",
       "      <td>96085.0</td>\n",
       "      <td>186.0</td>\n",
       "      <td>310.0</td>\n",
       "    </tr>\n",
       "    <tr>\n",
       "      <td>messages_count</td>\n",
       "      <td>33.096670</td>\n",
       "      <td>47.744681</td>\n",
       "      <td>746.0</td>\n",
       "      <td>2029.0</td>\n",
       "      <td>27.0</td>\n",
       "      <td>45.0</td>\n",
       "    </tr>\n",
       "    <tr>\n",
       "      <td>internet_mb_sum</td>\n",
       "      <td>16225.165125</td>\n",
       "      <td>19402.592553</td>\n",
       "      <td>30168425.0</td>\n",
       "      <td>101188724.0</td>\n",
       "      <td>5493.0</td>\n",
       "      <td>10059.0</td>\n",
       "    </tr>\n",
       "    <tr>\n",
       "      <td>revenue</td>\n",
       "      <td>1219.522017</td>\n",
       "      <td>2055.971330</td>\n",
       "      <td>521012.0</td>\n",
       "      <td>119001.0</td>\n",
       "      <td>722.0</td>\n",
       "      <td>345.0</td>\n",
       "    </tr>\n",
       "    <tr>\n",
       "      <td>additional_revenue</td>\n",
       "      <td>669.522017</td>\n",
       "      <td>105.971330</td>\n",
       "      <td>521012.0</td>\n",
       "      <td>119001.0</td>\n",
       "      <td>722.0</td>\n",
       "      <td>345.0</td>\n",
       "    </tr>\n",
       "  </tbody>\n",
       "</table>\n",
       "</div>"
      ],
      "text/plain": [
       "                      smart_mean    ultra_mean   smart_var    ultra_var  \\\n",
       "calls_count            58.538853     75.557447       611.0       1749.0   \n",
       "calls_sum             429.949584    556.595745     34455.0      96085.0   \n",
       "messages_count         33.096670     47.744681       746.0       2029.0   \n",
       "internet_mb_sum     16225.165125  19402.592553  30168425.0  101188724.0   \n",
       "revenue              1219.522017   2055.971330    521012.0     119001.0   \n",
       "additional_revenue    669.522017    105.971330    521012.0     119001.0   \n",
       "\n",
       "                    smart_std  ultra_std  \n",
       "calls_count              25.0       42.0  \n",
       "calls_sum               186.0      310.0  \n",
       "messages_count           27.0       45.0  \n",
       "internet_mb_sum        5493.0    10059.0  \n",
       "revenue                 722.0      345.0  \n",
       "additional_revenue      722.0      345.0  "
      ]
     },
     "execution_count": 56,
     "metadata": {},
     "output_type": "execute_result"
    }
   ],
   "source": [
    "data_attributes = data_mean.join([data_var,data_std])\n",
    "\n",
    "data_attributes"
   ]
  },
  {
   "cell_type": "markdown",
   "metadata": {},
   "source": [
    "Все данные посчитаны и можно двигаться дальше.\n",
    "\n",
    "Теперь построим гистограммы."
   ]
  },
  {
   "cell_type": "code",
   "execution_count": 57,
   "metadata": {
    "scrolled": true
   },
   "outputs": [
    {
     "name": "stdout",
     "output_type": "stream",
     "text": [
      "------------------------- SMART -------------------------\n"
     ]
    },
    {
     "data": {
      "image/png": "[encoded data removed]",
      "text/plain": [
       "<Figure size 432x288 with 1 Axes>"
      ]
     },
     "metadata": {
      "needs_background": "light"
     },
     "output_type": "display_data"
    },
    {
     "data": {
      "image/png": "[encoded data removed]",
      "text/plain": [
       "<Figure size 432x288 with 1 Axes>"
      ]
     },
     "metadata": {
      "needs_background": "light"
     },
     "output_type": "display_data"
    },
    {
     "data": {
      "image/png": "[encoded data removed]",
      "text/plain": [
       "<Figure size 432x288 with 1 Axes>"
      ]
     },
     "metadata": {
      "needs_background": "light"
     },
     "output_type": "display_data"
    },
    {
     "name": "stdout",
     "output_type": "stream",
     "text": [
      "------------------------- ULTRA -------------------------\n"
     ]
    },
    {
     "data": {
      "image/png": "[encoded data removed]",
      "text/plain": [
       "<Figure size 432x288 with 1 Axes>"
      ]
     },
     "metadata": {
      "needs_background": "light"
     },
     "output_type": "display_data"
    },
    {
     "data": {
      "image/png": "[encoded data removed]",
      "text/plain": [
       "<Figure size 432x288 with 1 Axes>"
      ]
     },
     "metadata": {
      "needs_background": "light"
     },
     "output_type": "display_data"
    },
    {
     "data": {
      "image/png": "[encoded data removed]",
      "text/plain": [
       "<Figure size 432x288 with 1 Axes>"
      ]
     },
     "metadata": {
      "needs_background": "light"
     },
     "output_type": "display_data"
    }
   ],
   "source": [
    "for tarif in ['smart', 'ultra']:\n",
    "    print('-------------------------', tarif.upper(), '-------------------------')\n",
    "       \n",
    "    for data in [ 'calls_sum', 'messages_count', 'internet_mb_sum']:\n",
    "        users_details_clear[users_details_clear['tariff'] == tarif][data].plot(kind='hist',bins=20, grid=True, title=data.upper())\n",
    "        plt.show()"
   ]
  },
  {
   "cell_type": "markdown",
   "metadata": {},
   "source": [
    "Гистограммы звонков и интернет трафика для тарифа smart выглядят как нормальное распределение, а вот гистограмма сообщений скошена вправо. С тарифом ultra, все немногно сложней - графики звонков и интернета отдаленно похожи на семетричный датасет, график же сообщений скошен вправо с пиком в 0. \n",
    "\n",
    "\n",
    "Здесь нужены графики плотности. С их помощью мы лучше поймем форму распределения."
   ]
  },
  {
   "cell_type": "code",
   "execution_count": 58,
   "metadata": {
    "scrolled": true
   },
   "outputs": [
    {
     "name": "stdout",
     "output_type": "stream",
     "text": [
      "------------------------- SMART -------------------------\n"
     ]
    },
    {
     "data": {
      "image/png": "[encoded data removed]",
      "text/plain": [
       "<Figure size 432x288 with 1 Axes>"
      ]
     },
     "metadata": {
      "needs_background": "light"
     },
     "output_type": "display_data"
    },
    {
     "data": {
      "image/png": "[encoded data removed]",
      "text/plain": [
       "<Figure size 432x288 with 1 Axes>"
      ]
     },
     "metadata": {
      "needs_background": "light"
     },
     "output_type": "display_data"
    },
    {
     "data": {
      "image/png": "[encoded data removed]",
      "text/plain": [
       "<Figure size 432x288 with 1 Axes>"
      ]
     },
     "metadata": {
      "needs_background": "light"
     },
     "output_type": "display_data"
    },
    {
     "name": "stdout",
     "output_type": "stream",
     "text": [
      "------------------------- ULTRA -------------------------\n"
     ]
    },
    {
     "data": {
      "image/png": "[encoded data removed]",
      "text/plain": [
       "<Figure size 432x288 with 1 Axes>"
      ]
     },
     "metadata": {
      "needs_background": "light"
     },
     "output_type": "display_data"
    },
    {
     "data": {
      "image/png": "[encoded data removed]",
      "text/plain": [
       "<Figure size 432x288 with 1 Axes>"
      ]
     },
     "metadata": {
      "needs_background": "light"
     },
     "output_type": "display_data"
    },
    {
     "data": {
      "image/png": "[encoded data removed]",
      "text/plain": [
       "<Figure size 432x288 with 1 Axes>"
      ]
     },
     "metadata": {
      "needs_background": "light"
     },
     "output_type": "display_data"
    }
   ],
   "source": [
    "for tarif in ['smart', 'ultra']:\n",
    "    print('-------------------------', tarif.upper(), '-------------------------')\n",
    "       \n",
    "    for data in [ 'calls_sum', 'messages_count', 'internet_mb_sum']:\n",
    "        users_details_clear[users_details_clear['tariff'] == tarif][data].plot(kind='kde', grid=True, title=data.upper())\n",
    "        plt.show()"
   ]
  },
  {
   "cell_type": "markdown",
   "metadata": {},
   "source": [
    "Зная, как выглядит распределение основных параметров, можно переходить к следующему пункту."
   ]
  },
  {
   "cell_type": "markdown",
   "metadata": {},
   "source": [
    "### Вывод"
   ]
  },
  {
   "cell_type": "markdown",
   "metadata": {},
   "source": [
    "По причине того, что в течение первых трех месяцев количество пользователей обоих тарифов активно росло, трудно явно выявить предпочтения пользователей в этит период. Однако дальше, когда рост замедлился, можно сказать, что:\n",
    "\n",
    "### SMART\n",
    "<div style=\"border:solid black 1px; padding: 20px\">\n",
    "    \n",
    "  - Количество звонков держалось в районе 60;\n",
    "  - люди не \"проговаривали\" примерно 1/4 от лимита;\n",
    "  - количество сообщений в месяц держится около 30;\n",
    "  - клиенты потребляют больше интернет трафика, чем в тарифе заявленно, и с каждым месяцем превышение все больше;\n",
    "  - люди в среднем готовы доплачивать за дополнительный трафик даже больше, чем абонентская плата (670 руб. сверху);\n",
    "  - в среднем людям нужно:  \n",
    "    - 430 мин;\n",
    "    - 34 SMS;\n",
    "    - 17 Гб.\n",
    "\n",
    "</div>\n",
    "\n",
    "### ULTRA\n",
    "<div style=\"border:solid black 1px; padding: 20px\">\n",
    "    \n",
    "  - Количество звонков росло в течении всего периода;\n",
    "  - длительность звонков в месяц растет, но составляет только 1/5 от общего лимита;\n",
    "  - количество SMS растет, но по сравнению с лимитом, даже 50 сообщений в месяц это очень мало;\n",
    "  - в среднем, интернетом пользователи ultra пользуются больше и потребление трафика увеличивается, но есть еще в запасе около 1/3 от лимита;\n",
    "  - люди в среднем практически не переплачивают за доп. траффик (100 руб.), однако они не используют все возможности тарифа;\n",
    "  - в среднем людям нужно:  \n",
    "    - 560 мин;\n",
    "    - 48 SMS;\n",
    "    - 20 Гб.\n",
    "    \n",
    "</div>\n",
    "\n",
    "Можно сказать, что большинству пользователей ultra лучше подошел бы тариф smart.\n",
    " "
   ]
  },
  {
   "cell_type": "markdown",
   "metadata": {},
   "source": [
    "# Шаг 4. Проверьте гипотезы"
   ]
  },
  {
   "cell_type": "markdown",
   "metadata": {},
   "source": [
    "Проверим следующие гипотезы: \n",
    " 1. средняя выручка пользователей тарифов «Ультра» и «Смарт» различается;\n",
    " 2. средняя выручка пользователей из Москвы отличается от выручки пользователей из других регионов."
   ]
  },
  {
   "cell_type": "markdown",
   "metadata": {},
   "source": [
    "Средняя выручка пользователей тарифов «Ультра» и «Смарт» различается.\n",
    "\n",
    "Начнем с выдвижения гипотез:\n",
    "\n",
    "<div style=\"border:solid black 1px; padding: 20px\">\n",
    "\n",
    "- <b>H0</b>: Средняя выручка пользователей тарифов «Ультра» и «Смарт» равны между собой.\n",
    "- <b>H1</b>: Средняя выручка пользователей тарифов «Ультра» и «Смарт» не равны между собой.\n",
    "\n",
    "</div>\n",
    "\n",
    "Н0 всегда формулируется так, чтобы использовать знак равенства.\n",
    "Н1 формулируется как альтернативнвная гипотеза.\n",
    "\n",
    "Для проверки гипотез будет найден p-value (уровень значимости). Чтобы проверить гипотезу о равенстве среднего двух генеральных совокупностей по взятым из них выборкам, применим метод scipy.stats.ttest_ind (array1, array2, equal_var). \n",
    "\n",
    "Проверим нулевую гипотезу."
   ]
  },
  {
   "cell_type": "code",
   "execution_count": 59,
   "metadata": {},
   "outputs": [],
   "source": [
    "from scipy import stats as st"
   ]
  },
  {
   "cell_type": "code",
   "execution_count": 60,
   "metadata": {},
   "outputs": [
    {
     "data": {
      "text/html": [
       "<div>\n",
       "<style scoped>\n",
       "    .dataframe tbody tr th:only-of-type {\n",
       "        vertical-align: middle;\n",
       "    }\n",
       "\n",
       "    .dataframe tbody tr th {\n",
       "        vertical-align: top;\n",
       "    }\n",
       "\n",
       "    .dataframe thead th {\n",
       "        text-align: right;\n",
       "    }\n",
       "</style>\n",
       "<table border=\"1\" class=\"dataframe\">\n",
       "  <thead>\n",
       "    <tr style=\"text-align: right;\">\n",
       "      <th></th>\n",
       "      <th>date</th>\n",
       "      <th>user_id</th>\n",
       "      <th>calls_sum</th>\n",
       "      <th>calls_count</th>\n",
       "      <th>messages_count</th>\n",
       "      <th>internet_mb_sum</th>\n",
       "      <th>tariff</th>\n",
       "      <th>default_revenue</th>\n",
       "      <th>additional_revenue</th>\n",
       "      <th>revenue</th>\n",
       "    </tr>\n",
       "  </thead>\n",
       "  <tbody>\n",
       "    <tr>\n",
       "      <td>3169</td>\n",
       "      <td>12</td>\n",
       "      <td>1494</td>\n",
       "      <td>426</td>\n",
       "      <td>62</td>\n",
       "      <td>0.0</td>\n",
       "      <td>17650.0</td>\n",
       "      <td>smart</td>\n",
       "      <td>550</td>\n",
       "      <td>447.27</td>\n",
       "      <td>997.27</td>\n",
       "    </tr>\n",
       "    <tr>\n",
       "      <td>3170</td>\n",
       "      <td>12</td>\n",
       "      <td>1495</td>\n",
       "      <td>1066</td>\n",
       "      <td>155</td>\n",
       "      <td>84.0</td>\n",
       "      <td>23451.0</td>\n",
       "      <td>ultra</td>\n",
       "      <td>1950</td>\n",
       "      <td>0.00</td>\n",
       "      <td>1950.00</td>\n",
       "    </tr>\n",
       "    <tr>\n",
       "      <td>3171</td>\n",
       "      <td>12</td>\n",
       "      <td>1496</td>\n",
       "      <td>533</td>\n",
       "      <td>80</td>\n",
       "      <td>51.0</td>\n",
       "      <td>20770.0</td>\n",
       "      <td>smart</td>\n",
       "      <td>550</td>\n",
       "      <td>1158.64</td>\n",
       "      <td>1708.64</td>\n",
       "    </tr>\n",
       "    <tr>\n",
       "      <td>3172</td>\n",
       "      <td>12</td>\n",
       "      <td>1497</td>\n",
       "      <td>558</td>\n",
       "      <td>71</td>\n",
       "      <td>17.0</td>\n",
       "      <td>19946.0</td>\n",
       "      <td>smart</td>\n",
       "      <td>550</td>\n",
       "      <td>1069.70</td>\n",
       "      <td>1619.70</td>\n",
       "    </tr>\n",
       "    <tr>\n",
       "      <td>3173</td>\n",
       "      <td>12</td>\n",
       "      <td>1499</td>\n",
       "      <td>505</td>\n",
       "      <td>69</td>\n",
       "      <td>66.0</td>\n",
       "      <td>13082.0</td>\n",
       "      <td>smart</td>\n",
       "      <td>550</td>\n",
       "      <td>63.00</td>\n",
       "      <td>613.00</td>\n",
       "    </tr>\n",
       "  </tbody>\n",
       "</table>\n",
       "</div>"
      ],
      "text/plain": [
       "      date  user_id  calls_sum  calls_count  messages_count  internet_mb_sum  \\\n",
       "3169    12     1494        426           62             0.0          17650.0   \n",
       "3170    12     1495       1066          155            84.0          23451.0   \n",
       "3171    12     1496        533           80            51.0          20770.0   \n",
       "3172    12     1497        558           71            17.0          19946.0   \n",
       "3173    12     1499        505           69            66.0          13082.0   \n",
       "\n",
       "     tariff  default_revenue  additional_revenue  revenue  \n",
       "3169  smart              550              447.27   997.27  \n",
       "3170  ultra             1950                0.00  1950.00  \n",
       "3171  smart              550             1158.64  1708.64  \n",
       "3172  smart              550             1069.70  1619.70  \n",
       "3173  smart              550               63.00   613.00  "
      ]
     },
     "execution_count": 60,
     "metadata": {},
     "output_type": "execute_result"
    }
   ],
   "source": [
    "users_details_clear.tail()"
   ]
  },
  {
   "cell_type": "code",
   "execution_count": 61,
   "metadata": {},
   "outputs": [],
   "source": [
    "# разделил на две таблицы для большей наглядности  \n",
    "smart = users_details_clear[users_details_clear['tariff'] == 'smart']\n",
    "ultra = users_details_clear[users_details_clear['tariff'] == 'ultra']"
   ]
  },
  {
   "cell_type": "code",
   "execution_count": 62,
   "metadata": {},
   "outputs": [
    {
     "data": {
      "text/html": [
       "<div>\n",
       "<style scoped>\n",
       "    .dataframe tbody tr th:only-of-type {\n",
       "        vertical-align: middle;\n",
       "    }\n",
       "\n",
       "    .dataframe tbody tr th {\n",
       "        vertical-align: top;\n",
       "    }\n",
       "\n",
       "    .dataframe thead th {\n",
       "        text-align: right;\n",
       "    }\n",
       "</style>\n",
       "<table border=\"1\" class=\"dataframe\">\n",
       "  <thead>\n",
       "    <tr style=\"text-align: right;\">\n",
       "      <th></th>\n",
       "      <th>date</th>\n",
       "      <th>user_id</th>\n",
       "      <th>calls_sum</th>\n",
       "      <th>calls_count</th>\n",
       "      <th>messages_count</th>\n",
       "      <th>internet_mb_sum</th>\n",
       "      <th>tariff</th>\n",
       "      <th>default_revenue</th>\n",
       "      <th>additional_revenue</th>\n",
       "      <th>revenue</th>\n",
       "    </tr>\n",
       "  </thead>\n",
       "  <tbody>\n",
       "    <tr>\n",
       "      <td>0</td>\n",
       "      <td>1</td>\n",
       "      <td>1005</td>\n",
       "      <td>99</td>\n",
       "      <td>15</td>\n",
       "      <td>7.0</td>\n",
       "      <td>2730.0</td>\n",
       "      <td>smart</td>\n",
       "      <td>550</td>\n",
       "      <td>0.00</td>\n",
       "      <td>550.00</td>\n",
       "    </tr>\n",
       "    <tr>\n",
       "      <td>1</td>\n",
       "      <td>1</td>\n",
       "      <td>1032</td>\n",
       "      <td>397</td>\n",
       "      <td>61</td>\n",
       "      <td>38.0</td>\n",
       "      <td>24158.0</td>\n",
       "      <td>smart</td>\n",
       "      <td>550</td>\n",
       "      <td>1718.36</td>\n",
       "      <td>2268.36</td>\n",
       "    </tr>\n",
       "    <tr>\n",
       "      <td>2</td>\n",
       "      <td>1</td>\n",
       "      <td>1045</td>\n",
       "      <td>9</td>\n",
       "      <td>1</td>\n",
       "      <td>5.0</td>\n",
       "      <td>2348.0</td>\n",
       "      <td>smart</td>\n",
       "      <td>550</td>\n",
       "      <td>0.00</td>\n",
       "      <td>550.00</td>\n",
       "    </tr>\n",
       "    <tr>\n",
       "      <td>3</td>\n",
       "      <td>1</td>\n",
       "      <td>1055</td>\n",
       "      <td>568</td>\n",
       "      <td>64</td>\n",
       "      <td>30.0</td>\n",
       "      <td>17115.0</td>\n",
       "      <td>smart</td>\n",
       "      <td>550</td>\n",
       "      <td>546.77</td>\n",
       "      <td>1096.77</td>\n",
       "    </tr>\n",
       "    <tr>\n",
       "      <td>4</td>\n",
       "      <td>1</td>\n",
       "      <td>1071</td>\n",
       "      <td>200</td>\n",
       "      <td>24</td>\n",
       "      <td>16.0</td>\n",
       "      <td>15625.0</td>\n",
       "      <td>smart</td>\n",
       "      <td>550</td>\n",
       "      <td>51.76</td>\n",
       "      <td>601.76</td>\n",
       "    </tr>\n",
       "  </tbody>\n",
       "</table>\n",
       "</div>"
      ],
      "text/plain": [
       "   date  user_id  calls_sum  calls_count  messages_count  internet_mb_sum  \\\n",
       "0     1     1005         99           15             7.0           2730.0   \n",
       "1     1     1032        397           61            38.0          24158.0   \n",
       "2     1     1045          9            1             5.0           2348.0   \n",
       "3     1     1055        568           64            30.0          17115.0   \n",
       "4     1     1071        200           24            16.0          15625.0   \n",
       "\n",
       "  tariff  default_revenue  additional_revenue  revenue  \n",
       "0  smart              550                0.00   550.00  \n",
       "1  smart              550             1718.36  2268.36  \n",
       "2  smart              550                0.00   550.00  \n",
       "3  smart              550              546.77  1096.77  \n",
       "4  smart              550               51.76   601.76  "
      ]
     },
     "execution_count": 62,
     "metadata": {},
     "output_type": "execute_result"
    }
   ],
   "source": [
    "smart.head()"
   ]
  },
  {
   "cell_type": "code",
   "execution_count": 63,
   "metadata": {},
   "outputs": [
    {
     "data": {
      "text/html": [
       "<div>\n",
       "<style scoped>\n",
       "    .dataframe tbody tr th:only-of-type {\n",
       "        vertical-align: middle;\n",
       "    }\n",
       "\n",
       "    .dataframe tbody tr th {\n",
       "        vertical-align: top;\n",
       "    }\n",
       "\n",
       "    .dataframe thead th {\n",
       "        text-align: right;\n",
       "    }\n",
       "</style>\n",
       "<table border=\"1\" class=\"dataframe\">\n",
       "  <thead>\n",
       "    <tr style=\"text-align: right;\">\n",
       "      <th></th>\n",
       "      <th>date</th>\n",
       "      <th>user_id</th>\n",
       "      <th>calls_sum</th>\n",
       "      <th>calls_count</th>\n",
       "      <th>messages_count</th>\n",
       "      <th>internet_mb_sum</th>\n",
       "      <th>tariff</th>\n",
       "      <th>default_revenue</th>\n",
       "      <th>additional_revenue</th>\n",
       "      <th>revenue</th>\n",
       "    </tr>\n",
       "  </thead>\n",
       "  <tbody>\n",
       "    <tr>\n",
       "      <td>6</td>\n",
       "      <td>1</td>\n",
       "      <td>1120</td>\n",
       "      <td>56</td>\n",
       "      <td>5</td>\n",
       "      <td>0.0</td>\n",
       "      <td>657.0</td>\n",
       "      <td>ultra</td>\n",
       "      <td>1950</td>\n",
       "      <td>0.0</td>\n",
       "      <td>1950.0</td>\n",
       "    </tr>\n",
       "    <tr>\n",
       "      <td>7</td>\n",
       "      <td>1</td>\n",
       "      <td>1126</td>\n",
       "      <td>279</td>\n",
       "      <td>35</td>\n",
       "      <td>4.0</td>\n",
       "      <td>16378.0</td>\n",
       "      <td>ultra</td>\n",
       "      <td>1950</td>\n",
       "      <td>0.0</td>\n",
       "      <td>1950.0</td>\n",
       "    </tr>\n",
       "    <tr>\n",
       "      <td>11</td>\n",
       "      <td>1</td>\n",
       "      <td>1168</td>\n",
       "      <td>284</td>\n",
       "      <td>38</td>\n",
       "      <td>14.0</td>\n",
       "      <td>8165.0</td>\n",
       "      <td>ultra</td>\n",
       "      <td>1950</td>\n",
       "      <td>0.0</td>\n",
       "      <td>1950.0</td>\n",
       "    </tr>\n",
       "    <tr>\n",
       "      <td>19</td>\n",
       "      <td>1</td>\n",
       "      <td>1254</td>\n",
       "      <td>475</td>\n",
       "      <td>59</td>\n",
       "      <td>0.0</td>\n",
       "      <td>19708.0</td>\n",
       "      <td>ultra</td>\n",
       "      <td>1950</td>\n",
       "      <td>0.0</td>\n",
       "      <td>1950.0</td>\n",
       "    </tr>\n",
       "    <tr>\n",
       "      <td>28</td>\n",
       "      <td>1</td>\n",
       "      <td>1375</td>\n",
       "      <td>882</td>\n",
       "      <td>126</td>\n",
       "      <td>75.0</td>\n",
       "      <td>14564.0</td>\n",
       "      <td>ultra</td>\n",
       "      <td>1950</td>\n",
       "      <td>0.0</td>\n",
       "      <td>1950.0</td>\n",
       "    </tr>\n",
       "  </tbody>\n",
       "</table>\n",
       "</div>"
      ],
      "text/plain": [
       "    date  user_id  calls_sum  calls_count  messages_count  internet_mb_sum  \\\n",
       "6      1     1120         56            5             0.0            657.0   \n",
       "7      1     1126        279           35             4.0          16378.0   \n",
       "11     1     1168        284           38            14.0           8165.0   \n",
       "19     1     1254        475           59             0.0          19708.0   \n",
       "28     1     1375        882          126            75.0          14564.0   \n",
       "\n",
       "   tariff  default_revenue  additional_revenue  revenue  \n",
       "6   ultra             1950                 0.0   1950.0  \n",
       "7   ultra             1950                 0.0   1950.0  \n",
       "11  ultra             1950                 0.0   1950.0  \n",
       "19  ultra             1950                 0.0   1950.0  \n",
       "28  ultra             1950                 0.0   1950.0  "
      ]
     },
     "execution_count": 63,
     "metadata": {},
     "output_type": "execute_result"
    }
   ],
   "source": [
    "ultra.head()"
   ]
  },
  {
   "cell_type": "code",
   "execution_count": 64,
   "metadata": {},
   "outputs": [
    {
     "name": "stdout",
     "output_type": "stream",
     "text": [
      "pvalue =  2.220460262307735e-214 \n",
      "Гипотеза H0 опровергнута\n"
     ]
    }
   ],
   "source": [
    "alpha = .05\n",
    "ttest_result_first_hipothesis = st.ttest_ind(smart['revenue'],ultra['revenue'],equal_var=True)\n",
    "\n",
    "if ttest_result_first_hipothesis.pvalue > alpha:\n",
    "    print('pvalue = ', ttest_result_first_hipothesis.pvalue,'\\nГипотеза H0 не опровергнута')\n",
    "else:\n",
    "    print('pvalue = ', ttest_result_first_hipothesis.pvalue,'\\nГипотеза H0 опровергнута')"
   ]
  },
  {
   "cell_type": "markdown",
   "metadata": {},
   "source": [
    "Нам удалось опровергнуть нулевую гипотезу, а значит гипотезу о том, что средняя выручка пользователей тарифов «Ультра» и «Смарт» различается нам опровергнуть не удалось."
   ]
  },
  {
   "cell_type": "markdown",
   "metadata": {},
   "source": [
    "Средняя выручка пользователей из Москвы отличается от выручки пользователей из других регионов.\n",
    "\n",
    "<div style=\"border:solid black 1px; padding: 20px\">\n",
    "\n",
    "- <b>H0</b>: Средняя выручка пользователей из Москвы равна выручке пользователей из других регионов.\n",
    "- <b>H1</b>: Средняя выручка пользователей из Москвы не равна выручке пользователей из других регионов.\n",
    "\n",
    "</div>\n",
    "\n",
    "Для начала добавим города в таблицу."
   ]
  },
  {
   "cell_type": "code",
   "execution_count": 65,
   "metadata": {},
   "outputs": [
    {
     "data": {
      "text/html": [
       "<div>\n",
       "<style scoped>\n",
       "    .dataframe tbody tr th:only-of-type {\n",
       "        vertical-align: middle;\n",
       "    }\n",
       "\n",
       "    .dataframe tbody tr th {\n",
       "        vertical-align: top;\n",
       "    }\n",
       "\n",
       "    .dataframe thead th {\n",
       "        text-align: right;\n",
       "    }\n",
       "</style>\n",
       "<table border=\"1\" class=\"dataframe\">\n",
       "  <thead>\n",
       "    <tr style=\"text-align: right;\">\n",
       "      <th></th>\n",
       "      <th>date</th>\n",
       "      <th>user_id</th>\n",
       "      <th>calls_sum</th>\n",
       "      <th>calls_count</th>\n",
       "      <th>messages_count</th>\n",
       "      <th>internet_mb_sum</th>\n",
       "      <th>tariff</th>\n",
       "      <th>default_revenue</th>\n",
       "      <th>additional_revenue</th>\n",
       "      <th>revenue</th>\n",
       "    </tr>\n",
       "  </thead>\n",
       "  <tbody>\n",
       "    <tr>\n",
       "      <td>0</td>\n",
       "      <td>1</td>\n",
       "      <td>1005</td>\n",
       "      <td>99</td>\n",
       "      <td>15</td>\n",
       "      <td>7.0</td>\n",
       "      <td>2730.0</td>\n",
       "      <td>smart</td>\n",
       "      <td>550</td>\n",
       "      <td>0.00</td>\n",
       "      <td>550.00</td>\n",
       "    </tr>\n",
       "    <tr>\n",
       "      <td>1</td>\n",
       "      <td>1</td>\n",
       "      <td>1032</td>\n",
       "      <td>397</td>\n",
       "      <td>61</td>\n",
       "      <td>38.0</td>\n",
       "      <td>24158.0</td>\n",
       "      <td>smart</td>\n",
       "      <td>550</td>\n",
       "      <td>1718.36</td>\n",
       "      <td>2268.36</td>\n",
       "    </tr>\n",
       "    <tr>\n",
       "      <td>2</td>\n",
       "      <td>1</td>\n",
       "      <td>1045</td>\n",
       "      <td>9</td>\n",
       "      <td>1</td>\n",
       "      <td>5.0</td>\n",
       "      <td>2348.0</td>\n",
       "      <td>smart</td>\n",
       "      <td>550</td>\n",
       "      <td>0.00</td>\n",
       "      <td>550.00</td>\n",
       "    </tr>\n",
       "    <tr>\n",
       "      <td>3</td>\n",
       "      <td>1</td>\n",
       "      <td>1055</td>\n",
       "      <td>568</td>\n",
       "      <td>64</td>\n",
       "      <td>30.0</td>\n",
       "      <td>17115.0</td>\n",
       "      <td>smart</td>\n",
       "      <td>550</td>\n",
       "      <td>546.77</td>\n",
       "      <td>1096.77</td>\n",
       "    </tr>\n",
       "    <tr>\n",
       "      <td>4</td>\n",
       "      <td>1</td>\n",
       "      <td>1071</td>\n",
       "      <td>200</td>\n",
       "      <td>24</td>\n",
       "      <td>16.0</td>\n",
       "      <td>15625.0</td>\n",
       "      <td>smart</td>\n",
       "      <td>550</td>\n",
       "      <td>51.76</td>\n",
       "      <td>601.76</td>\n",
       "    </tr>\n",
       "    <tr>\n",
       "      <td>...</td>\n",
       "      <td>...</td>\n",
       "      <td>...</td>\n",
       "      <td>...</td>\n",
       "      <td>...</td>\n",
       "      <td>...</td>\n",
       "      <td>...</td>\n",
       "      <td>...</td>\n",
       "      <td>...</td>\n",
       "      <td>...</td>\n",
       "      <td>...</td>\n",
       "    </tr>\n",
       "    <tr>\n",
       "      <td>3097</td>\n",
       "      <td>12</td>\n",
       "      <td>1494</td>\n",
       "      <td>426</td>\n",
       "      <td>62</td>\n",
       "      <td>0.0</td>\n",
       "      <td>17650.0</td>\n",
       "      <td>smart</td>\n",
       "      <td>550</td>\n",
       "      <td>447.27</td>\n",
       "      <td>997.27</td>\n",
       "    </tr>\n",
       "    <tr>\n",
       "      <td>3098</td>\n",
       "      <td>12</td>\n",
       "      <td>1495</td>\n",
       "      <td>1066</td>\n",
       "      <td>155</td>\n",
       "      <td>84.0</td>\n",
       "      <td>23451.0</td>\n",
       "      <td>ultra</td>\n",
       "      <td>1950</td>\n",
       "      <td>0.00</td>\n",
       "      <td>1950.00</td>\n",
       "    </tr>\n",
       "    <tr>\n",
       "      <td>3099</td>\n",
       "      <td>12</td>\n",
       "      <td>1496</td>\n",
       "      <td>533</td>\n",
       "      <td>80</td>\n",
       "      <td>51.0</td>\n",
       "      <td>20770.0</td>\n",
       "      <td>smart</td>\n",
       "      <td>550</td>\n",
       "      <td>1158.64</td>\n",
       "      <td>1708.64</td>\n",
       "    </tr>\n",
       "    <tr>\n",
       "      <td>3100</td>\n",
       "      <td>12</td>\n",
       "      <td>1497</td>\n",
       "      <td>558</td>\n",
       "      <td>71</td>\n",
       "      <td>17.0</td>\n",
       "      <td>19946.0</td>\n",
       "      <td>smart</td>\n",
       "      <td>550</td>\n",
       "      <td>1069.70</td>\n",
       "      <td>1619.70</td>\n",
       "    </tr>\n",
       "    <tr>\n",
       "      <td>3101</td>\n",
       "      <td>12</td>\n",
       "      <td>1499</td>\n",
       "      <td>505</td>\n",
       "      <td>69</td>\n",
       "      <td>66.0</td>\n",
       "      <td>13082.0</td>\n",
       "      <td>smart</td>\n",
       "      <td>550</td>\n",
       "      <td>63.00</td>\n",
       "      <td>613.00</td>\n",
       "    </tr>\n",
       "  </tbody>\n",
       "</table>\n",
       "<p>3102 rows × 10 columns</p>\n",
       "</div>"
      ],
      "text/plain": [
       "      date  user_id  calls_sum  calls_count  messages_count  internet_mb_sum  \\\n",
       "0        1     1005         99           15             7.0           2730.0   \n",
       "1        1     1032        397           61            38.0          24158.0   \n",
       "2        1     1045          9            1             5.0           2348.0   \n",
       "3        1     1055        568           64            30.0          17115.0   \n",
       "4        1     1071        200           24            16.0          15625.0   \n",
       "...    ...      ...        ...          ...             ...              ...   \n",
       "3097    12     1494        426           62             0.0          17650.0   \n",
       "3098    12     1495       1066          155            84.0          23451.0   \n",
       "3099    12     1496        533           80            51.0          20770.0   \n",
       "3100    12     1497        558           71            17.0          19946.0   \n",
       "3101    12     1499        505           69            66.0          13082.0   \n",
       "\n",
       "     tariff  default_revenue  additional_revenue  revenue  \n",
       "0     smart              550                0.00   550.00  \n",
       "1     smart              550             1718.36  2268.36  \n",
       "2     smart              550                0.00   550.00  \n",
       "3     smart              550              546.77  1096.77  \n",
       "4     smart              550               51.76   601.76  \n",
       "...     ...              ...                 ...      ...  \n",
       "3097  smart              550              447.27   997.27  \n",
       "3098  ultra             1950                0.00  1950.00  \n",
       "3099  smart              550             1158.64  1708.64  \n",
       "3100  smart              550             1069.70  1619.70  \n",
       "3101  smart              550               63.00   613.00  \n",
       "\n",
       "[3102 rows x 10 columns]"
      ]
     },
     "execution_count": 65,
     "metadata": {},
     "output_type": "execute_result"
    }
   ],
   "source": [
    "users_details_clear.reset_index(drop=True)"
   ]
  },
  {
   "cell_type": "code",
   "execution_count": 66,
   "metadata": {},
   "outputs": [
    {
     "name": "stderr",
     "output_type": "stream",
     "text": [
      "/opt/conda/lib/python3.7/site-packages/pandas/core/indexing.py:376: SettingWithCopyWarning: \n",
      "A value is trying to be set on a copy of a slice from a DataFrame.\n",
      "Try using .loc[row_indexer,col_indexer] = value instead\n",
      "\n",
      "See the caveats in the documentation: http://pandas.pydata.org/pandas-docs/stable/user_guide/indexing.html#returning-a-view-versus-a-copy\n",
      "  self.obj[key] = _infer_fill_value(value)\n",
      "/opt/conda/lib/python3.7/site-packages/pandas/core/indexing.py:494: SettingWithCopyWarning: \n",
      "A value is trying to be set on a copy of a slice from a DataFrame.\n",
      "Try using .loc[row_indexer,col_indexer] = value instead\n",
      "\n",
      "See the caveats in the documentation: http://pandas.pydata.org/pandas-docs/stable/user_guide/indexing.html#returning-a-view-versus-a-copy\n",
      "  self.obj[item] = s\n"
     ]
    }
   ],
   "source": [
    "def city(user_id):\n",
    "    for user, city in zip(users['user_id'], users['city']):\n",
    "        if user_id == user:\n",
    "            return city\n",
    "        else:\n",
    "            continue\n",
    "            \n",
    "users_details_clear.loc[:, ('city')] = users_details_clear['user_id'].apply(city)"
   ]
  },
  {
   "cell_type": "code",
   "execution_count": 67,
   "metadata": {},
   "outputs": [
    {
     "data": {
      "text/html": [
       "<div>\n",
       "<style scoped>\n",
       "    .dataframe tbody tr th:only-of-type {\n",
       "        vertical-align: middle;\n",
       "    }\n",
       "\n",
       "    .dataframe tbody tr th {\n",
       "        vertical-align: top;\n",
       "    }\n",
       "\n",
       "    .dataframe thead th {\n",
       "        text-align: right;\n",
       "    }\n",
       "</style>\n",
       "<table border=\"1\" class=\"dataframe\">\n",
       "  <thead>\n",
       "    <tr style=\"text-align: right;\">\n",
       "      <th></th>\n",
       "      <th>date</th>\n",
       "      <th>user_id</th>\n",
       "      <th>calls_sum</th>\n",
       "      <th>calls_count</th>\n",
       "      <th>messages_count</th>\n",
       "      <th>internet_mb_sum</th>\n",
       "      <th>tariff</th>\n",
       "      <th>default_revenue</th>\n",
       "      <th>additional_revenue</th>\n",
       "      <th>revenue</th>\n",
       "      <th>city</th>\n",
       "    </tr>\n",
       "  </thead>\n",
       "  <tbody>\n",
       "    <tr>\n",
       "      <td>0</td>\n",
       "      <td>1</td>\n",
       "      <td>1005</td>\n",
       "      <td>99</td>\n",
       "      <td>15</td>\n",
       "      <td>7.0</td>\n",
       "      <td>2730.0</td>\n",
       "      <td>smart</td>\n",
       "      <td>550</td>\n",
       "      <td>0.00</td>\n",
       "      <td>550.00</td>\n",
       "      <td>Набережные Челны</td>\n",
       "    </tr>\n",
       "    <tr>\n",
       "      <td>1</td>\n",
       "      <td>1</td>\n",
       "      <td>1032</td>\n",
       "      <td>397</td>\n",
       "      <td>61</td>\n",
       "      <td>38.0</td>\n",
       "      <td>24158.0</td>\n",
       "      <td>smart</td>\n",
       "      <td>550</td>\n",
       "      <td>1718.36</td>\n",
       "      <td>2268.36</td>\n",
       "      <td>Ульяновск</td>\n",
       "    </tr>\n",
       "    <tr>\n",
       "      <td>2</td>\n",
       "      <td>1</td>\n",
       "      <td>1045</td>\n",
       "      <td>9</td>\n",
       "      <td>1</td>\n",
       "      <td>5.0</td>\n",
       "      <td>2348.0</td>\n",
       "      <td>smart</td>\n",
       "      <td>550</td>\n",
       "      <td>0.00</td>\n",
       "      <td>550.00</td>\n",
       "      <td>Улан-Удэ</td>\n",
       "    </tr>\n",
       "    <tr>\n",
       "      <td>3</td>\n",
       "      <td>1</td>\n",
       "      <td>1055</td>\n",
       "      <td>568</td>\n",
       "      <td>64</td>\n",
       "      <td>30.0</td>\n",
       "      <td>17115.0</td>\n",
       "      <td>smart</td>\n",
       "      <td>550</td>\n",
       "      <td>546.77</td>\n",
       "      <td>1096.77</td>\n",
       "      <td>Казань</td>\n",
       "    </tr>\n",
       "    <tr>\n",
       "      <td>4</td>\n",
       "      <td>1</td>\n",
       "      <td>1071</td>\n",
       "      <td>200</td>\n",
       "      <td>24</td>\n",
       "      <td>16.0</td>\n",
       "      <td>15625.0</td>\n",
       "      <td>smart</td>\n",
       "      <td>550</td>\n",
       "      <td>51.76</td>\n",
       "      <td>601.76</td>\n",
       "      <td>Омск</td>\n",
       "    </tr>\n",
       "  </tbody>\n",
       "</table>\n",
       "</div>"
      ],
      "text/plain": [
       "   date  user_id  calls_sum  calls_count  messages_count  internet_mb_sum  \\\n",
       "0     1     1005         99           15             7.0           2730.0   \n",
       "1     1     1032        397           61            38.0          24158.0   \n",
       "2     1     1045          9            1             5.0           2348.0   \n",
       "3     1     1055        568           64            30.0          17115.0   \n",
       "4     1     1071        200           24            16.0          15625.0   \n",
       "\n",
       "  tariff  default_revenue  additional_revenue  revenue              city  \n",
       "0  smart              550                0.00   550.00  Набережные Челны  \n",
       "1  smart              550             1718.36  2268.36         Ульяновск  \n",
       "2  smart              550                0.00   550.00          Улан-Удэ  \n",
       "3  smart              550              546.77  1096.77            Казань  \n",
       "4  smart              550               51.76   601.76              Омск  "
      ]
     },
     "execution_count": 67,
     "metadata": {},
     "output_type": "execute_result"
    }
   ],
   "source": [
    "users_details_clear.head()"
   ]
  },
  {
   "cell_type": "markdown",
   "metadata": {},
   "source": [
    "Проверим гипотезу H0."
   ]
  },
  {
   "cell_type": "code",
   "execution_count": 68,
   "metadata": {},
   "outputs": [],
   "source": [
    "moscow_city = users_details_clear[users_details_clear['city'] == 'Москва']\n",
    "other_cities = users_details_clear[users_details_clear['city'] != 'Москва']"
   ]
  },
  {
   "cell_type": "code",
   "execution_count": 69,
   "metadata": {},
   "outputs": [
    {
     "data": {
      "text/html": [
       "<div>\n",
       "<style scoped>\n",
       "    .dataframe tbody tr th:only-of-type {\n",
       "        vertical-align: middle;\n",
       "    }\n",
       "\n",
       "    .dataframe tbody tr th {\n",
       "        vertical-align: top;\n",
       "    }\n",
       "\n",
       "    .dataframe thead th {\n",
       "        text-align: right;\n",
       "    }\n",
       "</style>\n",
       "<table border=\"1\" class=\"dataframe\">\n",
       "  <thead>\n",
       "    <tr style=\"text-align: right;\">\n",
       "      <th></th>\n",
       "      <th>date</th>\n",
       "      <th>user_id</th>\n",
       "      <th>calls_sum</th>\n",
       "      <th>calls_count</th>\n",
       "      <th>messages_count</th>\n",
       "      <th>internet_mb_sum</th>\n",
       "      <th>tariff</th>\n",
       "      <th>default_revenue</th>\n",
       "      <th>additional_revenue</th>\n",
       "      <th>revenue</th>\n",
       "      <th>city</th>\n",
       "    </tr>\n",
       "  </thead>\n",
       "  <tbody>\n",
       "    <tr>\n",
       "      <td>0</td>\n",
       "      <td>1</td>\n",
       "      <td>1005</td>\n",
       "      <td>99</td>\n",
       "      <td>15</td>\n",
       "      <td>7.0</td>\n",
       "      <td>2730.0</td>\n",
       "      <td>smart</td>\n",
       "      <td>550</td>\n",
       "      <td>0.00</td>\n",
       "      <td>550.00</td>\n",
       "      <td>Набережные Челны</td>\n",
       "    </tr>\n",
       "    <tr>\n",
       "      <td>1</td>\n",
       "      <td>1</td>\n",
       "      <td>1032</td>\n",
       "      <td>397</td>\n",
       "      <td>61</td>\n",
       "      <td>38.0</td>\n",
       "      <td>24158.0</td>\n",
       "      <td>smart</td>\n",
       "      <td>550</td>\n",
       "      <td>1718.36</td>\n",
       "      <td>2268.36</td>\n",
       "      <td>Ульяновск</td>\n",
       "    </tr>\n",
       "    <tr>\n",
       "      <td>2</td>\n",
       "      <td>1</td>\n",
       "      <td>1045</td>\n",
       "      <td>9</td>\n",
       "      <td>1</td>\n",
       "      <td>5.0</td>\n",
       "      <td>2348.0</td>\n",
       "      <td>smart</td>\n",
       "      <td>550</td>\n",
       "      <td>0.00</td>\n",
       "      <td>550.00</td>\n",
       "      <td>Улан-Удэ</td>\n",
       "    </tr>\n",
       "    <tr>\n",
       "      <td>3</td>\n",
       "      <td>1</td>\n",
       "      <td>1055</td>\n",
       "      <td>568</td>\n",
       "      <td>64</td>\n",
       "      <td>30.0</td>\n",
       "      <td>17115.0</td>\n",
       "      <td>smart</td>\n",
       "      <td>550</td>\n",
       "      <td>546.77</td>\n",
       "      <td>1096.77</td>\n",
       "      <td>Казань</td>\n",
       "    </tr>\n",
       "    <tr>\n",
       "      <td>4</td>\n",
       "      <td>1</td>\n",
       "      <td>1071</td>\n",
       "      <td>200</td>\n",
       "      <td>24</td>\n",
       "      <td>16.0</td>\n",
       "      <td>15625.0</td>\n",
       "      <td>smart</td>\n",
       "      <td>550</td>\n",
       "      <td>51.76</td>\n",
       "      <td>601.76</td>\n",
       "      <td>Омск</td>\n",
       "    </tr>\n",
       "    <tr>\n",
       "      <td>...</td>\n",
       "      <td>...</td>\n",
       "      <td>...</td>\n",
       "      <td>...</td>\n",
       "      <td>...</td>\n",
       "      <td>...</td>\n",
       "      <td>...</td>\n",
       "      <td>...</td>\n",
       "      <td>...</td>\n",
       "      <td>...</td>\n",
       "      <td>...</td>\n",
       "      <td>...</td>\n",
       "    </tr>\n",
       "    <tr>\n",
       "      <td>3169</td>\n",
       "      <td>12</td>\n",
       "      <td>1494</td>\n",
       "      <td>426</td>\n",
       "      <td>62</td>\n",
       "      <td>0.0</td>\n",
       "      <td>17650.0</td>\n",
       "      <td>smart</td>\n",
       "      <td>550</td>\n",
       "      <td>447.27</td>\n",
       "      <td>997.27</td>\n",
       "      <td>Омск</td>\n",
       "    </tr>\n",
       "    <tr>\n",
       "      <td>3170</td>\n",
       "      <td>12</td>\n",
       "      <td>1495</td>\n",
       "      <td>1066</td>\n",
       "      <td>155</td>\n",
       "      <td>84.0</td>\n",
       "      <td>23451.0</td>\n",
       "      <td>ultra</td>\n",
       "      <td>1950</td>\n",
       "      <td>0.00</td>\n",
       "      <td>1950.00</td>\n",
       "      <td>Иркутск</td>\n",
       "    </tr>\n",
       "    <tr>\n",
       "      <td>3171</td>\n",
       "      <td>12</td>\n",
       "      <td>1496</td>\n",
       "      <td>533</td>\n",
       "      <td>80</td>\n",
       "      <td>51.0</td>\n",
       "      <td>20770.0</td>\n",
       "      <td>smart</td>\n",
       "      <td>550</td>\n",
       "      <td>1158.64</td>\n",
       "      <td>1708.64</td>\n",
       "      <td>Вологда</td>\n",
       "    </tr>\n",
       "    <tr>\n",
       "      <td>3172</td>\n",
       "      <td>12</td>\n",
       "      <td>1497</td>\n",
       "      <td>558</td>\n",
       "      <td>71</td>\n",
       "      <td>17.0</td>\n",
       "      <td>19946.0</td>\n",
       "      <td>smart</td>\n",
       "      <td>550</td>\n",
       "      <td>1069.70</td>\n",
       "      <td>1619.70</td>\n",
       "      <td>Челябинск</td>\n",
       "    </tr>\n",
       "    <tr>\n",
       "      <td>3173</td>\n",
       "      <td>12</td>\n",
       "      <td>1499</td>\n",
       "      <td>505</td>\n",
       "      <td>69</td>\n",
       "      <td>66.0</td>\n",
       "      <td>13082.0</td>\n",
       "      <td>smart</td>\n",
       "      <td>550</td>\n",
       "      <td>63.00</td>\n",
       "      <td>613.00</td>\n",
       "      <td>Пермь</td>\n",
       "    </tr>\n",
       "  </tbody>\n",
       "</table>\n",
       "<p>3102 rows × 11 columns</p>\n",
       "</div>"
      ],
      "text/plain": [
       "      date  user_id  calls_sum  calls_count  messages_count  internet_mb_sum  \\\n",
       "0        1     1005         99           15             7.0           2730.0   \n",
       "1        1     1032        397           61            38.0          24158.0   \n",
       "2        1     1045          9            1             5.0           2348.0   \n",
       "3        1     1055        568           64            30.0          17115.0   \n",
       "4        1     1071        200           24            16.0          15625.0   \n",
       "...    ...      ...        ...          ...             ...              ...   \n",
       "3169    12     1494        426           62             0.0          17650.0   \n",
       "3170    12     1495       1066          155            84.0          23451.0   \n",
       "3171    12     1496        533           80            51.0          20770.0   \n",
       "3172    12     1497        558           71            17.0          19946.0   \n",
       "3173    12     1499        505           69            66.0          13082.0   \n",
       "\n",
       "     tariff  default_revenue  additional_revenue  revenue              city  \n",
       "0     smart              550                0.00   550.00  Набережные Челны  \n",
       "1     smart              550             1718.36  2268.36         Ульяновск  \n",
       "2     smart              550                0.00   550.00          Улан-Удэ  \n",
       "3     smart              550              546.77  1096.77            Казань  \n",
       "4     smart              550               51.76   601.76              Омск  \n",
       "...     ...              ...                 ...      ...               ...  \n",
       "3169  smart              550              447.27   997.27              Омск  \n",
       "3170  ultra             1950                0.00  1950.00           Иркутск  \n",
       "3171  smart              550             1158.64  1708.64           Вологда  \n",
       "3172  smart              550             1069.70  1619.70         Челябинск  \n",
       "3173  smart              550               63.00   613.00             Пермь  \n",
       "\n",
       "[3102 rows x 11 columns]"
      ]
     },
     "execution_count": 69,
     "metadata": {},
     "output_type": "execute_result"
    }
   ],
   "source": [
    "users_details_clear"
   ]
  },
  {
   "cell_type": "code",
   "execution_count": 70,
   "metadata": {},
   "outputs": [
    {
     "data": {
      "text/html": [
       "<div>\n",
       "<style scoped>\n",
       "    .dataframe tbody tr th:only-of-type {\n",
       "        vertical-align: middle;\n",
       "    }\n",
       "\n",
       "    .dataframe tbody tr th {\n",
       "        vertical-align: top;\n",
       "    }\n",
       "\n",
       "    .dataframe thead th {\n",
       "        text-align: right;\n",
       "    }\n",
       "</style>\n",
       "<table border=\"1\" class=\"dataframe\">\n",
       "  <thead>\n",
       "    <tr style=\"text-align: right;\">\n",
       "      <th></th>\n",
       "      <th>date</th>\n",
       "      <th>user_id</th>\n",
       "      <th>calls_sum</th>\n",
       "      <th>calls_count</th>\n",
       "      <th>messages_count</th>\n",
       "      <th>internet_mb_sum</th>\n",
       "      <th>tariff</th>\n",
       "      <th>default_revenue</th>\n",
       "      <th>additional_revenue</th>\n",
       "      <th>revenue</th>\n",
       "      <th>city</th>\n",
       "    </tr>\n",
       "  </thead>\n",
       "  <tbody>\n",
       "    <tr>\n",
       "      <td>15</td>\n",
       "      <td>1</td>\n",
       "      <td>1204</td>\n",
       "      <td>314</td>\n",
       "      <td>50</td>\n",
       "      <td>0.0</td>\n",
       "      <td>15861.0</td>\n",
       "      <td>smart</td>\n",
       "      <td>550</td>\n",
       "      <td>97.85</td>\n",
       "      <td>647.85</td>\n",
       "      <td>Москва</td>\n",
       "    </tr>\n",
       "    <tr>\n",
       "      <td>19</td>\n",
       "      <td>1</td>\n",
       "      <td>1254</td>\n",
       "      <td>475</td>\n",
       "      <td>59</td>\n",
       "      <td>0.0</td>\n",
       "      <td>19708.0</td>\n",
       "      <td>ultra</td>\n",
       "      <td>1950</td>\n",
       "      <td>0.00</td>\n",
       "      <td>1950.00</td>\n",
       "      <td>Москва</td>\n",
       "    </tr>\n",
       "    <tr>\n",
       "      <td>23</td>\n",
       "      <td>1</td>\n",
       "      <td>1308</td>\n",
       "      <td>253</td>\n",
       "      <td>28</td>\n",
       "      <td>24.0</td>\n",
       "      <td>11988.0</td>\n",
       "      <td>smart</td>\n",
       "      <td>550</td>\n",
       "      <td>0.00</td>\n",
       "      <td>550.00</td>\n",
       "      <td>Москва</td>\n",
       "    </tr>\n",
       "    <tr>\n",
       "      <td>30</td>\n",
       "      <td>1</td>\n",
       "      <td>1381</td>\n",
       "      <td>399</td>\n",
       "      <td>59</td>\n",
       "      <td>32.0</td>\n",
       "      <td>14810.0</td>\n",
       "      <td>ultra</td>\n",
       "      <td>1950</td>\n",
       "      <td>0.00</td>\n",
       "      <td>1950.00</td>\n",
       "      <td>Москва</td>\n",
       "    </tr>\n",
       "    <tr>\n",
       "      <td>31</td>\n",
       "      <td>1</td>\n",
       "      <td>1385</td>\n",
       "      <td>274</td>\n",
       "      <td>34</td>\n",
       "      <td>72.0</td>\n",
       "      <td>19297.0</td>\n",
       "      <td>ultra</td>\n",
       "      <td>1950</td>\n",
       "      <td>0.00</td>\n",
       "      <td>1950.00</td>\n",
       "      <td>Москва</td>\n",
       "    </tr>\n",
       "  </tbody>\n",
       "</table>\n",
       "</div>"
      ],
      "text/plain": [
       "    date  user_id  calls_sum  calls_count  messages_count  internet_mb_sum  \\\n",
       "15     1     1204        314           50             0.0          15861.0   \n",
       "19     1     1254        475           59             0.0          19708.0   \n",
       "23     1     1308        253           28            24.0          11988.0   \n",
       "30     1     1381        399           59            32.0          14810.0   \n",
       "31     1     1385        274           34            72.0          19297.0   \n",
       "\n",
       "   tariff  default_revenue  additional_revenue  revenue    city  \n",
       "15  smart              550               97.85   647.85  Москва  \n",
       "19  ultra             1950                0.00  1950.00  Москва  \n",
       "23  smart              550                0.00   550.00  Москва  \n",
       "30  ultra             1950                0.00  1950.00  Москва  \n",
       "31  ultra             1950                0.00  1950.00  Москва  "
      ]
     },
     "execution_count": 70,
     "metadata": {},
     "output_type": "execute_result"
    }
   ],
   "source": [
    "moscow_city.head()"
   ]
  },
  {
   "cell_type": "code",
   "execution_count": 71,
   "metadata": {},
   "outputs": [
    {
     "data": {
      "text/html": [
       "<div>\n",
       "<style scoped>\n",
       "    .dataframe tbody tr th:only-of-type {\n",
       "        vertical-align: middle;\n",
       "    }\n",
       "\n",
       "    .dataframe tbody tr th {\n",
       "        vertical-align: top;\n",
       "    }\n",
       "\n",
       "    .dataframe thead th {\n",
       "        text-align: right;\n",
       "    }\n",
       "</style>\n",
       "<table border=\"1\" class=\"dataframe\">\n",
       "  <thead>\n",
       "    <tr style=\"text-align: right;\">\n",
       "      <th></th>\n",
       "      <th>date</th>\n",
       "      <th>user_id</th>\n",
       "      <th>calls_sum</th>\n",
       "      <th>calls_count</th>\n",
       "      <th>messages_count</th>\n",
       "      <th>internet_mb_sum</th>\n",
       "      <th>tariff</th>\n",
       "      <th>default_revenue</th>\n",
       "      <th>additional_revenue</th>\n",
       "      <th>revenue</th>\n",
       "      <th>city</th>\n",
       "    </tr>\n",
       "  </thead>\n",
       "  <tbody>\n",
       "    <tr>\n",
       "      <td>0</td>\n",
       "      <td>1</td>\n",
       "      <td>1005</td>\n",
       "      <td>99</td>\n",
       "      <td>15</td>\n",
       "      <td>7.0</td>\n",
       "      <td>2730.0</td>\n",
       "      <td>smart</td>\n",
       "      <td>550</td>\n",
       "      <td>0.00</td>\n",
       "      <td>550.00</td>\n",
       "      <td>Набережные Челны</td>\n",
       "    </tr>\n",
       "    <tr>\n",
       "      <td>1</td>\n",
       "      <td>1</td>\n",
       "      <td>1032</td>\n",
       "      <td>397</td>\n",
       "      <td>61</td>\n",
       "      <td>38.0</td>\n",
       "      <td>24158.0</td>\n",
       "      <td>smart</td>\n",
       "      <td>550</td>\n",
       "      <td>1718.36</td>\n",
       "      <td>2268.36</td>\n",
       "      <td>Ульяновск</td>\n",
       "    </tr>\n",
       "    <tr>\n",
       "      <td>2</td>\n",
       "      <td>1</td>\n",
       "      <td>1045</td>\n",
       "      <td>9</td>\n",
       "      <td>1</td>\n",
       "      <td>5.0</td>\n",
       "      <td>2348.0</td>\n",
       "      <td>smart</td>\n",
       "      <td>550</td>\n",
       "      <td>0.00</td>\n",
       "      <td>550.00</td>\n",
       "      <td>Улан-Удэ</td>\n",
       "    </tr>\n",
       "    <tr>\n",
       "      <td>3</td>\n",
       "      <td>1</td>\n",
       "      <td>1055</td>\n",
       "      <td>568</td>\n",
       "      <td>64</td>\n",
       "      <td>30.0</td>\n",
       "      <td>17115.0</td>\n",
       "      <td>smart</td>\n",
       "      <td>550</td>\n",
       "      <td>546.77</td>\n",
       "      <td>1096.77</td>\n",
       "      <td>Казань</td>\n",
       "    </tr>\n",
       "    <tr>\n",
       "      <td>4</td>\n",
       "      <td>1</td>\n",
       "      <td>1071</td>\n",
       "      <td>200</td>\n",
       "      <td>24</td>\n",
       "      <td>16.0</td>\n",
       "      <td>15625.0</td>\n",
       "      <td>smart</td>\n",
       "      <td>550</td>\n",
       "      <td>51.76</td>\n",
       "      <td>601.76</td>\n",
       "      <td>Омск</td>\n",
       "    </tr>\n",
       "  </tbody>\n",
       "</table>\n",
       "</div>"
      ],
      "text/plain": [
       "   date  user_id  calls_sum  calls_count  messages_count  internet_mb_sum  \\\n",
       "0     1     1005         99           15             7.0           2730.0   \n",
       "1     1     1032        397           61            38.0          24158.0   \n",
       "2     1     1045          9            1             5.0           2348.0   \n",
       "3     1     1055        568           64            30.0          17115.0   \n",
       "4     1     1071        200           24            16.0          15625.0   \n",
       "\n",
       "  tariff  default_revenue  additional_revenue  revenue              city  \n",
       "0  smart              550                0.00   550.00  Набережные Челны  \n",
       "1  smart              550             1718.36  2268.36         Ульяновск  \n",
       "2  smart              550                0.00   550.00          Улан-Удэ  \n",
       "3  smart              550              546.77  1096.77            Казань  \n",
       "4  smart              550               51.76   601.76              Омск  "
      ]
     },
     "execution_count": 71,
     "metadata": {},
     "output_type": "execute_result"
    }
   ],
   "source": [
    "other_cities.head()"
   ]
  },
  {
   "cell_type": "code",
   "execution_count": 72,
   "metadata": {},
   "outputs": [
    {
     "name": "stdout",
     "output_type": "stream",
     "text": [
      "<class 'pandas.core.frame.DataFrame'>\n",
      "Int64Index: 604 entries, 15 to 3165\n",
      "Data columns (total 11 columns):\n",
      "date                  604 non-null int64\n",
      "user_id               604 non-null int64\n",
      "calls_sum             604 non-null int32\n",
      "calls_count           604 non-null int64\n",
      "messages_count        604 non-null float64\n",
      "internet_mb_sum       604 non-null float64\n",
      "tariff                604 non-null object\n",
      "default_revenue       604 non-null int64\n",
      "additional_revenue    604 non-null float64\n",
      "revenue               604 non-null float64\n",
      "city                  604 non-null object\n",
      "dtypes: float64(4), int32(1), int64(4), object(2)\n",
      "memory usage: 54.3+ KB\n"
     ]
    }
   ],
   "source": [
    "moscow_city.info()"
   ]
  },
  {
   "cell_type": "code",
   "execution_count": 73,
   "metadata": {},
   "outputs": [
    {
     "name": "stdout",
     "output_type": "stream",
     "text": [
      "pvalue =  0.2293331437600411 \n",
      "Гипотеза H0 не опровергнута\n"
     ]
    }
   ],
   "source": [
    "ttest_result_second_hipothesis = st.ttest_ind(moscow_city['revenue'],other_cities['revenue'],equal_var=True)\n",
    "\n",
    "if ttest_result_second_hipothesis.pvalue > alpha:\n",
    "    print('pvalue = ', ttest_result_second_hipothesis.pvalue,'\\nГипотеза H0 не опровергнута')\n",
    "else:\n",
    "    print('pvalue = ', ttest_result_second_hipothesis.pvalue,'\\nГипотеза H0 опровергнута')"
   ]
  },
  {
   "cell_type": "markdown",
   "metadata": {},
   "source": [
    "Мы не смогли опровергнуть нулевую гипотезу, а так как гипотеза H1 ей противоположна, то ее мы опровегнуть можем."
   ]
  },
  {
   "cell_type": "markdown",
   "metadata": {},
   "source": [
    "### Вывод"
   ]
  },
  {
   "cell_type": "markdown",
   "metadata": {},
   "source": [
    "Проверив гипотезы, можно сделать выводы;\n",
    "\n",
    " 1. средняя выручка пользователей тарифов «Ультра» и «Смарт» различается - не опровергнута;\n",
    " 2. средняя выручка пользователей из Москвы отличается от выручки пользователей из других регионов - опровергнута."
   ]
  },
  {
   "cell_type": "markdown",
   "metadata": {},
   "source": [
    "# Шаг 5. Напишите общий вывод"
   ]
  },
  {
   "cell_type": "markdown",
   "metadata": {},
   "source": [
    "Было проведено исследование \"Определение перспективного тарифа для телеком компании\" и сделаны следующие выводы:\n",
    "\n",
    "### SMART\n",
    "<div style=\"border:solid black 1px; padding: 20px\">\n",
    "    \n",
    "  - Количество звонков держалось в районе 60;\n",
    "  - люди не \"проговаривали\" примерно 1/4 от лимита;\n",
    "  - количество сообщений в месяц держится около 30;\n",
    "  - клиенты потребляют больше интернет трафика, чем в тарифе заявленно, и с каждым месяцем превышение все больше;\n",
    "  - люди в среднем готовы доплачивать за дополнительный трафик даже больше, чем абонентская плата (670 руб. сверху);\n",
    "  - в среднем людям нужно:  \n",
    "    - 430 мин;\n",
    "    - 34 SMS;\n",
    "    - 17 Гб.\n",
    "\n",
    "</div>\n",
    "\n",
    "### ULTRA\n",
    "<div style=\"border:solid black 1px; padding: 20px\">\n",
    "    \n",
    "  - Количество звонков росло в течении всего периода;\n",
    "  - длительность звонков в месяц растет, но составляет только 1/5 от общего лимита;\n",
    "  - количество SMS растет, но по сравнению с лимитом, даже 50 сообщений в месяц это очень мало;\n",
    "  - в среднем, интернетом пользователи ultra пользуются больше и потребление трафика увеличивается, но есть еще в запасе около 1/3 от лимита;\n",
    "  - люди в среднем практически не переплачивают за доп. траффик (100 руб.), однако они не используют все возможности тарифа;\n",
    "  - в среднем людям нужно:  \n",
    "    - 560 мин;\n",
    "    - 48 SMS;\n",
    "    - 20 Гб.\n",
    "    \n",
    "</div>\n",
    "\n",
    "Так же мы не смогли опровергли гипотезу о различии цены разных тарифов и опровергли гипотезу о том, что средняя выручка в москве больше.\n",
    "\n",
    "Я считаю, что более перспективным тарифом является smart, так как пользователей значительно больше, и многие готовы доплачивать за дополнительные услуги."
   ]
  }
 ],
 "metadata": {
  "kernelspec": {
   "display_name": "Python 3",
   "language": "python",
   "name": "python3"
  },
  "language_info": {
   "codemirror_mode": {
    "name": "ipython",
    "version": 3
   },
   "file_extension": ".py",
   "mimetype": "text/x-python",
   "name": "python",
   "nbconvert_exporter": "python",
   "pygments_lexer": "ipython3",
   "version": "3.8.5"
  }
 },
 "nbformat": 4,
 "nbformat_minor": 4
}
